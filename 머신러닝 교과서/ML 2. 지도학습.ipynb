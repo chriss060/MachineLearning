{
 "cells": [
  {
   "cell_type": "markdown",
   "metadata": {},
   "source": [
    "!['image'](https://www.researchgate.net/profile/Walayat-Hussain/publication/349860057/figure/fig1/AS:998592189825025@1615094339246/Machine-learning-algorithms-classification.ppm)"
   ]
  },
  {
   "cell_type": "markdown",
   "metadata": {},
   "source": [
    "### 일반화(Generalization)\n",
    "\n",
    "    : 일반적으로 훈련데이터와 테스트 데이터로 구분\n",
    "    \n",
    "    -> 훈련세트에 대헤 정확히 예측하도록 모델을 구축해도 테스트 세트에 대해 \n",
    "    \n",
    "       정확히 예측하도록 일반화 하기 어려움"
   ]
  },
  {
   "cell_type": "markdown",
   "metadata": {},
   "source": [
    "### 과대적합(overfitting)\n",
    "    : 너무 복잡한 모델을 만들어 훈련세트에 너무 가깝게 맞춰져 새로운 데이터에 일반화 불가\n",
    "    \n",
    "### 과소적합(underfitting)\n",
    "    : 너무 간단한 모델을 만들어 데이터의 다양성을 잡아내지 못하는 경우"
   ]
  },
  {
   "cell_type": "markdown",
   "metadata": {},
   "source": [
    "!['image'](https://velog.velcdn.com/images%2Frapsby%2Fpost%2F97d121fb-3489-412f-bf04-a3ec1a79678f%2Fimage.png)"
   ]
  },
  {
   "cell_type": "markdown",
   "metadata": {},
   "source": [
    "## 지도학습 알고리즘"
   ]
  },
  {
   "cell_type": "markdown",
   "metadata": {},
   "source": [
    "### 데이터 셋 준비하기\n",
    "    - forge 데이터 셋 : 인위적으로 만든 이진 분류 데이터 셋"
   ]
  },
  {
   "cell_type": "code",
   "execution_count": 5,
   "metadata": {},
   "outputs": [],
   "source": [
    "import numpy as np\n",
    "import matplotlib.pyplot as plt\n",
    "import pandas as pd\n",
    "import mglearn\n",
    "from matplotlib import font_manager, rc\n",
    "font_name = font_manager.FontProperties(fname=\"c:/Windows/Fonts/malgun.ttf\").get_name()\n",
    "rc('font', family=font_name)"
   ]
  },
  {
   "cell_type": "code",
   "execution_count": 6,
   "metadata": {},
   "outputs": [],
   "source": [
    "X , y = mglearn.datasets.make_forge()"
   ]
  },
  {
   "cell_type": "code",
   "execution_count": 7,
   "metadata": {},
   "outputs": [
    {
     "name": "stdout",
     "output_type": "stream",
     "text": [
      "X.shape (26, 2)\n"
     ]
    },
    {
     "name": "stderr",
     "output_type": "stream",
     "text": [
      "C:\\Users\\user\\Anaconda3\\lib\\site-packages\\matplotlib\\backends\\backend_agg.py:211: RuntimeWarning: Glyph 8722 missing from current font.\n",
      "  font.set_text(s, 0.0, flags=flags)\n",
      "C:\\Users\\user\\Anaconda3\\lib\\site-packages\\matplotlib\\backends\\backend_agg.py:180: RuntimeWarning: Glyph 8722 missing from current font.\n",
      "  font.set_text(s, 0, flags=flags)\n"
     ]
    },
    {
     "data": {
      "image/png": "[encoded data removed]",
      "text/plain": [
       "<Figure size 432x288 with 1 Axes>"
      ]
     },
     "metadata": {
      "needs_background": "light"
     },
     "output_type": "display_data"
    }
   ],
   "source": [
    "mglearn.discrete_scatter(X[:,0],X[:,1],y)\n",
    "plt.legend(['클래스 0','클래스 1'],loc=4)\n",
    "plt.xlabel('첫번째 특성')\n",
    "plt.ylabel('두번째 특성')\n",
    "print('X.shape', X.shape)\n",
    "plt.show()"
   ]
  },
  {
   "cell_type": "markdown",
   "metadata": {},
   "source": [
    "#### 위스콘신 유방암 데이터 셋\n",
    "\n",
    "- 각 종양은 양성(benign)과 악성(malignant)으로 레이블 되어있으며 종양이 악성인지 예측"
   ]
  },
  {
   "cell_type": "code",
   "execution_count": 8,
   "metadata": {},
   "outputs": [
    {
     "name": "stdout",
     "output_type": "stream",
     "text": [
      "dict_keys(['data', 'target', 'frame', 'target_names', 'DESCR', 'feature_names', 'filename', 'data_module'])\n"
     ]
    }
   ],
   "source": [
    "from sklearn.datasets import load_breast_cancer\n",
    "cancer = load_breast_cancer()\n",
    "print(cancer.keys())"
   ]
  },
  {
   "cell_type": "code",
   "execution_count": 9,
   "metadata": {},
   "outputs": [
    {
     "name": "stdout",
     "output_type": "stream",
     "text": [
      ".. _breast_cancer_dataset:\n",
      "\n",
      "Breast cancer wisconsin (diagnostic) dataset\n",
      "--------------------------------------------\n",
      "\n",
      "**Data Set Characteristics:**\n",
      "\n",
      "    :Number of Instances: 569\n",
      "\n",
      "    :Number of Attributes: 30 numeric, predictive attributes and the class\n",
      "\n",
      "    :Attribute Information:\n",
      "        - radius (mean of distances from center to points on the perimeter)\n",
      "        - texture (standard deviation of gray-scale values)\n",
      "        - perimeter\n",
      "        - area\n",
      "        - smoothness (local variation in radius lengths)\n",
      "        - compactness (perimeter^2 / area - 1.0)\n",
      "        - concavity (severity of concave portions of the contour)\n",
      "        - concave points (number of concave portions of the contour)\n",
      "        - symmetry\n",
      "        - fractal dimension (\"coastline approximation\" - 1)\n",
      "\n",
      "        The mean, standard error, and \"worst\" or largest (mean of the three\n",
      "        worst/largest values) of these features were computed for each image,\n",
      "        resulting in 30 features.  For instance, field 0 is Mean Radius, field\n",
      "        10 is Radius SE, field 20 is Worst Radius.\n",
      "\n",
      "        - class:\n",
      "                - WDBC-Malignant\n",
      "                - WDBC-Benign\n",
      "\n",
      "    :Summary Statistics:\n",
      "\n",
      "    ===================================== ====== ======\n",
      "                                           Min    Max\n",
      "    ===================================== ====== ======\n",
      "    radius (mean):                        6.981  28.11\n",
      "    texture (mean):                       9.71   39.28\n",
      "    perimeter (mean):                     43.79  188.5\n",
      "    area (mean):                          143.5  2501.0\n",
      "    smoothness (mean):                    0.053  0.163\n",
      "    compactness (mean):                   0.019  0.345\n",
      "    concavity (mean):                     0.0    0.427\n",
      "    concave points (mean):                0.0    0.201\n",
      "    symmetry (mean):                      0.106  0.304\n",
      "    fractal dimension (mean):             0.05   0.097\n",
      "    radius (standard error):              0.112  2.873\n",
      "    texture (standard error):             0.36   4.885\n",
      "    perimeter (standard error):           0.757  21.98\n",
      "    area (standard error):                6.802  542.2\n",
      "    smoothness (standard error):          0.002  0.031\n",
      "    compactness (standard error):         0.002  0.135\n",
      "    concavity (standard error):           0.0    0.396\n",
      "    concave points (standard error):      0.0    0.053\n",
      "    symmetry (standard error):            0.008  0.079\n",
      "    fractal dimension (standard error):   0.001  0.03\n",
      "    radius (worst):                       7.93   36.04\n",
      "    texture (worst):                      12.02  49.54\n",
      "    perimeter (worst):                    50.41  251.2\n",
      "    area (worst):                         185.2  4254.0\n",
      "    smoothness (worst):                   0.071  0.223\n",
      "    compactness (worst):                  0.027  1.058\n",
      "    concavity (worst):                    0.0    1.252\n",
      "    concave points (worst):               0.0    0.291\n",
      "    symmetry (worst):                     0.156  0.664\n",
      "    fractal dimension (worst):            0.055  0.208\n",
      "    ===================================== ====== ======\n",
      "\n",
      "    :Missing Attribute Values: None\n",
      "\n",
      "    :Class Distribution: 212 - Malignant, 357 - Benign\n",
      "\n",
      "    :Creator:  Dr. William H. Wolberg, W. Nick Street, Olvi L. Mangasarian\n",
      "\n",
      "    :Donor: Nick Street\n",
      "\n",
      "    :Date: November, 1995\n",
      "\n",
      "This is a copy of UCI ML Breast Cancer Wisconsin (Diagnostic) datasets.\n",
      "https://goo.gl/U2Uwz2\n",
      "\n",
      "Features are computed from a digitized image of a fine needle\n",
      "aspirate (FNA) of a breast mass.  They describe\n",
      "characteristics of the cell nuclei present in the image.\n",
      "\n",
      "Separating plane described above was obtained using\n",
      "Multisurface Method-Tree (MSM-T) [K. P. Bennett, \"Decision Tree\n",
      "Construction Via Linear Programming.\" Proceedings of the 4th\n",
      "Midwest Artificial Intelligence and Cognitive Science Society,\n",
      "pp. 97-101, 1992], a classification method which uses linear\n",
      "programming to construct a decision tree.  Relevant features\n",
      "were selected using an exhaustive search in the space of 1-4\n",
      "features and 1-3 separating planes.\n",
      "\n",
      "The actual linear program used to obtain the separating plane\n",
      "in the 3-dimensional space is that described in:\n",
      "[K. P. Bennett and O. L. Mangasarian: \"Robust Linear\n",
      "Programming Discrimination of Two Linearly Inseparable Sets\",\n",
      "Optimization Methods and Software 1, 1992, 23-34].\n",
      "\n",
      "This database is also available through the UW CS ftp server:\n",
      "\n",
      "ftp ftp.cs.wisc.edu\n",
      "cd math-prog/cpo-dataset/machine-learn/WDBC/\n",
      "\n",
      ".. topic:: References\n",
      "\n",
      "   - W.N. Street, W.H. Wolberg and O.L. Mangasarian. Nuclear feature extraction \n",
      "     for breast tumor diagnosis. IS&T/SPIE 1993 International Symposium on \n",
      "     Electronic Imaging: Science and Technology, volume 1905, pages 861-870,\n",
      "     San Jose, CA, 1993.\n",
      "   - O.L. Mangasarian, W.N. Street and W.H. Wolberg. Breast cancer diagnosis and \n",
      "     prognosis via linear programming. Operations Research, 43(4), pages 570-577, \n",
      "     July-August 1995.\n",
      "   - W.H. Wolberg, W.N. Street, and O.L. Mangasarian. Machine learning techniques\n",
      "     to diagnose breast cancer from fine-needle aspirates. Cancer Letters 77 (1994) \n",
      "     163-171.\n"
     ]
    }
   ],
   "source": [
    "print(cancer.DESCR)"
   ]
  },
  {
   "cell_type": "code",
   "execution_count": 10,
   "metadata": {},
   "outputs": [
    {
     "name": "stdout",
     "output_type": "stream",
     "text": [
      "유방암 데이터의 형태 : (569, 30)\n"
     ]
    }
   ],
   "source": [
    "print('유방암 데이터의 형태 :', cancer.data.shape)"
   ]
  },
  {
   "cell_type": "markdown",
   "metadata": {},
   "source": [
    "#### np.bincount( ): 0과 1로 구성된 데이터 개수를 각각 세어주는 함수"
   ]
  },
  {
   "cell_type": "code",
   "execution_count": 11,
   "metadata": {},
   "outputs": [
    {
     "name": "stdout",
     "output_type": "stream",
     "text": [
      "클래스 별 샘플 개수 \n",
      " {'malignant': 212, 'benign': 357}\n"
     ]
    }
   ],
   "source": [
    "import numpy as np\n",
    "print('클래스 별 샘플 개수 \\n',\n",
    "     {n:v for n, v in zip(cancer.target_names, np.bincount(cancer.target))})"
   ]
  },
  {
   "cell_type": "code",
   "execution_count": 12,
   "metadata": {},
   "outputs": [
    {
     "name": "stdout",
     "output_type": "stream",
     "text": [
      "특성 이름: \n",
      " ['mean radius' 'mean texture' 'mean perimeter' 'mean area'\n",
      " 'mean smoothness' 'mean compactness' 'mean concavity'\n",
      " 'mean concave points' 'mean symmetry' 'mean fractal dimension'\n",
      " 'radius error' 'texture error' 'perimeter error' 'area error'\n",
      " 'smoothness error' 'compactness error' 'concavity error'\n",
      " 'concave points error' 'symmetry error' 'fractal dimension error'\n",
      " 'worst radius' 'worst texture' 'worst perimeter' 'worst area'\n",
      " 'worst smoothness' 'worst compactness' 'worst concavity'\n",
      " 'worst concave points' 'worst symmetry' 'worst fractal dimension']\n"
     ]
    }
   ],
   "source": [
    "print('특성 이름: \\n', cancer.feature_names)"
   ]
  },
  {
   "cell_type": "code",
   "execution_count": 13,
   "metadata": {},
   "outputs": [
    {
     "data": {
      "text/html": [
       "<div>\n",
       "<style scoped>\n",
       "    .dataframe tbody tr th:only-of-type {\n",
       "        vertical-align: middle;\n",
       "    }\n",
       "\n",
       "    .dataframe tbody tr th {\n",
       "        vertical-align: top;\n",
       "    }\n",
       "\n",
       "    .dataframe thead th {\n",
       "        text-align: right;\n",
       "    }\n",
       "</style>\n",
       "<table border=\"1\" class=\"dataframe\">\n",
       "  <thead>\n",
       "    <tr style=\"text-align: right;\">\n",
       "      <th></th>\n",
       "      <th>mean radius</th>\n",
       "      <th>mean texture</th>\n",
       "      <th>mean perimeter</th>\n",
       "      <th>mean area</th>\n",
       "      <th>mean smoothness</th>\n",
       "      <th>mean compactness</th>\n",
       "      <th>mean concavity</th>\n",
       "      <th>mean concave points</th>\n",
       "      <th>mean symmetry</th>\n",
       "      <th>mean fractal dimension</th>\n",
       "      <th>...</th>\n",
       "      <th>worst texture</th>\n",
       "      <th>worst perimeter</th>\n",
       "      <th>worst area</th>\n",
       "      <th>worst smoothness</th>\n",
       "      <th>worst compactness</th>\n",
       "      <th>worst concavity</th>\n",
       "      <th>worst concave points</th>\n",
       "      <th>worst symmetry</th>\n",
       "      <th>worst fractal dimension</th>\n",
       "      <th>label</th>\n",
       "    </tr>\n",
       "  </thead>\n",
       "  <tbody>\n",
       "    <tr>\n",
       "      <th>564</th>\n",
       "      <td>21.56</td>\n",
       "      <td>22.39</td>\n",
       "      <td>142.00</td>\n",
       "      <td>1479.0</td>\n",
       "      <td>0.11100</td>\n",
       "      <td>0.11590</td>\n",
       "      <td>0.24390</td>\n",
       "      <td>0.13890</td>\n",
       "      <td>0.1726</td>\n",
       "      <td>0.05623</td>\n",
       "      <td>...</td>\n",
       "      <td>26.40</td>\n",
       "      <td>166.10</td>\n",
       "      <td>2027.0</td>\n",
       "      <td>0.14100</td>\n",
       "      <td>0.21130</td>\n",
       "      <td>0.4107</td>\n",
       "      <td>0.2216</td>\n",
       "      <td>0.2060</td>\n",
       "      <td>0.07115</td>\n",
       "      <td>0</td>\n",
       "    </tr>\n",
       "    <tr>\n",
       "      <th>565</th>\n",
       "      <td>20.13</td>\n",
       "      <td>28.25</td>\n",
       "      <td>131.20</td>\n",
       "      <td>1261.0</td>\n",
       "      <td>0.09780</td>\n",
       "      <td>0.10340</td>\n",
       "      <td>0.14400</td>\n",
       "      <td>0.09791</td>\n",
       "      <td>0.1752</td>\n",
       "      <td>0.05533</td>\n",
       "      <td>...</td>\n",
       "      <td>38.25</td>\n",
       "      <td>155.00</td>\n",
       "      <td>1731.0</td>\n",
       "      <td>0.11660</td>\n",
       "      <td>0.19220</td>\n",
       "      <td>0.3215</td>\n",
       "      <td>0.1628</td>\n",
       "      <td>0.2572</td>\n",
       "      <td>0.06637</td>\n",
       "      <td>0</td>\n",
       "    </tr>\n",
       "    <tr>\n",
       "      <th>566</th>\n",
       "      <td>16.60</td>\n",
       "      <td>28.08</td>\n",
       "      <td>108.30</td>\n",
       "      <td>858.1</td>\n",
       "      <td>0.08455</td>\n",
       "      <td>0.10230</td>\n",
       "      <td>0.09251</td>\n",
       "      <td>0.05302</td>\n",
       "      <td>0.1590</td>\n",
       "      <td>0.05648</td>\n",
       "      <td>...</td>\n",
       "      <td>34.12</td>\n",
       "      <td>126.70</td>\n",
       "      <td>1124.0</td>\n",
       "      <td>0.11390</td>\n",
       "      <td>0.30940</td>\n",
       "      <td>0.3403</td>\n",
       "      <td>0.1418</td>\n",
       "      <td>0.2218</td>\n",
       "      <td>0.07820</td>\n",
       "      <td>0</td>\n",
       "    </tr>\n",
       "    <tr>\n",
       "      <th>567</th>\n",
       "      <td>20.60</td>\n",
       "      <td>29.33</td>\n",
       "      <td>140.10</td>\n",
       "      <td>1265.0</td>\n",
       "      <td>0.11780</td>\n",
       "      <td>0.27700</td>\n",
       "      <td>0.35140</td>\n",
       "      <td>0.15200</td>\n",
       "      <td>0.2397</td>\n",
       "      <td>0.07016</td>\n",
       "      <td>...</td>\n",
       "      <td>39.42</td>\n",
       "      <td>184.60</td>\n",
       "      <td>1821.0</td>\n",
       "      <td>0.16500</td>\n",
       "      <td>0.86810</td>\n",
       "      <td>0.9387</td>\n",
       "      <td>0.2650</td>\n",
       "      <td>0.4087</td>\n",
       "      <td>0.12400</td>\n",
       "      <td>0</td>\n",
       "    </tr>\n",
       "    <tr>\n",
       "      <th>568</th>\n",
       "      <td>7.76</td>\n",
       "      <td>24.54</td>\n",
       "      <td>47.92</td>\n",
       "      <td>181.0</td>\n",
       "      <td>0.05263</td>\n",
       "      <td>0.04362</td>\n",
       "      <td>0.00000</td>\n",
       "      <td>0.00000</td>\n",
       "      <td>0.1587</td>\n",
       "      <td>0.05884</td>\n",
       "      <td>...</td>\n",
       "      <td>30.37</td>\n",
       "      <td>59.16</td>\n",
       "      <td>268.6</td>\n",
       "      <td>0.08996</td>\n",
       "      <td>0.06444</td>\n",
       "      <td>0.0000</td>\n",
       "      <td>0.0000</td>\n",
       "      <td>0.2871</td>\n",
       "      <td>0.07039</td>\n",
       "      <td>1</td>\n",
       "    </tr>\n",
       "  </tbody>\n",
       "</table>\n",
       "<p>5 rows × 31 columns</p>\n",
       "</div>"
      ],
      "text/plain": [
       "     mean radius  mean texture  mean perimeter  mean area  mean smoothness  \\\n",
       "564        21.56         22.39          142.00     1479.0          0.11100   \n",
       "565        20.13         28.25          131.20     1261.0          0.09780   \n",
       "566        16.60         28.08          108.30      858.1          0.08455   \n",
       "567        20.60         29.33          140.10     1265.0          0.11780   \n",
       "568         7.76         24.54           47.92      181.0          0.05263   \n",
       "\n",
       "     mean compactness  mean concavity  mean concave points  mean symmetry  \\\n",
       "564           0.11590         0.24390              0.13890         0.1726   \n",
       "565           0.10340         0.14400              0.09791         0.1752   \n",
       "566           0.10230         0.09251              0.05302         0.1590   \n",
       "567           0.27700         0.35140              0.15200         0.2397   \n",
       "568           0.04362         0.00000              0.00000         0.1587   \n",
       "\n",
       "     mean fractal dimension  ...  worst texture  worst perimeter  worst area  \\\n",
       "564                 0.05623  ...          26.40           166.10      2027.0   \n",
       "565                 0.05533  ...          38.25           155.00      1731.0   \n",
       "566                 0.05648  ...          34.12           126.70      1124.0   \n",
       "567                 0.07016  ...          39.42           184.60      1821.0   \n",
       "568                 0.05884  ...          30.37            59.16       268.6   \n",
       "\n",
       "     worst smoothness  worst compactness  worst concavity  \\\n",
       "564           0.14100            0.21130           0.4107   \n",
       "565           0.11660            0.19220           0.3215   \n",
       "566           0.11390            0.30940           0.3403   \n",
       "567           0.16500            0.86810           0.9387   \n",
       "568           0.08996            0.06444           0.0000   \n",
       "\n",
       "     worst concave points  worst symmetry  worst fractal dimension  label  \n",
       "564                0.2216          0.2060                  0.07115      0  \n",
       "565                0.1628          0.2572                  0.06637      0  \n",
       "566                0.1418          0.2218                  0.07820      0  \n",
       "567                0.2650          0.4087                  0.12400      0  \n",
       "568                0.0000          0.2871                  0.07039      1  \n",
       "\n",
       "[5 rows x 31 columns]"
      ]
     },
     "execution_count": 13,
     "metadata": {},
     "output_type": "execute_result"
    }
   ],
   "source": [
    "cancer_data = cancer.data\n",
    "cancer_df = pd.DataFrame(data=cancer_data, columns=cancer.feature_names)\n",
    "cancer_df['label']=cancer.target\n",
    "cancer_df.tail(5)"
   ]
  },
  {
   "cell_type": "markdown",
   "metadata": {},
   "source": [
    "#### 회귀분석용 보스턴 주택가격 데이터셋"
   ]
  },
  {
   "cell_type": "code",
   "execution_count": 14,
   "metadata": {},
   "outputs": [
    {
     "name": "stdout",
     "output_type": "stream",
     "text": [
      "X.shape: (506, 104)\n"
     ]
    }
   ],
   "source": [
    "import warnings\n",
    "warnings.filterwarnings('ignore', category=FutureWarning)\n",
    "from sklearn.datasets import load_boston\n",
    "boston = load_boston()\n",
    "\n",
    "X ,y = mglearn.datasets.load_extended_boston()\n",
    "print('X.shape:',X.shape)"
   ]
  },
  {
   "cell_type": "code",
   "execution_count": 15,
   "metadata": {
    "scrolled": true
   },
   "outputs": [
    {
     "data": {
      "text/html": [
       "<div>\n",
       "<style scoped>\n",
       "    .dataframe tbody tr th:only-of-type {\n",
       "        vertical-align: middle;\n",
       "    }\n",
       "\n",
       "    .dataframe tbody tr th {\n",
       "        vertical-align: top;\n",
       "    }\n",
       "\n",
       "    .dataframe thead th {\n",
       "        text-align: right;\n",
       "    }\n",
       "</style>\n",
       "<table border=\"1\" class=\"dataframe\">\n",
       "  <thead>\n",
       "    <tr style=\"text-align: right;\">\n",
       "      <th></th>\n",
       "      <th>CRIM</th>\n",
       "      <th>ZN</th>\n",
       "      <th>INDUS</th>\n",
       "      <th>CHAS</th>\n",
       "      <th>NOX</th>\n",
       "      <th>RM</th>\n",
       "      <th>AGE</th>\n",
       "      <th>DIS</th>\n",
       "      <th>RAD</th>\n",
       "      <th>TAX</th>\n",
       "      <th>PTRATIO</th>\n",
       "      <th>B</th>\n",
       "      <th>LSTAT</th>\n",
       "      <th>label</th>\n",
       "    </tr>\n",
       "  </thead>\n",
       "  <tbody>\n",
       "    <tr>\n",
       "      <th>501</th>\n",
       "      <td>0.06263</td>\n",
       "      <td>0.0</td>\n",
       "      <td>11.93</td>\n",
       "      <td>0.0</td>\n",
       "      <td>0.573</td>\n",
       "      <td>6.593</td>\n",
       "      <td>69.1</td>\n",
       "      <td>2.4786</td>\n",
       "      <td>1.0</td>\n",
       "      <td>273.0</td>\n",
       "      <td>21.0</td>\n",
       "      <td>391.99</td>\n",
       "      <td>9.67</td>\n",
       "      <td>22.4</td>\n",
       "    </tr>\n",
       "    <tr>\n",
       "      <th>502</th>\n",
       "      <td>0.04527</td>\n",
       "      <td>0.0</td>\n",
       "      <td>11.93</td>\n",
       "      <td>0.0</td>\n",
       "      <td>0.573</td>\n",
       "      <td>6.120</td>\n",
       "      <td>76.7</td>\n",
       "      <td>2.2875</td>\n",
       "      <td>1.0</td>\n",
       "      <td>273.0</td>\n",
       "      <td>21.0</td>\n",
       "      <td>396.90</td>\n",
       "      <td>9.08</td>\n",
       "      <td>20.6</td>\n",
       "    </tr>\n",
       "    <tr>\n",
       "      <th>503</th>\n",
       "      <td>0.06076</td>\n",
       "      <td>0.0</td>\n",
       "      <td>11.93</td>\n",
       "      <td>0.0</td>\n",
       "      <td>0.573</td>\n",
       "      <td>6.976</td>\n",
       "      <td>91.0</td>\n",
       "      <td>2.1675</td>\n",
       "      <td>1.0</td>\n",
       "      <td>273.0</td>\n",
       "      <td>21.0</td>\n",
       "      <td>396.90</td>\n",
       "      <td>5.64</td>\n",
       "      <td>23.9</td>\n",
       "    </tr>\n",
       "    <tr>\n",
       "      <th>504</th>\n",
       "      <td>0.10959</td>\n",
       "      <td>0.0</td>\n",
       "      <td>11.93</td>\n",
       "      <td>0.0</td>\n",
       "      <td>0.573</td>\n",
       "      <td>6.794</td>\n",
       "      <td>89.3</td>\n",
       "      <td>2.3889</td>\n",
       "      <td>1.0</td>\n",
       "      <td>273.0</td>\n",
       "      <td>21.0</td>\n",
       "      <td>393.45</td>\n",
       "      <td>6.48</td>\n",
       "      <td>22.0</td>\n",
       "    </tr>\n",
       "    <tr>\n",
       "      <th>505</th>\n",
       "      <td>0.04741</td>\n",
       "      <td>0.0</td>\n",
       "      <td>11.93</td>\n",
       "      <td>0.0</td>\n",
       "      <td>0.573</td>\n",
       "      <td>6.030</td>\n",
       "      <td>80.8</td>\n",
       "      <td>2.5050</td>\n",
       "      <td>1.0</td>\n",
       "      <td>273.0</td>\n",
       "      <td>21.0</td>\n",
       "      <td>396.90</td>\n",
       "      <td>7.88</td>\n",
       "      <td>11.9</td>\n",
       "    </tr>\n",
       "  </tbody>\n",
       "</table>\n",
       "</div>"
      ],
      "text/plain": [
       "        CRIM   ZN  INDUS  CHAS    NOX     RM   AGE     DIS  RAD    TAX  \\\n",
       "501  0.06263  0.0  11.93   0.0  0.573  6.593  69.1  2.4786  1.0  273.0   \n",
       "502  0.04527  0.0  11.93   0.0  0.573  6.120  76.7  2.2875  1.0  273.0   \n",
       "503  0.06076  0.0  11.93   0.0  0.573  6.976  91.0  2.1675  1.0  273.0   \n",
       "504  0.10959  0.0  11.93   0.0  0.573  6.794  89.3  2.3889  1.0  273.0   \n",
       "505  0.04741  0.0  11.93   0.0  0.573  6.030  80.8  2.5050  1.0  273.0   \n",
       "\n",
       "     PTRATIO       B  LSTAT  label  \n",
       "501     21.0  391.99   9.67   22.4  \n",
       "502     21.0  396.90   9.08   20.6  \n",
       "503     21.0  396.90   5.64   23.9  \n",
       "504     21.0  393.45   6.48   22.0  \n",
       "505     21.0  396.90   7.88   11.9  "
      ]
     },
     "execution_count": 15,
     "metadata": {},
     "output_type": "execute_result"
    }
   ],
   "source": [
    "boston_df = pd.DataFrame(data=boston.data, columns=boston.feature_names)\n",
    "boston_df['label']=boston.target\n",
    "boston_df.tail(5)"
   ]
  },
  {
   "cell_type": "markdown",
   "metadata": {},
   "source": [
    "# 1. 분류 모델"
   ]
  },
  {
   "cell_type": "markdown",
   "metadata": {},
   "source": [
    "## K 최근접 이웃  분류 (K-Nearest Neighbors Classification)\n",
    "    \n",
    "    - 가장 가까운 최근접 이웃의 평균을 예측값으로 취함\n",
    "    - 데이터 포인트 주변에 가장 가까이 존재하는 k개의 데이터와 비교함"
   ]
  },
  {
   "cell_type": "code",
   "execution_count": 16,
   "metadata": {},
   "outputs": [
    {
     "name": "stderr",
     "output_type": "stream",
     "text": [
      "C:\\Users\\user\\Anaconda3\\lib\\site-packages\\matplotlib\\backends\\backend_agg.py:211: RuntimeWarning: Glyph 8722 missing from current font.\n",
      "  font.set_text(s, 0.0, flags=flags)\n",
      "C:\\Users\\user\\Anaconda3\\lib\\site-packages\\matplotlib\\backends\\backend_agg.py:180: RuntimeWarning: Glyph 8722 missing from current font.\n",
      "  font.set_text(s, 0, flags=flags)\n"
     ]
    },
    {
     "data": {
      "image/png": "[encoded data removed]",
      "text/plain": [
       "<Figure size 432x288 with 1 Axes>"
      ]
     },
     "metadata": {
      "needs_background": "light"
     },
     "output_type": "display_data"
    }
   ],
   "source": [
    "mglearn.plots.plot_knn_classification(n_neighbors=1)"
   ]
  },
  {
   "cell_type": "code",
   "execution_count": 17,
   "metadata": {},
   "outputs": [],
   "source": [
    "from sklearn.model_selection import train_test_split\n",
    "X, y = mglearn.datasets.make_forge()\n",
    "\n",
    "X_train, X_test, y_train, y_test = train_test_split(X, y, random_state=0)"
   ]
  },
  {
   "cell_type": "code",
   "execution_count": 18,
   "metadata": {},
   "outputs": [
    {
     "data": {
      "text/plain": [
       "KNeighborsClassifier(n_neighbors=3)"
      ]
     },
     "execution_count": 18,
     "metadata": {},
     "output_type": "execute_result"
    }
   ],
   "source": [
    "from sklearn.neighbors import KNeighborsClassifier\n",
    "clf = KNeighborsClassifier(n_neighbors=3)\n",
    "clf.fit(X_train, y_train)"
   ]
  },
  {
   "cell_type": "code",
   "execution_count": 19,
   "metadata": {},
   "outputs": [],
   "source": [
    "from sklearn.neighbors import KNeighborsClassifier\n",
    "from sklearn.model_selection import train_test_split"
   ]
  },
  {
   "cell_type": "code",
   "execution_count": 20,
   "metadata": {},
   "outputs": [
    {
     "data": {
      "image/png": "[encoded data removed]",
      "text/plain": [
       "<Figure size 720x216 with 3 Axes>"
      ]
     },
     "metadata": {},
     "output_type": "display_data"
    }
   ],
   "source": [
    "#subplot 1줄에 3개짜리 생성\n",
    "fig, axes = plt.subplots(1, 3, figsize=(10, 3))\n",
    "\n",
    "#이웃의 갯수에 따른 최근접 이웃 모델의 경계\n",
    "#1개/3개/9개의 이웃일 때의 경계를 표시\n",
    "for n_neighbors, ax in zip([1, 3, 9], axes):\n",
    "    #fit메소드는 self 오브젝트를 리턴\n",
    "    #객체 생성과 fit 메소드를 한 줄에 쓸 수 있음\n",
    "    clf = KNeighborsClassifier(n_neighbors=n_neighbors).fit(X, y) #epsilon\n",
    "    mglearn.plots.plot_2d_separator(clf, X, fill=True, eps=0.5, ax=ax, alpha=.4)\n",
    "    mglearn.discrete_scatter(X[:, 0], X[:, 1], y, ax=ax)\n",
    "    ax.set_title(\"{} 이웃\".format(n_neighbors))\n",
    "    ax.set_xlabel(\"특성 0\")\n",
    "    ax.set_ylabel(\"특성 1\")\n",
    "axes[0].legend(loc=3)\n",
    "plt.show()"
   ]
  },
  {
   "cell_type": "markdown",
   "metadata": {},
   "source": [
    "## 유방암 데이터세트 성능 평가\n",
    "\n",
    "### 모델의 복잡도와 일반화 사이의 관계"
   ]
  },
  {
   "cell_type": "markdown",
   "metadata": {},
   "source": [
    "- 이웃의 수가 적으면 모델은 복잡해지고 훈련 정확도는 큼(과대적합)\n",
    "- 이웃의 수가 커지면 모델은 단순해 지고 훈련 정확도는 줄어듦(과소적합)\n",
    "- 반대로 테스트 정확도는 높아지지만 이웃의 수가 클 때는 모델이 단순해 지므로 정확도가 감소"
   ]
  },
  {
   "cell_type": "code",
   "execution_count": 21,
   "metadata": {},
   "outputs": [
    {
     "data": {
      "image/png": "[encoded data removed]",
      "text/plain": [
       "<Figure size 432x288 with 1 Axes>"
      ]
     },
     "metadata": {
      "needs_background": "light"
     },
     "output_type": "display_data"
    }
   ],
   "source": [
    "from sklearn.datasets import load_breast_cancer\n",
    "\n",
    "cancer = load_breast_cancer()\n",
    "\n",
    "X_train, X_test, y_train, y_test = train_test_split(\n",
    "    cancer.data, cancer.target, stratify=cancer.target, random_state=66)\n",
    "\n",
    "training_accuracy = []\n",
    "test_accuracy = []\n",
    "# 1 에서 10 까지 n_neighbors 를 적용\n",
    "neighbors_settings = np.arange(2, 10)\n",
    "\n",
    "for n_neighbors in neighbors_settings:\n",
    "    # 모델 생성\n",
    "    clf = KNeighborsClassifier(n_neighbors=n_neighbors)\n",
    "    clf.fit(X_train, y_train)\n",
    "    # 훈련 세트 정확도 저장\n",
    "    training_accuracy.append(clf.score(X_train, y_train))\n",
    "    # 일반화 정확도 저장\n",
    "    test_accuracy.append(clf.score(X_test, y_test))\n",
    "    \n",
    "plt.plot(neighbors_settings, training_accuracy, label=\"훈련 정확도\")\n",
    "plt.plot(neighbors_settings, test_accuracy, label=\"테스트 정확도\")\n",
    "plt.ylabel(\"정확도\")\n",
    "plt.xlabel(\"n_neighbors\")\n",
    "plt.legend()\n",
    "plt.show() "
   ]
  },
  {
   "cell_type": "markdown",
   "metadata": {},
   "source": [
    "### K-Neighbors Regression(K-최근접 이웃회귀)"
   ]
  },
  {
   "cell_type": "code",
   "execution_count": 22,
   "metadata": {},
   "outputs": [
    {
     "name": "stderr",
     "output_type": "stream",
     "text": [
      "C:\\Users\\user\\Anaconda3\\lib\\site-packages\\matplotlib\\backends\\backend_agg.py:211: RuntimeWarning: Glyph 8722 missing from current font.\n",
      "  font.set_text(s, 0.0, flags=flags)\n",
      "C:\\Users\\user\\Anaconda3\\lib\\site-packages\\matplotlib\\backends\\backend_agg.py:180: RuntimeWarning: Glyph 8722 missing from current font.\n",
      "  font.set_text(s, 0, flags=flags)\n"
     ]
    },
    {
     "data": {
      "image/png": "[encoded data removed]",
      "text/plain": [
       "<Figure size 720x432 with 1 Axes>"
      ]
     },
     "metadata": {
      "needs_background": "light"
     },
     "output_type": "display_data"
    }
   ],
   "source": [
    "mglearn.plots.plot_knn_regression(n_neighbors=1)"
   ]
  },
  {
   "cell_type": "code",
   "execution_count": 23,
   "metadata": {},
   "outputs": [
    {
     "data": {
      "text/plain": [
       "KNeighborsRegressor(metric='manhattan', n_neighbors=3)"
      ]
     },
     "execution_count": 23,
     "metadata": {},
     "output_type": "execute_result"
    }
   ],
   "source": [
    "from sklearn.neighbors import KNeighborsRegressor\n",
    "\n",
    "X, y = mglearn.datasets.make_wave(n_samples=40)\n",
    "\n",
    "X_train, X_test, y_train, y_test = train_test_split(X, y, random_state=0)\n",
    "\n",
    "reg = KNeighborsRegressor(n_neighbors=3, metric='manhattan')\n",
    "reg.fit(X_train, y_train)"
   ]
  },
  {
   "cell_type": "code",
   "execution_count": 24,
   "metadata": {},
   "outputs": [
    {
     "name": "stdout",
     "output_type": "stream",
     "text": [
      "테스트 세트 예측\n",
      " [-0.05396539  0.35686046  1.13671923 -1.89415682 -1.13881398 -1.63113382\n",
      "  0.35686046  0.91241374 -0.44680446 -1.13881398]\n"
     ]
    }
   ],
   "source": [
    "print('테스트 세트 예측\\n', reg.predict(X_test))"
   ]
  },
  {
   "cell_type": "markdown",
   "metadata": {},
   "source": [
    "## KNeighborsRegression 분석"
   ]
  },
  {
   "cell_type": "markdown",
   "metadata": {},
   "source": [
    "#### Wave 데이터 세트 성능 평가 결과\n",
    "    \n",
    "        - 이웃을 적게 사용하면 매우 불안정한 예측\n",
    "        - 이웃을 많이 사용하면 테스트 데이터에는 잘 안맞지만 안정된 예측"
   ]
  },
  {
   "cell_type": "code",
   "execution_count": 25,
   "metadata": {},
   "outputs": [
    {
     "data": {
      "image/png": "[encoded data removed]",
      "text/plain": [
       "<Figure size 1080x288 with 3 Axes>"
      ]
     },
     "metadata": {
      "needs_background": "light"
     },
     "output_type": "display_data"
    }
   ],
   "source": [
    "import matplotlib\n",
    "matplotlib.rcParams['axes.unicode_minus'] = False\n",
    "fig, axes = plt.subplots(1, 3, figsize=(15, 4))\n",
    "# -3 과 3 사이에 1,000 개의 데이터 포인트를 만듭니다\n",
    "line = np.linspace(-3, 3, 1000).reshape(-1, 1)\n",
    "for n_neighbors, ax in zip([1, 3, 9], axes):\n",
    "    # 1, 3, 9 이웃을 사용한 예측을 합니다\n",
    "    reg = KNeighborsRegressor(n_neighbors=n_neighbors)\n",
    "    reg.fit(X_train, y_train)\n",
    "    ax.plot(line, reg.predict(line))\n",
    "    ax.plot(X_train, y_train, '^', c=mglearn.cm2(0), markersize=8)\n",
    "    ax.plot(X_test, y_test, 'v', c=mglearn.cm2(1), markersize=8)\n",
    "\n",
    "    ax.set_title(\n",
    "        \"{} 이웃의 훈련 스코어: {:.2f} 테스트 스코어: {:.2f}\".format(\n",
    "            n_neighbors, reg.score(X_train, y_train), reg.score(X_test, y_test)))\n",
    "    ax.set_xlabel(\"특성\")\n",
    "    ax.set_ylabel(\"타깃\")\n",
    "axes[0].legend([\"모델 예측\", \"훈련 데이터/타깃\", \"테스트 데이터/타깃\"], loc=\"best\")\n",
    "plt.show()"
   ]
  },
  {
   "cell_type": "markdown",
   "metadata": {},
   "source": [
    "# 2. 선형 모델(linear Model)"
   ]
  },
  {
   "cell_type": "markdown",
   "metadata": {},
   "source": [
    "### 회귀 선형 모델"
   ]
  },
  {
   "cell_type": "code",
   "execution_count": 26,
   "metadata": {
    "scrolled": false
   },
   "outputs": [
    {
     "name": "stdout",
     "output_type": "stream",
     "text": [
      "w[0]: 0.393906  b: -0.031804\n"
     ]
    },
    {
     "data": {
      "image/png": "[encoded data removed]",
      "text/plain": [
       "<Figure size 576x576 with 1 Axes>"
      ]
     },
     "metadata": {
      "needs_background": "light"
     },
     "output_type": "display_data"
    }
   ],
   "source": [
    "mglearn.plots.plot_linear_regression_wave()"
   ]
  },
  {
   "cell_type": "markdown",
   "metadata": {},
   "source": [
    "## 최소적합법"
   ]
  },
  {
   "cell_type": "code",
   "execution_count": 27,
   "metadata": {},
   "outputs": [],
   "source": [
    "from sklearn.linear_model import LinearRegression\n",
    "X, y = mglearn.datasets.make_wave(n_samples=60)\n",
    "X_train, X_test, y_train, y_test = train_test_split(X, y, random_state=42)\n",
    "\n",
    "lr = LinearRegression().fit(X_train, y_train)"
   ]
  },
  {
   "cell_type": "code",
   "execution_count": 28,
   "metadata": {},
   "outputs": [
    {
     "name": "stdout",
     "output_type": "stream",
     "text": [
      "lr.coef_: [0.39390555]\n",
      "lr.intercept_: -0.031804343026759746\n",
      "훈련 세트 점수: 0.67\n",
      "테스트 세트 점수: 0.66\n"
     ]
    }
   ],
   "source": [
    "print(\"lr.coef_:\", lr.coef_)\n",
    "print(\"lr.intercept_:\", lr.intercept_)\n",
    "print(\"훈련 세트 점수: {:.2f}\".format(lr.score(X_train, y_train)))\n",
    "print(\"테스트 세트 점수: {:.2f}\".format(lr.score(X_test, y_test)))"
   ]
  },
  {
   "cell_type": "code",
   "execution_count": 29,
   "metadata": {},
   "outputs": [],
   "source": [
    "import warnings\n",
    "warnings.filterwarnings('ignore', category=FutureWarning)\n",
    "X, y = mglearn.datasets.load_extended_boston()\n",
    "\n",
    "X_train, X_test, y_train, y_test = train_test_split(X, y, random_state=0)\n",
    "lr = LinearRegression().fit(X_train, y_train)"
   ]
  },
  {
   "cell_type": "code",
   "execution_count": 30,
   "metadata": {},
   "outputs": [
    {
     "name": "stdout",
     "output_type": "stream",
     "text": [
      "훈련 세트 점수: 0.95\n",
      "테스트 세트 점수: 0.61\n"
     ]
    }
   ],
   "source": [
    "print(\"훈련 세트 점수: {:.2f}\".format(lr.score(X_train, y_train)))\n",
    "print(\"테스트 세트 점수: {:.2f}\".format(lr.score(X_test, y_test)))"
   ]
  },
  {
   "cell_type": "markdown",
   "metadata": {},
   "source": [
    "### 릿지 회귀 - L2 규제\n",
    "\n",
    "!['image'](https://blog.kakaocdn.net/dn/phZk0/btq3DwvcSNQ/zyrunIPkBktf0S3i0kQ0fK/img.png)"
   ]
  },
  {
   "cell_type": "markdown",
   "metadata": {},
   "source": [
    "* LinearRegression에 비해 훈련 세트에서는 점수가 낮지만 테스트 세트에 대한 점수는 더 높다\n",
    "* 선형 회귀는 이 데이터 셋에서 과대적합되지만 Ridge는 덜 자유로운 모델이기에 과대 적합이 적어진다.\n",
    "* 모델의 복잡도가 낮아지면 훈련 세트에서의 성능은 나빠지지만 더 일반화된 모델이 된다.\n",
    "* 우리가 관심있는 것은 훈련세트가 아닌 테스트 세트이므로 Ridge 모델을 선택해야 한다\n",
    "* Ridge는 모델을 단순하게 해 주고 훈련세트에 대한 성능 사이를 절충할 수 있는 방법을 제공"
   ]
  },
  {
   "cell_type": "markdown",
   "metadata": {},
   "source": [
    "##### alpha 값에 따른 규제 "
   ]
  },
  {
   "cell_type": "code",
   "execution_count": 31,
   "metadata": {},
   "outputs": [
    {
     "name": "stdout",
     "output_type": "stream",
     "text": [
      "훈련 세트 점수: 0.89\n",
      "테스트 세트 점수: 0.75\n"
     ]
    }
   ],
   "source": [
    "from sklearn.linear_model import Ridge\n",
    "\n",
    "ridge = Ridge().fit(X_train, y_train)\n",
    "print(\"훈련 세트 점수: {:.2f}\".format(ridge.score(X_train, y_train)))\n",
    "print(\"테스트 세트 점수: {:.2f}\".format(ridge.score(X_test, y_test)))"
   ]
  },
  {
   "cell_type": "code",
   "execution_count": 32,
   "metadata": {},
   "outputs": [
    {
     "name": "stdout",
     "output_type": "stream",
     "text": [
      "훈련 세트 점수: 0.79\n",
      "테스트 세트 점수: 0.64\n"
     ]
    }
   ],
   "source": [
    "#alpha 매개변수로 훈련 세트의 성능 대비 모델을 얼마나 단순화 할지 지정\n",
    "#alpha 값을 높이면 계수를 0에 더 가깝게 만들어 훈련세트의 성능은 나빠지지만 일반화가 쉬움\n",
    "#Train data score와 test data score 값 차이가 적을수록 일반화\n",
    "\n",
    "ridge10 = Ridge(alpha=10).fit(X_train, y_train)\n",
    "print(\"훈련 세트 점수: {:.2f}\".format(ridge10.score(X_train, y_train)))\n",
    "print(\"테스트 세트 점수: {:.2f}\".format(ridge10.score(X_test, y_test)))"
   ]
  },
  {
   "cell_type": "code",
   "execution_count": 33,
   "metadata": {},
   "outputs": [
    {
     "name": "stdout",
     "output_type": "stream",
     "text": [
      "훈련 세트 점수: 0.93\n",
      "테스트 세트 점수: 0.77\n"
     ]
    }
   ],
   "source": [
    "#반대로 alpha 값을 줄이면 계수에 대한 제약이 그만큼 풀리면서 \n",
    "#LinearRegression을 만든 모델과 거의 같아짐\n",
    "ridge01 = Ridge(alpha=0.1).fit(X_train, y_train)\n",
    "print(\"훈련 세트 점수: {:.2f}\".format(ridge01.score(X_train, y_train)))\n",
    "print(\"테스트 세트 점수: {:.2f}\".format(ridge01.score(X_test, y_test)))"
   ]
  },
  {
   "cell_type": "markdown",
   "metadata": {},
   "source": [
    "####  alpha 값에 따른 coef 속성의 변화 확인하기\n",
    "* alpha값에 다른 coef속성의 변화를 그래프로 확인\n",
    "* alpha 매개변수가 모델을 어떻게 변경시키는지 이해 가능\n",
    "* alpha값이 높으면 제약이 많으므로 작은값일 때 보다 절대값의 크기가 작음(일반화가 쉬워짐)\n",
    "* 규제는 머신러닝 모델이 훈련세트를 너무 과도하게 학습하지 못하도록 방해하는 것"
   ]
  },
  {
   "cell_type": "code",
   "execution_count": 34,
   "metadata": {},
   "outputs": [
    {
     "data": {
      "image/png": "[encoded data removed]",
      "text/plain": [
       "<Figure size 432x288 with 1 Axes>"
      ]
     },
     "metadata": {
      "needs_background": "light"
     },
     "output_type": "display_data"
    }
   ],
   "source": [
    "plt.plot(ridge10.coef_, '^', label=\"Ridge alpha=10\")\n",
    "plt.plot(ridge.coef_, 's', label=\"Ridge alpha=1\")\n",
    "plt.plot(ridge01.coef_, 'v', label=\"Ridge alpha=0.1\")\n",
    "\n",
    "plt.plot(lr.coef_, 'o', label=\"LinearRegression\")\n",
    "plt.xlabel(\"계수 목록\")\n",
    "plt.ylabel(\"계수 크기\")\n",
    "xlims = plt.xlim()\n",
    "plt.hlines(0, xlims[0], xlims[1])\n",
    "plt.xlim(xlims)\n",
    "plt.ylim(-25, 25)\n",
    "plt.legend()\n",
    "plt.show() "
   ]
  },
  {
   "cell_type": "markdown",
   "metadata": {},
   "source": [
    "##### 위 그림은 선형회귀/Ridge 회귀의 alpha값에 다른 그래프를 확인할 수 있음\n",
    "##### alpha 값이 커질수록 0에 가까워 짐을 확인할 수 있음 -> score는 낮아지지만 일반화 되어짐"
   ]
  },
  {
   "cell_type": "markdown",
   "metadata": {},
   "source": [
    "### 데이터 셋의 크기에 따른 모델의 성능 변화 확인하기\n",
    "##### 학습 곡선 : 데이터셋의 샘플링에 따른 모델의 성능변화 그래프"
   ]
  },
  {
   "cell_type": "code",
   "execution_count": 35,
   "metadata": {},
   "outputs": [
    {
     "data": {
      "image/png": "[encoded data removed]",
      "text/plain": [
       "<Figure size 432x288 with 1 Axes>"
      ]
     },
     "metadata": {
      "needs_background": "light"
     },
     "output_type": "display_data"
    }
   ],
   "source": [
    "mglearn.plots.plot_ridge_n_samples()"
   ]
  },
  {
   "cell_type": "markdown",
   "metadata": {},
   "source": [
    "##### 모든 데이터셋에 대해 릿지와 선형회귀 모두 훈련세트 점수가 테스트 세트 점수보다 높다.\n",
    "\n",
    "* 릿지 회귀에는 규제가 적용되므로 릿지훈련데이터 점수가 전체적으로 선형회귀 훈련데이터 점수보다 낮음\n",
    "* 그러나 테스트 데이터에서 릿지의 점수가 더 높고, 특별히 작은 데이터 셋에서는 더 그렇다.\n",
    "* 두 모델의 성능은 데이터가 많아질수록 좋아지고 마지막에 선형 회귀가 리지 회귀가 따라잡음\n",
    "* 데이터를 충분히 주면 규제항은 덜 중요해져서 리지 회귀와 선형회귀의 성능이 같아짐 "
   ]
  },
  {
   "cell_type": "markdown",
   "metadata": {},
   "source": [
    "### 라소 - L1 규제"
   ]
  },
  {
   "cell_type": "markdown",
   "metadata": {},
   "source": [
    "* 릿지 회귀에서와 같이 라소도 계수를 0에 가깝게 만들 수 있음\n",
    "* L1규제를 하면 어떤 계수는 정말 0 이 되고, 모델에서 완전히 제외되는 특성이 생김"
   ]
  },
  {
   "cell_type": "markdown",
   "metadata": {},
   "source": [
    "!['image'](https://blog.kakaocdn.net/dn/bKAfrE/btqufceqZ3r/r8lm3SzgZYeQnTYK1K9cM1/img.png)"
   ]
  },
  {
   "cell_type": "code",
   "execution_count": 36,
   "metadata": {},
   "outputs": [
    {
     "name": "stdout",
     "output_type": "stream",
     "text": [
      "훈련 세트 점수: 0.29\n",
      "테스트 세트 점수 : 0.21\n",
      "사용한 특성의 개수:  4\n"
     ]
    }
   ],
   "source": [
    "from sklearn.linear_model import Lasso\n",
    "\n",
    "lasso = Lasso().fit(X_train, y_train)\n",
    "print('훈련 세트 점수: {:.2f}'.format(lasso.score(X_train, y_train)))\n",
    "print('테스트 세트 점수 : {:.2f}'.format(lasso.score(X_test,y_test)))\n",
    "print('사용한 특성의 개수: ', np.sum(lasso.coef_ !=0))"
   ]
  },
  {
   "cell_type": "markdown",
   "metadata": {},
   "source": [
    "#### lasso는 훈련세트와 테스트 세트 모두 결과가 좋지 않음\n",
    "#### 이는 과소 적합이며, 104개의 특정중 4개만 사용한 것을 알 수 있음"
   ]
  },
  {
   "cell_type": "code",
   "execution_count": 37,
   "metadata": {},
   "outputs": [
    {
     "name": "stdout",
     "output_type": "stream",
     "text": [
      "훈련 세트 점수: 0.90\n",
      "테스트 세트 점수: 0.77\n",
      "사용한 특성의 개수: 33\n"
     ]
    }
   ],
   "source": [
    "# max_iter 기본 값을 증가시키지 않으면 max_iter 값을 늘이라는 경고가 발생합니다\n",
    "lasso001 = Lasso(alpha=0.01, max_iter=50000).fit(X_train, y_train)\n",
    "print(\"훈련 세트 점수: {:.2f}\".format(lasso001.score(X_train, y_train)))\n",
    "print(\"테스트 세트 점수: {:.2f}\".format(lasso001.score(X_test, y_test)))\n",
    "print(\"사용한 특성의 개수:\", np.sum(lasso001.coef_ != 0))"
   ]
  },
  {
   "cell_type": "code",
   "execution_count": 38,
   "metadata": {},
   "outputs": [
    {
     "name": "stdout",
     "output_type": "stream",
     "text": [
      "훈련 세트 점수: 0.95\n",
      "테스트 세트 점수: 0.64\n",
      "사용한 특성의 개수: 96\n"
     ]
    }
   ],
   "source": [
    "lasso00001 = Lasso(alpha=0.0001, max_iter=50000).fit(X_train, y_train)\n",
    "print(\"훈련 세트 점수: {:.2f}\".format(lasso00001.score(X_train, y_train)))\n",
    "print(\"테스트 세트 점수: {:.2f}\".format(lasso00001.score(X_test, y_test)))\n",
    "print(\"사용한 특성의 개수:\", np.sum(lasso00001.coef_ != 0))"
   ]
  },
  {
   "cell_type": "markdown",
   "metadata": {},
   "source": [
    "* alpha값을 작게 할수록 사용한 특성의 수를 확인해 보면 4 -> 33->94 사용하는 특성 수가 증가\n",
    "* alpha값을 낮추면 규제의 효과가 없어저 과대적합되므로 LinearRegression의 결과와 비슷해진다"
   ]
  },
  {
   "cell_type": "code",
   "execution_count": 39,
   "metadata": {},
   "outputs": [
    {
     "data": {
      "image/png": "[encoded data removed]",
      "text/plain": [
       "<Figure size 432x288 with 1 Axes>"
      ]
     },
     "metadata": {
      "needs_background": "light"
     },
     "output_type": "display_data"
    }
   ],
   "source": [
    "plt.plot(lasso.coef_, 's', label=\"Lasso alpha=1\") #alpha1\n",
    "plt.plot(lasso001.coef_, '^', label=\"Lasso alpha=0.01\") #alpha 0.01\n",
    "plt.plot(lasso00001.coef_, 'v', label=\"Lasso alpha=0.0001\")#alpha 0.0001\n",
    "\n",
    "plt.plot(ridge01.coef_, 'o', label=\"Ridge alpha=0.1\") #Ridge\n",
    "plt.legend(ncol=2, loc=(0, 1.05))\n",
    "plt.ylim(-25, 25)\n",
    "plt.xlabel(\"계수 목록\")\n",
    "plt.ylabel(\"계수 크기\")\n",
    "plt.show() "
   ]
  },
  {
   "cell_type": "markdown",
   "metadata": {},
   "source": [
    "alpha가 1일 때 계수 대부분이 0일뿐만 아니라 나머지 계수들도 크기가 작음<br>\n",
    "alpha를 0.01로 줄이면 대부분의 특성이 0이 되는 분포를 얻음<br>\n",
    "alpha를 0.0001로 하면 계수 대부분이 0이 아니고 값도 커져 규제를 받지 않은 모델을 얻게 됨<br>\n",
    "Ridge 모델은 alpha=0.01인 라쏘 모델과 성능이 비슷하지만 Ridge를 사용하면 어떤 계수도 0이 되지 않음<br>\n",
    "두 모델 중 보통 릿지 회귀를 선호<br>\n",
    "그런데 특성이 많고 그중 일부분만 중요한다면 라쏘가 더 좋은 선택일 수 있음<br>\n",
    "scikit-learn은 Lasso와 Ridge의 패널티를 결합한 ElasticNet도 제공한다<br>"
   ]
  },
  {
   "cell_type": "markdown",
   "metadata": {},
   "source": [
    "### 선형회귀 분석 모델 비교"
   ]
  },
  {
   "cell_type": "code",
   "execution_count": 40,
   "metadata": {},
   "outputs": [],
   "source": [
    "from sklearn import datasets\n",
    "raw_boston = datasets.load_boston()\n",
    "\n",
    "#feature, target 데이터 지정\n",
    "X = raw_boston.data\n",
    "y = raw_boston.target\n",
    "\n",
    "#training, test 데이터 분할\n",
    "from sklearn.model_selection import train_test_split\n",
    "X_tn, X_te, y_tn, y_te =train_test_split(X,y, random_state=1)\n",
    "\n",
    "#데이터 표준화\n",
    "from sklearn.preprocessing import StandardScaler\n",
    "\n",
    "std_scale = StandardScaler()\n",
    "std_scale.fit(X_tn)\n",
    "X_tn_std = std_scale.transform(X_tn)\n",
    "X_te_std = std_scale.transform(X_te)"
   ]
  },
  {
   "cell_type": "markdown",
   "metadata": {},
   "source": [
    "##### LinearRegression 선형 회귀 분석으로 데이터 학습"
   ]
  },
  {
   "cell_type": "code",
   "execution_count": 41,
   "metadata": {},
   "outputs": [
    {
     "name": "stdout",
     "output_type": "stream",
     "text": [
      "[-1.07145146  1.34036243  0.26298069  0.66554537 -2.49842551  1.97524314\n",
      "  0.19516605 -3.14274974  2.66736136 -1.80685572 -2.13034748  0.56172933\n",
      " -4.03223518]\n",
      "Linear Regression intercept_:  22.344591029023768\n"
     ]
    }
   ],
   "source": [
    "from sklearn.linear_model import LinearRegression\n",
    "clf_lr = LinearRegression()\n",
    "clf_lr.fit(X_tn_std, y_tn)\n",
    "\n",
    "print(clf_lr.coef_)\n",
    "print('Linear Regression intercept_: ',clf_lr.intercept_) #선형회귀 그래프 y절편"
   ]
  },
  {
   "cell_type": "markdown",
   "metadata": {},
   "source": [
    "##### 릿지, 라쏘, 엘라스틱 넷 회귀 분석과 비교"
   ]
  },
  {
   "cell_type": "code",
   "execution_count": 42,
   "metadata": {},
   "outputs": [
    {
     "data": {
      "text/plain": [
       "ElasticNet(alpha=0.01, l1_ratio=0.01)"
      ]
     },
     "execution_count": 42,
     "metadata": {},
     "output_type": "execute_result"
    }
   ],
   "source": [
    "from sklearn.linear_model import Ridge, Lasso, ElasticNet\n",
    "\n",
    "#모델 학습\n",
    "clf_ridge = Ridge(alpha=1) #알파값에따라 규제강도 달라짐\n",
    "clf_ridge.fit(X_tn_std, y_tn)\n",
    "\n",
    "clf_lasso = Lasso(alpha=0.01)\n",
    "clf_lasso.fit(X_tn_std, y_tn)\n",
    "\n",
    "clf_elastic = ElasticNet(alpha=0.01, l1_ratio=0.01)\n",
    "clf_elastic.fit(X_tn_std, y_tn)"
   ]
  },
  {
   "cell_type": "code",
   "execution_count": 43,
   "metadata": {},
   "outputs": [
    {
     "name": "stdout",
     "output_type": "stream",
     "text": [
      "[-1.05933451  1.31050717  0.23022789  0.66955241 -2.45607567  1.99086611\n",
      "  0.18119169 -3.09919804  2.56480813 -1.71116799 -2.12002592  0.56264409\n",
      " -4.00942448]\n",
      "[-1.04326518  1.27752711  0.1674367   0.66758228 -2.41559964  1.99244179\n",
      "  0.14733958 -3.09473711  2.46431135 -1.60552274 -2.11046422  0.55200229\n",
      " -4.00809905]\n",
      "[-1.02916603  1.23681955  0.15236504  0.67859622 -2.34646781  2.02965524\n",
      "  0.14575132 -2.98592423  2.32013379 -1.48829485 -2.09271972  0.56506801\n",
      " -3.9495281 ]\n"
     ]
    }
   ],
   "source": [
    "#상관계수 비교\n",
    "print(clf_ridge.coef_)\n",
    "print(clf_lasso.coef_)\n",
    "print(clf_elastic.coef_)"
   ]
  },
  {
   "cell_type": "code",
   "execution_count": 44,
   "metadata": {
    "scrolled": true
   },
   "outputs": [
    {
     "name": "stdout",
     "output_type": "stream",
     "text": [
      "22.344591029023768\n",
      "22.344591029023768\n",
      "22.344591029023768\n"
     ]
    }
   ],
   "source": [
    "#Intercept 비교\n",
    "print(clf_ridge.intercept_)\n",
    "print(clf_ridge.intercept_)\n",
    "print(clf_ridge.intercept_)"
   ]
  },
  {
   "cell_type": "markdown",
   "metadata": {},
   "source": [
    "##### 데이터 예측"
   ]
  },
  {
   "cell_type": "code",
   "execution_count": 45,
   "metadata": {},
   "outputs": [],
   "source": [
    "pred_lr = clf_lr.predict(X_te_std)\n",
    "pred_ridge = clf_ridge.predict(X_te_std)\n",
    "pred_lasso = clf_lasso.predict(X_te_std)\n",
    "pred_elastic = clf_elastic.predict(X_te_std)"
   ]
  },
  {
   "cell_type": "markdown",
   "metadata": {},
   "source": [
    "##### 모형평가 1 - R 제곱값\n",
    "    : 0과 1 사이값을 가지며 높을수록 좋은 성능을 가짐"
   ]
  },
  {
   "cell_type": "code",
   "execution_count": 46,
   "metadata": {
    "scrolled": true
   },
   "outputs": [
    {
     "name": "stdout",
     "output_type": "stream",
     "text": [
      "0.7789410172622858\n",
      "0.7789704562726603\n",
      "0.7787621490259894\n",
      "0.7787876079239252\n"
     ]
    }
   ],
   "source": [
    "from sklearn.metrics import r2_score\n",
    "print(r2_score(y_te, pred_lr))\n",
    "print(r2_score(y_te, pred_ridge))\n",
    "print(r2_score(y_te, pred_lasso))\n",
    "print(r2_score(y_te, pred_elastic))\n",
    "#  ridge > elastic > lasso 순으로 성능 좋음"
   ]
  },
  {
   "cell_type": "markdown",
   "metadata": {},
   "source": [
    "##### 모형평가 2 - MSE\n",
    "    : 선형 회귀분석 모델 평가에 자주 사용, 작을수록 좋은 성능을 가짐"
   ]
  },
  {
   "cell_type": "code",
   "execution_count": 47,
   "metadata": {},
   "outputs": [
    {
     "name": "stdout",
     "output_type": "stream",
     "text": [
      "21.897765396049493\n",
      "21.91548381050483\n",
      "21.894849212618773\n",
      "21.912961890936874\n"
     ]
    }
   ],
   "source": [
    "from sklearn.metrics import mean_squared_error\n",
    "print(mean_squared_error(y_te, pred_lr))\n",
    "print(mean_squared_error(y_te, pred_lasso))\n",
    "print(mean_squared_error(y_te, pred_ridge))\n",
    "print(mean_squared_error(y_te, pred_elastic))\n",
    "# lr > ridge > elastic > lasso 순으로 성능 좋음"
   ]
  },
  {
   "cell_type": "markdown",
   "metadata": {},
   "source": [
    "## *  선형 분류 알고리즘\n",
    "\n",
    "    1. svm.LinearSVC(Support Vector Classifier) 선형서포트벡터머신\n",
    "    2. linear_model.LogisticRegression 로지스틱 회귀\n",
    "    \n",
    "* 일반 선형회귀분석에서는 타깃 데이터의 범위제한이 없어 분류문제를 풀기에 부적합\n",
    "* 기존의 선형회귀모형식이 분류문제를 풀 수 있도록 결과값에 제한범위를 줌"
   ]
  },
  {
   "cell_type": "markdown",
   "metadata": {},
   "source": [
    "## 1.  선형 서포트 벡터 머신(SVM)\n",
    "\n",
    "    : 서포트벡터머신은 주어진 데이터를 바탕으로 두 카테고리 사이의 간격 \n",
    "    (Margin)을 최대화하려는 데이터 포인트(서포트 벡터)를 찾아내고 \n",
    "    그 서포트벡터에 수직인 경계를 통해 데이터를 분류하는 알고리즘"
   ]
  },
  {
   "cell_type": "markdown",
   "metadata": {},
   "source": [
    "!['Image'](data:image/png;base64,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)"
   ]
  },
  {
   "cell_type": "markdown",
   "metadata": {},
   "source": [
    "## 2. 로지스틱회귀"
   ]
  },
  {
   "cell_type": "code",
   "execution_count": 48,
   "metadata": {},
   "outputs": [],
   "source": [
    "#데이터 불러오기 \n",
    "from sklearn import datasets\n",
    "raw_cancer =datasets.load_breast_cancer()\n",
    "\n",
    "X = raw_cancer.data\n",
    "y = raw_cancer.target"
   ]
  },
  {
   "cell_type": "code",
   "execution_count": 49,
   "metadata": {},
   "outputs": [],
   "source": [
    "from sklearn.model_selection import train_test_split\n",
    "X_tn, X_te, y_tn, y_te = train_test_split(X,y, random_state=0)\n",
    "\n",
    "from sklearn.preprocessing import StandardScaler\n",
    "std_scale = StandardScaler()\n",
    "std_scale.fit(X_tn)\n",
    "X_tn_std = std_scale.transform(X_tn)\n",
    "X_te_std = std_scale.transform(X_te)"
   ]
  },
  {
   "cell_type": "code",
   "execution_count": 50,
   "metadata": {
    "scrolled": true
   },
   "outputs": [
    {
     "data": {
      "text/plain": [
       "LogisticRegression()"
      ]
     },
     "execution_count": 50,
     "metadata": {},
     "output_type": "execute_result"
    }
   ],
   "source": [
    "from sklearn.linear_model import LogisticRegression\n",
    "clf_logi_l2 = LogisticRegression(penalty='l2')\n",
    "clf_logi_l2.fit(X_tn_std, y_tn)"
   ]
  },
  {
   "cell_type": "code",
   "execution_count": 51,
   "metadata": {},
   "outputs": [],
   "source": [
    "pred_logistic = clf_logi_l2.predict(X_te_std)\n",
    "pred_proba = clf_logi_l2.predict_proba(X_te_std)"
   ]
  },
  {
   "cell_type": "markdown",
   "metadata": {},
   "source": [
    "### 선형서포트벡터머신, 로지스틱회귀 비교 "
   ]
  },
  {
   "cell_type": "code",
   "execution_count": 52,
   "metadata": {},
   "outputs": [
    {
     "data": {
      "image/png": "[encoded data removed]",
      "text/plain": [
       "<Figure size 720x216 with 2 Axes>"
      ]
     },
     "metadata": {},
     "output_type": "display_data"
    }
   ],
   "source": [
    "from sklearn.linear_model import LogisticRegression\n",
    "from sklearn.svm import LinearSVC\n",
    "\n",
    "X, y = mglearn.datasets.make_forge()\n",
    "\n",
    "fig, axes = plt.subplots(1, 2, figsize=(10, 3))\n",
    "\n",
    "for model, ax in zip([LinearSVC(max_iter=5000), LogisticRegression()], axes):\n",
    "    clf = model.fit(X, y)\n",
    "    mglearn.plots.plot_2d_separator(clf, X, fill=False, eps=0.5,\n",
    "                                    ax=ax, alpha=.7)\n",
    "    mglearn.discrete_scatter(X[:, 0], X[:, 1], y, ax=ax)\n",
    "    ax.set_title(clf.__class__.__name__)\n",
    "    ax.set_xlabel(\"특성 0\")\n",
    "    ax.set_ylabel(\"특성 1\")\n",
    "axes[0].legend()\n",
    "plt.show() "
   ]
  },
  {
   "cell_type": "markdown",
   "metadata": {},
   "source": [
    "* 첫 번째 특성을 x축에 놓고 두 번째 특성을 y축에 놓았다.\n",
    "* 위쪽은 클래스1, 아래쪽은 클래스 0으로 나누고 있다.\n",
    "* 이 두모델은 회귀에서 본 Ridge와 같이 L2 규제를 사용한다.\n",
    "* LogisticRegression과 LinearSVC에서 규제의 강도를 결정하는 매개변수는 C이다.\n",
    "* C의값이 놓아지면 규제가 감소하고 계수벡터(w)가 0에 가까워 지며, C의값을 높게하면 훈련세트에 가능한 맞춘다"
   ]
  },
  {
   "cell_type": "markdown",
   "metadata": {},
   "source": [
    "#### LogisticRegression, LinearSVC 에서 규제 강도 C\n",
    "\n",
    "   * C의 값이 높아지면 규제가 감소\n",
    "   * 매개변수로 높은 C를 지정하면 모델이 훈련세트에 가능한 최대로 맞추려하고\n",
    "   * C값은 낮추면 모델은 계수벡터 w가 0에 가까워지도록 함"
   ]
  },
  {
   "cell_type": "code",
   "execution_count": 53,
   "metadata": {},
   "outputs": [
    {
     "data": {
      "image/png": "[encoded data removed]",
      "text/plain": [
       "<Figure size 864x288 with 3 Axes>"
      ]
     },
     "metadata": {},
     "output_type": "display_data"
    }
   ],
   "source": [
    "mglearn.plots.plot_linear_svc_regularization()"
   ]
  },
  {
   "cell_type": "markdown",
   "metadata": {},
   "source": [
    "#### 1) 그림은 아주 작은 C값으로 규제가 많이 적용되었다.\n",
    "* 규제가 많이 적용된 모델은 비교적 수평에 가까운 결정 경계를 만들었고,\n",
    "* 잘못 분류된 데이터는 2개이다\n",
    "\n",
    "#### 2)  그림은 C값이 조금 더 크며, \n",
    "* 잘못 분류한 두 데이터에 민감해져 결정 경계가 기울어짐.\n",
    "\n",
    "#### 3) 그림은 C값을 아주 크게하여\n",
    "* 결정 경계는 크게 기울고, 1개만 잘못 분류되었다.\n",
    "* 전체를 정확하게 분류하려했지만, 전체적인 배치를 잘못 파악해 과대적합\n",
    "\n",
    "\n",
    "* 회귀와 비슷하게 분류에서의 선형모델은 낮은 차원의 데이터에서는 결정 경계가 직선이거나 평면이어서 매우 제한적으로 보인다.\n",
    "\n",
    "* 하지만 고차원에서는 분류에 대한 선형모델이 강해지며, 특성이 많아지면 과대적합되지 않도록해야한다."
   ]
  },
  {
   "cell_type": "code",
   "execution_count": 54,
   "metadata": {},
   "outputs": [
    {
     "name": "stdout",
     "output_type": "stream",
     "text": [
      "훈련 세트 점수: 0.958\n",
      "테스트 세트 점수: 0.958\n"
     ]
    }
   ],
   "source": [
    "from sklearn.datasets import load_breast_cancer\n",
    "cancer = load_breast_cancer()\n",
    "X_train, X_test, y_train, y_test = train_test_split(\n",
    "    cancer.data, cancer.target, stratify=cancer.target, random_state=42)\n",
    "logreg = LogisticRegression(max_iter=5000).fit(X_train, y_train)\n",
    "print(\"훈련 세트 점수: {:.3f}\".format(logreg.score(X_train, y_train)))\n",
    "print(\"테스트 세트 점수: {:.3f}\".format(logreg.score(X_test, y_test)))"
   ]
  },
  {
   "cell_type": "code",
   "execution_count": 55,
   "metadata": {},
   "outputs": [
    {
     "name": "stdout",
     "output_type": "stream",
     "text": [
      "훈련 세트 점수: 0.981\n",
      "테스트 세트 점수: 0.965\n"
     ]
    }
   ],
   "source": [
    "logreg100 = LogisticRegression(C=100, max_iter=5000).fit(X_train, y_train)\n",
    "print(\"훈련 세트 점수: {:.3f}\".format(logreg100.score(X_train, y_train)))\n",
    "print(\"테스트 세트 점수: {:.3f}\".format(logreg100.score(X_test, y_test)))\n",
    "#과소적합"
   ]
  },
  {
   "cell_type": "code",
   "execution_count": 56,
   "metadata": {},
   "outputs": [
    {
     "name": "stdout",
     "output_type": "stream",
     "text": [
      "훈련 세트 점수: 0.953\n",
      "테스트 세트 점수: 0.951\n"
     ]
    }
   ],
   "source": [
    "logreg001 = LogisticRegression(C=0.01, max_iter=5000).fit(X_train, y_train)\n",
    "print(\"훈련 세트 점수: {:.3f}\".format(logreg001.score(X_train, y_train)))\n",
    "print(\"테스트 세트 점수: {:.3f}\".format(logreg001.score(X_test, y_test)))\n",
    "#과대적합"
   ]
  },
  {
   "cell_type": "code",
   "execution_count": 57,
   "metadata": {
    "scrolled": true
   },
   "outputs": [
    {
     "data": {
      "image/png": "[encoded data removed]",
      "text/plain": [
       "<Figure size 432x288 with 1 Axes>"
      ]
     },
     "metadata": {
      "needs_background": "light"
     },
     "output_type": "display_data"
    }
   ],
   "source": [
    "plt.plot(logreg100.coef_.T, '^', label=\"C=100\")\n",
    "plt.plot(logreg.coef_.T, 'o', label=\"C=1\")\n",
    "plt.plot(logreg001.coef_.T, 'v', label=\"C=0.001\")\n",
    "plt.xticks(range(cancer.data.shape[1]), cancer.feature_names, rotation=90)\n",
    "xlims = plt.xlim()\n",
    "plt.hlines(0, xlims[0], xlims[1])\n",
    "plt.xlim(xlims)\n",
    "plt.ylim(-5, 5)\n",
    "plt.xlabel(\"특성\")\n",
    "plt.ylabel(\"계수 크기\")\n",
    "plt.legend()\n",
    "plt.show()"
   ]
  },
  {
   "cell_type": "markdown",
   "metadata": {},
   "source": [
    "* LogisticRegression은 기본으로 L2규제를 적용하므로 Ridge로 만든 모습과 비슷\n",
    "* 규제를 강하게 할수록 계수들을 0에 더 가깝게 만들지만 완전히 0이 되지는 않는다.\n",
    "* 보스턴 주택가격 데이터 셋에 대한 릿지 회귀의 계수 크기 그래프\n",
    "* 더 이해하기 쉬운 모델을 원한다면 L1규제를 사용하는것이 좋다.\n",
    "* penalty 매개변수를 통해 L1규제를 사용할 수 있다.\n",
    "* 다음은 L1 규제를 사용할 때의 분류 정확도와 계수 그래프이다.\n",
    "* 중요한 점은 규제에서 모든특성을 사용할지(L2규제) 일부 특성만 사용할지(L1)인지 결정하는 penalty 매개변수가 차이이다.\n",
    "\n",
    "####  L1규제를 사용하여 각기 다른 C값을 적용한 로지스틱 회귀 모델의 계수"
   ]
  },
  {
   "cell_type": "code",
   "execution_count": 58,
   "metadata": {},
   "outputs": [
    {
     "name": "stdout",
     "output_type": "stream",
     "text": [
      "C=0.001 인 l1 로지스틱 회귀의 훈련 정확도: 0.91\n",
      "C=0.001 인 l1 로지스틱 회귀의 테스트 정확도: 0.92\n",
      "C=1.000 인 l1 로지스틱 회귀의 훈련 정확도: 0.96\n",
      "C=1.000 인 l1 로지스틱 회귀의 테스트 정확도: 0.96\n",
      "C=100.000 인 l1 로지스틱 회귀의 훈련 정확도: 0.99\n",
      "C=100.000 인 l1 로지스틱 회귀의 테스트 정확도: 0.98\n"
     ]
    },
    {
     "data": {
      "image/png": "[encoded data removed]",
      "text/plain": [
       "<Figure size 432x288 with 1 Axes>"
      ]
     },
     "metadata": {
      "needs_background": "light"
     },
     "output_type": "display_data"
    }
   ],
   "source": [
    "#Solver : 최적화 알고리즘, max_iter : 최대 반복 횟수값\n",
    "for C, marker in zip([0.001, 1, 100], ['o', '^', 'v']):\n",
    "    lr_l1 = LogisticRegression(solver='liblinear', C=C, penalty=\"l1\", max_iter=1000).fit(X_train, y_train)\n",
    "    print(\"C={:.3f} 인 l1 로지스틱 회귀의 훈련 정확도: {:.2f}\".format(\n",
    "          C, lr_l1.score(X_train, y_train)))\n",
    "    print(\"C={:.3f} 인 l1 로지스틱 회귀의 테스트 정확도: {:.2f}\".format(\n",
    "          C, lr_l1.score(X_test, y_test)))\n",
    "    plt.plot(lr_l1.coef_.T, marker, label=\"C={:.3f}\".format(C))\n",
    "\n",
    "plt.xticks(range(cancer.data.shape[1]), cancer.feature_names, rotation=90)\n",
    "xlims = plt.xlim()\n",
    "plt.hlines(0, xlims[0], xlims[1])\n",
    "plt.xlim(xlims)\n",
    "plt.xlabel(\"특성\")\n",
    "plt.ylabel(\"계수 크기\")\n",
    "\n",
    "plt.ylim(-5, 5)\n",
    "plt.legend(loc=3)\n",
    "plt.show() # 책에는 없음"
   ]
  },
  {
   "cell_type": "markdown",
   "metadata": {},
   "source": [
    "# 다중 클래스 분류용 선형 모델"
   ]
  },
  {
   "cell_type": "markdown",
   "metadata": {},
   "source": [
    "### 일대다 방식을 이용한 다중 클래스 분류 알고리즘\n",
    "\n",
    "    : 각 클래스를 다른 모든 클래스와 구분하도록 이진 분류 모델 학습\n",
    "    -> 클래스 수 만큼 이진 분류 모델 생성\n",
    "    \n",
    " * 각 클래스 마다 계수벡터(w)와 절편을 하나씩 갖고, 결과값이 높은 클래스가 해당 데이터 클래스 레이블로 할당됨"
   ]
  },
  {
   "cell_type": "code",
   "execution_count": 59,
   "metadata": {},
   "outputs": [
    {
     "data": {
      "text/plain": [
       "<matplotlib.legend.Legend at 0x183d8e5bd48>"
      ]
     },
     "execution_count": 59,
     "metadata": {},
     "output_type": "execute_result"
    },
    {
     "data": {
      "image/png": "[encoded data removed]",
      "text/plain": [
       "<Figure size 432x288 with 1 Axes>"
      ]
     },
     "metadata": {
      "needs_background": "light"
     },
     "output_type": "display_data"
    }
   ],
   "source": [
    "import warnings\n",
    "warnings.filterwarnings('ignore')\n",
    "from sklearn.datasets import make_blobs\n",
    "\n",
    "X, y = make_blobs(random_state=42)\n",
    "mglearn.discrete_scatter(X[:,0], X[:,1],y)\n",
    "plt.xlabel('특성 0')\n",
    "plt.ylabel('특성 1')\n",
    "plt.legend(['클래스 0','클래스 1','클래스 2'])"
   ]
  },
  {
   "cell_type": "code",
   "execution_count": 60,
   "metadata": {},
   "outputs": [
    {
     "name": "stdout",
     "output_type": "stream",
     "text": [
      "가중치 벡터의 크기: (3, 2)\n",
      "절편 배열의 크기: (3,)\n",
      "[[-0.17492629  0.23139816]\n",
      " [ 0.47621864 -0.0693725 ]\n",
      " [-0.1891398  -0.20400375]]\n"
     ]
    }
   ],
   "source": [
    "linear_svm = LinearSVC().fit(X,y)\n",
    "print('가중치 벡터의 크기:',linear_svm.coef_.shape)\n",
    "print('절편 배열의 크기:', linear_svm.intercept_.shape)\n",
    "print(linear_svm.coef_)"
   ]
  },
  {
   "cell_type": "markdown",
   "metadata": {},
   "source": [
    "##### coef_  의 행은 세 개의 클래스에 각각 대응하는 가중치벡터를 담고 있고, \n",
    "##### 열은 각 특성에 따른 계수 값을 가짐"
   ]
  },
  {
   "cell_type": "code",
   "execution_count": 61,
   "metadata": {},
   "outputs": [
    {
     "data": {
      "text/plain": [
       "<matplotlib.legend.Legend at 0x183d8cd94c8>"
      ]
     },
     "execution_count": 61,
     "metadata": {},
     "output_type": "execute_result"
    },
    {
     "data": {
      "image/png": "[encoded data removed]",
      "text/plain": [
       "<Figure size 432x288 with 1 Axes>"
      ]
     },
     "metadata": {
      "needs_background": "light"
     },
     "output_type": "display_data"
    }
   ],
   "source": [
    "#세 개의 이진 분류기가 만드는 결정경계 시각화\n",
    "\n",
    "mglearn.discrete_scatter(X[:,0],X[:,1],y)\n",
    "line = np.linspace(-15,15)\n",
    "\n",
    "# 결정경계 기울기 : -W[0]/W[1], 결정경계 절편:-I[0]/W[1]\n",
    "for coef, intercept, color in zip(linear_svm.coef_, linear_svm.intercept_, mglearn.cm3.colors):\n",
    "    plt.plot(line, -(line*coef[0]+intercept)/coef[1], c=color)\n",
    "\n",
    "plt.ylim(-10,15)\n",
    "plt.xlim(-10,8)\n",
    "plt.xlabel('특성 0')\n",
    "plt.ylabel('특성 1')\n",
    "plt.legend(['클래스 0', '클래스 1','클래스 2', '클래스 0 경계','클래스 1 경계','클래스 2 경계'], loc=(1.01,0.3))"
   ]
  },
  {
   "cell_type": "markdown",
   "metadata": {},
   "source": [
    "#### 선형 모델 정리 \n",
    "* 선형 모델의 주요 매개변수는 \n",
    "* 회귀모델에서는 alpha였고, LinearSVC와 LogisticRegression에서는 C였다.\n",
    "* alpha값이 클수록, C값이 작을수록 모델이 단순해진다.\n",
    "* 보통 C와 alpha는 로그스케일로 최적치를 정한다.(1->0.01,10,10000)\n",
    "\n",
    "* 그리고 L1규제를 사용할지 L2규제를 사용할지를 정해야 한다.\n",
    "* 중요한 특성이 많지 않으면 L1을 사용하고, 그렇지 않으면 기본적으로 L2를 사용한다.\n",
    "* L1규제는 몇가지 특성만 사용하므로 모델에 중요한 특성이 무엇이고 효과가 어느정도인지 설명하기 쉽다.\n",
    "* 선형 모델은 학습 속도가 빠르고 예측이 빠르다. 또한 다른 모델에 비해 이해하기 쉽다.\n"
   ]
  },
  {
   "cell_type": "markdown",
   "metadata": {},
   "source": [
    "### 나이브 베이즈 분류기"
   ]
  },
  {
   "cell_type": "markdown",
   "metadata": {},
   "source": [
    "#### 나이브 베이즈(Naive bayes)\n",
    "    : 서로 조건부 독립인 피처를 가정하고, 베이즈 이론을 기반으로 하는 알고리즘\n",
    "        "
   ]
  },
  {
   "cell_type": "markdown",
   "metadata": {},
   "source": [
    "!['image'](https://miro.medium.com/max/600/1*aFhOj7TdBIZir4keHMgHOw.png)"
   ]
  },
  {
   "cell_type": "code",
   "execution_count": 62,
   "metadata": {},
   "outputs": [
    {
     "name": "stdout",
     "output_type": "stream",
     "text": [
      "특성 카운트:\n",
      " {0: array([0, 1, 0, 2]), 1: array([2, 0, 2, 1])}\n"
     ]
    }
   ],
   "source": [
    "X = np.array([[0, 1, 0, 1],\n",
    "              [1, 0, 1, 1],\n",
    "              [0, 0, 0, 1],\n",
    "              [1, 0, 1, 0]])\n",
    "y = np.array([0, 1, 0, 1])\n",
    "\n",
    "counts = {}\n",
    "\n",
    "#y가 0일때 : 클래스 1,3 / y가 1일때: 2,4\n",
    "for label in np.unique(y): #y unique : 0,1 \n",
    "    counts[label]=X[y==label].sum(axis=0) #행으로 더하기 \n",
    "\n",
    "print('특성 카운트:\\n', counts)"
   ]
  },
  {
   "cell_type": "code",
   "execution_count": 71,
   "metadata": {},
   "outputs": [
    {
     "name": "stdout",
     "output_type": "stream",
     "text": [
      "[0 2 1 0 1 1 0 2 1 1 2 2 0 0 2 1 0 0 2 0 0 0 0 1 1 1 1 1 1 2 0 0 1 0 0 0 2\n",
      " 1 1 2 0 0 1 1 1]\n"
     ]
    }
   ],
   "source": [
    "from sklearn import datasets\n",
    "from sklearn.naive_bayes import GaussianNB\n",
    "\n",
    "from sklearn.metrics import recall_score\n",
    "from sklearn.metrics import confusion_matrix\n",
    "from sklearn.metrics import classification_report\n",
    "\n",
    "raw_wine = datasets.load_wine()\n",
    "\n",
    "X = raw_wine.data\n",
    "y = raw_wine.target\n",
    "\n",
    "X_tn, X_te, y_tn, y_te = train_test_split(X,y,random_state=0)\n",
    "\n",
    "# 데이터 표준화\n",
    "std_scale = StandardScaler()\n",
    "std_scale.fit(X_tn)\n",
    "X_tn_std = std_scale.transform(X_tn)\n",
    "X_td_std = std_scale.transform(X_te)\n",
    "\n",
    "#나이브 베이즈 학습\n",
    "clf_gnb = GaussianNB().fit(X_tn_std, y_tn)\n",
    "\n",
    "# 예측 \n",
    "pred_gnb = clf_gnb.predict(X_td_std)\n",
    "print(pred_gnb)\n"
   ]
  }
 ],
 "metadata": {
  "kernelspec": {
   "display_name": "Python 3",
   "language": "python",
   "name": "python3"
  },
  "language_info": {
   "codemirror_mode": {
    "name": "ipython",
    "version": 3
   },
   "file_extension": ".py",
   "mimetype": "text/x-python",
   "name": "python",
   "nbconvert_exporter": "python",
   "pygments_lexer": "ipython3",
   "version": "3.7.4"
  }
 },
 "nbformat": 4,
 "nbformat_minor": 5
}
