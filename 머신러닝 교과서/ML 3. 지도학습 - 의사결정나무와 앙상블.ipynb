{
 "cells": [
  {
   "cell_type": "markdown",
   "metadata": {},
   "source": [
    "# 의사결정나무(Decision Tree)"
   ]
  },
  {
   "cell_type": "markdown",
   "metadata": {},
   "source": [
    "### 결정 트리\n",
    ": 정답에 가장 빨리 도달하는 true/false 질문 목록을 학습하는 것<br>\n",
    "\n",
    "  만약 tree를 만들때 모든 leaf node가 pure node가 될때 까지 진행하면<br>\n",
    "  \n",
    "  model의 복잡도가 매우 높아지고 오버피팅 됨"
   ]
  },
  {
   "cell_type": "markdown",
   "metadata": {},
   "source": [
    "#### overfitting을 막는 전략 2가지\n",
    "1. tree 생성을 사전에 중단하기(사전가지치기: pre-pruning)\n",
    "2. 데이터 포인트가 적은 node를 삭제하거나 병합하기 : 사후 가지치기(post_pruning)"
   ]
  },
  {
   "cell_type": "code",
   "execution_count": 29,
   "metadata": {},
   "outputs": [],
   "source": [
    "import numpy as np\n",
    "import matplotlib.pyplot as plt\n",
    "import pandas as pd\n",
    "import mglearn\n",
    "import graphviz\n",
    "from matplotlib import font_manager, rc\n",
    "font_name = font_manager.FontProperties(fname=\"c:/Windows/Fonts/malgun.ttf\").get_name()\n",
    "rc('font', family=font_name)"
   ]
  },
  {
   "cell_type": "markdown",
   "metadata": {},
   "source": [
    "#### 의사 결정 나무 실습 - 와인데이터"
   ]
  },
  {
   "cell_type": "code",
   "execution_count": 30,
   "metadata": {},
   "outputs": [],
   "source": [
    "from sklearn import datasets\n",
    "raw_wine = datasets.load_wine()\n",
    "\n",
    "X = raw_wine.data\n",
    "y = raw_wine.target\n",
    "\n",
    "from sklearn.model_selection import train_test_split\n",
    "X_train, X_test, y_train, y_test = train_test_split(X,y,random_state=0)\n",
    "\n",
    "#데이터 표준화\n",
    "from sklearn.preprocessing import StandardScaler\n",
    "std_scale = StandardScaler()\n",
    "std_scale.fit(X_train)\n",
    "X_tn_std = std_scale.transform(X_train)\n",
    "X_te_std = std_scale.transform(X_test)"
   ]
  },
  {
   "cell_type": "code",
   "execution_count": 31,
   "metadata": {},
   "outputs": [
    {
     "name": "stdout",
     "output_type": "stream",
     "text": [
      "fl score:  0.9349141206870346\n",
      "              precision    recall  f1-score   support\n",
      "\n",
      "           0       1.00      0.88      0.93        16\n",
      "           1       0.91      0.95      0.93        21\n",
      "           2       0.89      1.00      0.94         8\n",
      "\n",
      "    accuracy                           0.93        45\n",
      "   macro avg       0.93      0.94      0.93        45\n",
      "weighted avg       0.94      0.93      0.93        45\n",
      "\n"
     ]
    }
   ],
   "source": [
    "#데이터 학습\n",
    "from sklearn import tree\n",
    "clf_tree = tree.DecisionTreeClassifier(random_state=0)\n",
    "clf_tree.fit(X_tn_std, y_train)\n",
    "\n",
    "#데이터 예측\n",
    "pred_tree = clf_tree.predict(X_te_std)\n",
    "\n",
    "#fl 스코어 평가\n",
    "from sklearn.metrics import f1_score\n",
    "f1 = f1_score(y_test, pred_tree, average='macro')\n",
    "print('fl score: ',f1)\n",
    "\n",
    "#분류리포트 사용\n",
    "from sklearn.metrics import classification_report\n",
    "class_report = classification_report(y_test, pred_tree)\n",
    "print(class_report)"
   ]
  },
  {
   "cell_type": "code",
   "execution_count": 32,
   "metadata": {},
   "outputs": [
    {
     "name": "stdout",
     "output_type": "stream",
     "text": [
      "훈련 세트 정확도: 1.000\n",
      "테스트 세트 정확도: 0.937\n"
     ]
    }
   ],
   "source": [
    "from sklearn.tree import DecisionTreeClassifier\n",
    "from sklearn.model_selection import train_test_split\n",
    "from sklearn import datasets\n",
    "\n",
    "cancer = datasets.load_breast_cancer()\n",
    "X_train, X_test, y_train, y_test = train_test_split(cancer.data, cancer.target, stratify=cancer.target, random_state=42)\n",
    "tree = DecisionTreeClassifier(random_state=0)\n",
    "tree.fit(X_train, y_train)\n",
    "print(\"훈련 세트 정확도: {:.3f}\".format(tree.score(X_train, y_train)))\n",
    "print(\"테스트 세트 정확도: {:.3f}\".format(tree.score(X_test, y_test)))"
   ]
  },
  {
   "cell_type": "markdown",
   "metadata": {},
   "source": [
    "모든리프노드가 순수노드이므로 훈련세트의 정확도는 100%<br>\n",
    "즉 트리는 훈련 데이터의 모든 레이블을 완벽하게 기억.<br>\n",
    "결정 트리의 깊이를 제한하지 않으면 트리는 무한정 깊어지고 복잡해짐<br>\n",
    "가지치기 하지 않은 트리는 과대적합되기 쉽고 일반화과 어려움"
   ]
  },
  {
   "cell_type": "markdown",
   "metadata": {},
   "source": [
    "### 사전 가지치기를 통한 학습 능력 판단하기"
   ]
  },
  {
   "cell_type": "code",
   "execution_count": 33,
   "metadata": {},
   "outputs": [
    {
     "name": "stdout",
     "output_type": "stream",
     "text": [
      "훈련 세트 정확도: 0.988\n",
      "테스트 세트 정확도: 0.951\n"
     ]
    }
   ],
   "source": [
    "tree = DecisionTreeClassifier(max_depth=4, random_state=0)\n",
    "tree.fit(X_train, y_train)\n",
    "\n",
    "print(\"훈련 세트 정확도: {:.3f}\".format(tree.score(X_train, y_train)))\n",
    "print(\"테스트 세트 정확도: {:.3f}\".format(tree.score(X_test, y_test)))"
   ]
  },
  {
   "cell_type": "markdown",
   "metadata": {},
   "source": [
    "가지치기는 훈련세트의 정확도를 떨어뜨리지만 테스트 세트의 성능은 개선됨\n",
    "depth를 조절해 과대적합 방지 \n",
    "\n",
    "#### 사전 가지치기 설정\n",
    "\n",
    "*max_depth*: 트리의 최대 한도 깊이<br>\n",
    "*max_leaf_nodes*: 리프노드의 최대개수 지정<br>\n",
    "*random_state*: 여러번 실행해도 파라미터가 같을 경우 결과가 항상 같게 만들어줌"
   ]
  },
  {
   "cell_type": "markdown",
   "metadata": {},
   "source": [
    "### 트리 그래프 그리기"
   ]
  },
  {
   "cell_type": "code",
   "execution_count": 34,
   "metadata": {
    "scrolled": true
   },
   "outputs": [
    {
     "data": {
      "image/svg+xml": [
       "<?xml version=\"1.0\" encoding=\"UTF-8\" standalone=\"no\"?>\r\n",
       "<!DOCTYPE svg PUBLIC \"-//W3C//DTD SVG 1.1//EN\"\r\n",
       " \"http://www.w3.org/Graphics/SVG/1.1/DTD/svg11.dtd\">\r\n",
       "<!-- Generated by graphviz version 2.38.0 (20140413.2041)\r\n",
       " -->\r\n",
       "<!-- Title: Tree Pages: 1 -->\r\n",
       "<svg width=\"1084pt\" height=\"477pt\"\r\n",
       " viewBox=\"0.00 0.00 1084.00 477.00\" xmlns=\"http://www.w3.org/2000/svg\" xmlns:xlink=\"http://www.w3.org/1999/xlink\">\r\n",
       "<g id=\"graph0\" class=\"graph\" transform=\"scale(1 1) rotate(0) translate(4 473)\">\r\n",
       "<title>Tree</title>\r\n",
       "<polygon fill=\"white\" stroke=\"none\" points=\"-4,4 -4,-473 1080,-473 1080,4 -4,4\"/>\r\n",
       "<!-- 0 -->\r\n",
       "<g id=\"node1\" class=\"node\"><title>0</title>\r\n",
       "<polygon fill=\"#afd7f4\" stroke=\"black\" points=\"670,-469 509,-469 509,-401 670,-401 670,-469\"/>\r\n",
       "<text text-anchor=\"middle\" x=\"589.5\" y=\"-453.8\" font-family=\"Helvetica,sans-Serif\" font-size=\"14.00\">worst radius &lt;= 16.795</text>\r\n",
       "<text text-anchor=\"middle\" x=\"589.5\" y=\"-438.8\" font-family=\"Helvetica,sans-Serif\" font-size=\"14.00\">samples = 426</text>\r\n",
       "<text text-anchor=\"middle\" x=\"589.5\" y=\"-423.8\" font-family=\"Helvetica,sans-Serif\" font-size=\"14.00\">value = [159, 267]</text>\r\n",
       "<text text-anchor=\"middle\" x=\"589.5\" y=\"-408.8\" font-family=\"Helvetica,sans-Serif\" font-size=\"14.00\">class = 양성</text>\r\n",
       "</g>\r\n",
       "<!-- 1 -->\r\n",
       "<g id=\"node2\" class=\"node\"><title>1</title>\r\n",
       "<polygon fill=\"#4ca6e8\" stroke=\"black\" points=\"591.5,-365 381.5,-365 381.5,-297 591.5,-297 591.5,-365\"/>\r\n",
       "<text text-anchor=\"middle\" x=\"486.5\" y=\"-349.8\" font-family=\"Helvetica,sans-Serif\" font-size=\"14.00\">worst concave points &lt;= 0.136</text>\r\n",
       "<text text-anchor=\"middle\" x=\"486.5\" y=\"-334.8\" font-family=\"Helvetica,sans-Serif\" font-size=\"14.00\">samples = 284</text>\r\n",
       "<text text-anchor=\"middle\" x=\"486.5\" y=\"-319.8\" font-family=\"Helvetica,sans-Serif\" font-size=\"14.00\">value = [25, 259]</text>\r\n",
       "<text text-anchor=\"middle\" x=\"486.5\" y=\"-304.8\" font-family=\"Helvetica,sans-Serif\" font-size=\"14.00\">class = 양성</text>\r\n",
       "</g>\r\n",
       "<!-- 0&#45;&gt;1 -->\r\n",
       "<g id=\"edge1\" class=\"edge\"><title>0&#45;&gt;1</title>\r\n",
       "<path fill=\"none\" stroke=\"black\" d=\"M556.059,-400.884C546.884,-391.798 536.834,-381.845 527.296,-372.4\"/>\r\n",
       "<polygon fill=\"black\" stroke=\"black\" points=\"529.694,-369.849 520.126,-365.299 524.769,-374.823 529.694,-369.849\"/>\r\n",
       "<text text-anchor=\"middle\" x=\"520.248\" y=\"-386.599\" font-family=\"Helvetica,sans-Serif\" font-size=\"14.00\">True</text>\r\n",
       "</g>\r\n",
       "<!-- 14 -->\r\n",
       "<g id=\"node15\" class=\"node\"><title>14</title>\r\n",
       "<polygon fill=\"#e78945\" stroke=\"black\" points=\"770.5,-365 616.5,-365 616.5,-297 770.5,-297 770.5,-365\"/>\r\n",
       "<text text-anchor=\"middle\" x=\"693.5\" y=\"-349.8\" font-family=\"Helvetica,sans-Serif\" font-size=\"14.00\">texture error &lt;= 0.473</text>\r\n",
       "<text text-anchor=\"middle\" x=\"693.5\" y=\"-334.8\" font-family=\"Helvetica,sans-Serif\" font-size=\"14.00\">samples = 142</text>\r\n",
       "<text text-anchor=\"middle\" x=\"693.5\" y=\"-319.8\" font-family=\"Helvetica,sans-Serif\" font-size=\"14.00\">value = [134, 8]</text>\r\n",
       "<text text-anchor=\"middle\" x=\"693.5\" y=\"-304.8\" font-family=\"Helvetica,sans-Serif\" font-size=\"14.00\">class = 악성</text>\r\n",
       "</g>\r\n",
       "<!-- 0&#45;&gt;14 -->\r\n",
       "<g id=\"edge14\" class=\"edge\"><title>0&#45;&gt;14</title>\r\n",
       "<path fill=\"none\" stroke=\"black\" d=\"M623.266,-400.884C632.529,-391.798 642.677,-381.845 652.307,-372.4\"/>\r\n",
       "<polygon fill=\"black\" stroke=\"black\" points=\"654.859,-374.8 659.548,-365.299 649.958,-369.803 654.859,-374.8\"/>\r\n",
       "<text text-anchor=\"middle\" x=\"659.305\" y=\"-386.598\" font-family=\"Helvetica,sans-Serif\" font-size=\"14.00\">False</text>\r\n",
       "</g>\r\n",
       "<!-- 2 -->\r\n",
       "<g id=\"node3\" class=\"node\"><title>2</title>\r\n",
       "<polygon fill=\"#3c9fe5\" stroke=\"black\" points=\"381,-261 232,-261 232,-193 381,-193 381,-261\"/>\r\n",
       "<text text-anchor=\"middle\" x=\"306.5\" y=\"-245.8\" font-family=\"Helvetica,sans-Serif\" font-size=\"14.00\">radius error &lt;= 1.048</text>\r\n",
       "<text text-anchor=\"middle\" x=\"306.5\" y=\"-230.8\" font-family=\"Helvetica,sans-Serif\" font-size=\"14.00\">samples = 252</text>\r\n",
       "<text text-anchor=\"middle\" x=\"306.5\" y=\"-215.8\" font-family=\"Helvetica,sans-Serif\" font-size=\"14.00\">value = [4, 248]</text>\r\n",
       "<text text-anchor=\"middle\" x=\"306.5\" y=\"-200.8\" font-family=\"Helvetica,sans-Serif\" font-size=\"14.00\">class = 양성</text>\r\n",
       "</g>\r\n",
       "<!-- 1&#45;&gt;2 -->\r\n",
       "<g id=\"edge2\" class=\"edge\"><title>1&#45;&gt;2</title>\r\n",
       "<path fill=\"none\" stroke=\"black\" d=\"M428.059,-296.884C410.838,-287.125 391.852,-276.366 374.106,-266.31\"/>\r\n",
       "<polygon fill=\"black\" stroke=\"black\" points=\"375.381,-263.01 364.955,-261.125 371.93,-269.1 375.381,-263.01\"/>\r\n",
       "</g>\r\n",
       "<!-- 7 -->\r\n",
       "<g id=\"node8\" class=\"node\"><title>7</title>\r\n",
       "<polygon fill=\"#f3c3a1\" stroke=\"black\" points=\"565.5,-261 407.5,-261 407.5,-193 565.5,-193 565.5,-261\"/>\r\n",
       "<text text-anchor=\"middle\" x=\"486.5\" y=\"-245.8\" font-family=\"Helvetica,sans-Serif\" font-size=\"14.00\">worst texture &lt;= 25.62</text>\r\n",
       "<text text-anchor=\"middle\" x=\"486.5\" y=\"-230.8\" font-family=\"Helvetica,sans-Serif\" font-size=\"14.00\">samples = 32</text>\r\n",
       "<text text-anchor=\"middle\" x=\"486.5\" y=\"-215.8\" font-family=\"Helvetica,sans-Serif\" font-size=\"14.00\">value = [21, 11]</text>\r\n",
       "<text text-anchor=\"middle\" x=\"486.5\" y=\"-200.8\" font-family=\"Helvetica,sans-Serif\" font-size=\"14.00\">class = 악성</text>\r\n",
       "</g>\r\n",
       "<!-- 1&#45;&gt;7 -->\r\n",
       "<g id=\"edge7\" class=\"edge\"><title>1&#45;&gt;7</title>\r\n",
       "<path fill=\"none\" stroke=\"black\" d=\"M486.5,-296.884C486.5,-288.778 486.5,-279.982 486.5,-271.472\"/>\r\n",
       "<polygon fill=\"black\" stroke=\"black\" points=\"490,-271.299 486.5,-261.299 483,-271.299 490,-271.299\"/>\r\n",
       "</g>\r\n",
       "<!-- 3 -->\r\n",
       "<g id=\"node4\" class=\"node\"><title>3</title>\r\n",
       "<polygon fill=\"#3b9ee5\" stroke=\"black\" points=\"240,-157 51,-157 51,-89 240,-89 240,-157\"/>\r\n",
       "<text text-anchor=\"middle\" x=\"145.5\" y=\"-141.8\" font-family=\"Helvetica,sans-Serif\" font-size=\"14.00\">smoothness error &lt;= 0.003</text>\r\n",
       "<text text-anchor=\"middle\" x=\"145.5\" y=\"-126.8\" font-family=\"Helvetica,sans-Serif\" font-size=\"14.00\">samples = 251</text>\r\n",
       "<text text-anchor=\"middle\" x=\"145.5\" y=\"-111.8\" font-family=\"Helvetica,sans-Serif\" font-size=\"14.00\">value = [3, 248]</text>\r\n",
       "<text text-anchor=\"middle\" x=\"145.5\" y=\"-96.8\" font-family=\"Helvetica,sans-Serif\" font-size=\"14.00\">class = 양성</text>\r\n",
       "</g>\r\n",
       "<!-- 2&#45;&gt;3 -->\r\n",
       "<g id=\"edge3\" class=\"edge\"><title>2&#45;&gt;3</title>\r\n",
       "<path fill=\"none\" stroke=\"black\" d=\"M254.228,-192.884C238.966,-183.214 222.154,-172.563 206.407,-162.587\"/>\r\n",
       "<polygon fill=\"black\" stroke=\"black\" points=\"208.106,-159.52 197.785,-157.125 204.359,-165.433 208.106,-159.52\"/>\r\n",
       "</g>\r\n",
       "<!-- 6 -->\r\n",
       "<g id=\"node7\" class=\"node\"><title>6</title>\r\n",
       "<polygon fill=\"#e58139\" stroke=\"black\" points=\"355,-149.5 258,-149.5 258,-96.5 355,-96.5 355,-149.5\"/>\r\n",
       "<text text-anchor=\"middle\" x=\"306.5\" y=\"-134.3\" font-family=\"Helvetica,sans-Serif\" font-size=\"14.00\">samples = 1</text>\r\n",
       "<text text-anchor=\"middle\" x=\"306.5\" y=\"-119.3\" font-family=\"Helvetica,sans-Serif\" font-size=\"14.00\">value = [1, 0]</text>\r\n",
       "<text text-anchor=\"middle\" x=\"306.5\" y=\"-104.3\" font-family=\"Helvetica,sans-Serif\" font-size=\"14.00\">class = 악성</text>\r\n",
       "</g>\r\n",
       "<!-- 2&#45;&gt;6 -->\r\n",
       "<g id=\"edge6\" class=\"edge\"><title>2&#45;&gt;6</title>\r\n",
       "<path fill=\"none\" stroke=\"black\" d=\"M306.5,-192.884C306.5,-182.326 306.5,-170.597 306.5,-159.854\"/>\r\n",
       "<polygon fill=\"black\" stroke=\"black\" points=\"310,-159.52 306.5,-149.52 303,-159.52 310,-159.52\"/>\r\n",
       "</g>\r\n",
       "<!-- 4 -->\r\n",
       "<g id=\"node5\" class=\"node\"><title>4</title>\r\n",
       "<polygon fill=\"#7bbeee\" stroke=\"black\" points=\"97,-53 0,-53 0,-0 97,-0 97,-53\"/>\r\n",
       "<text text-anchor=\"middle\" x=\"48.5\" y=\"-37.8\" font-family=\"Helvetica,sans-Serif\" font-size=\"14.00\">samples = 4</text>\r\n",
       "<text text-anchor=\"middle\" x=\"48.5\" y=\"-22.8\" font-family=\"Helvetica,sans-Serif\" font-size=\"14.00\">value = [1, 3]</text>\r\n",
       "<text text-anchor=\"middle\" x=\"48.5\" y=\"-7.8\" font-family=\"Helvetica,sans-Serif\" font-size=\"14.00\">class = 양성</text>\r\n",
       "</g>\r\n",
       "<!-- 3&#45;&gt;4 -->\r\n",
       "<g id=\"edge4\" class=\"edge\"><title>3&#45;&gt;4</title>\r\n",
       "<path fill=\"none\" stroke=\"black\" d=\"M111.574,-88.9485C102.09,-79.709 91.7866,-69.671 82.3095,-60.4381\"/>\r\n",
       "<polygon fill=\"black\" stroke=\"black\" points=\"84.5227,-57.7079 74.9176,-53.2367 79.638,-62.7219 84.5227,-57.7079\"/>\r\n",
       "</g>\r\n",
       "<!-- 5 -->\r\n",
       "<g id=\"node6\" class=\"node\"><title>5</title>\r\n",
       "<polygon fill=\"#3b9ee5\" stroke=\"black\" points=\"228,-53 115,-53 115,-0 228,-0 228,-53\"/>\r\n",
       "<text text-anchor=\"middle\" x=\"171.5\" y=\"-37.8\" font-family=\"Helvetica,sans-Serif\" font-size=\"14.00\">samples = 247</text>\r\n",
       "<text text-anchor=\"middle\" x=\"171.5\" y=\"-22.8\" font-family=\"Helvetica,sans-Serif\" font-size=\"14.00\">value = [2, 245]</text>\r\n",
       "<text text-anchor=\"middle\" x=\"171.5\" y=\"-7.8\" font-family=\"Helvetica,sans-Serif\" font-size=\"14.00\">class = 양성</text>\r\n",
       "</g>\r\n",
       "<!-- 3&#45;&gt;5 -->\r\n",
       "<g id=\"edge5\" class=\"edge\"><title>3&#45;&gt;5</title>\r\n",
       "<path fill=\"none\" stroke=\"black\" d=\"M154.594,-88.9485C156.909,-80.5323 159.407,-71.4536 161.754,-62.9243\"/>\r\n",
       "<polygon fill=\"black\" stroke=\"black\" points=\"165.141,-63.8069 164.419,-53.2367 158.392,-61.9499 165.141,-63.8069\"/>\r\n",
       "</g>\r\n",
       "<!-- 8 -->\r\n",
       "<g id=\"node9\" class=\"node\"><title>8</title>\r\n",
       "<polygon fill=\"#7bbeee\" stroke=\"black\" points=\"566,-157 373,-157 373,-89 566,-89 566,-157\"/>\r\n",
       "<text text-anchor=\"middle\" x=\"469.5\" y=\"-141.8\" font-family=\"Helvetica,sans-Serif\" font-size=\"14.00\">worst smoothness &lt;= 0.179</text>\r\n",
       "<text text-anchor=\"middle\" x=\"469.5\" y=\"-126.8\" font-family=\"Helvetica,sans-Serif\" font-size=\"14.00\">samples = 12</text>\r\n",
       "<text text-anchor=\"middle\" x=\"469.5\" y=\"-111.8\" font-family=\"Helvetica,sans-Serif\" font-size=\"14.00\">value = [3, 9]</text>\r\n",
       "<text text-anchor=\"middle\" x=\"469.5\" y=\"-96.8\" font-family=\"Helvetica,sans-Serif\" font-size=\"14.00\">class = 양성</text>\r\n",
       "</g>\r\n",
       "<!-- 7&#45;&gt;8 -->\r\n",
       "<g id=\"edge8\" class=\"edge\"><title>7&#45;&gt;8</title>\r\n",
       "<path fill=\"none\" stroke=\"black\" d=\"M480.981,-192.884C479.615,-184.689 478.131,-175.789 476.699,-167.192\"/>\r\n",
       "<polygon fill=\"black\" stroke=\"black\" points=\"480.146,-166.588 475.05,-157.299 473.242,-167.739 480.146,-166.588\"/>\r\n",
       "</g>\r\n",
       "<!-- 11 -->\r\n",
       "<g id=\"node12\" class=\"node\"><title>11</title>\r\n",
       "<polygon fill=\"#e88f4f\" stroke=\"black\" points=\"760.5,-157 584.5,-157 584.5,-89 760.5,-89 760.5,-157\"/>\r\n",
       "<text text-anchor=\"middle\" x=\"672.5\" y=\"-141.8\" font-family=\"Helvetica,sans-Serif\" font-size=\"14.00\">worst symmetry &lt;= 0.268</text>\r\n",
       "<text text-anchor=\"middle\" x=\"672.5\" y=\"-126.8\" font-family=\"Helvetica,sans-Serif\" font-size=\"14.00\">samples = 20</text>\r\n",
       "<text text-anchor=\"middle\" x=\"672.5\" y=\"-111.8\" font-family=\"Helvetica,sans-Serif\" font-size=\"14.00\">value = [18, 2]</text>\r\n",
       "<text text-anchor=\"middle\" x=\"672.5\" y=\"-96.8\" font-family=\"Helvetica,sans-Serif\" font-size=\"14.00\">class = 악성</text>\r\n",
       "</g>\r\n",
       "<!-- 7&#45;&gt;11 -->\r\n",
       "<g id=\"edge11\" class=\"edge\"><title>7&#45;&gt;11</title>\r\n",
       "<path fill=\"none\" stroke=\"black\" d=\"M546.889,-192.884C564.847,-183.035 584.663,-172.169 603.145,-162.034\"/>\r\n",
       "<polygon fill=\"black\" stroke=\"black\" points=\"605.011,-165.002 612.096,-157.125 601.645,-158.864 605.011,-165.002\"/>\r\n",
       "</g>\r\n",
       "<!-- 9 -->\r\n",
       "<g id=\"node10\" class=\"node\"><title>9</title>\r\n",
       "<polygon fill=\"#4fa8e8\" stroke=\"black\" points=\"408,-53 305,-53 305,-0 408,-0 408,-53\"/>\r\n",
       "<text text-anchor=\"middle\" x=\"356.5\" y=\"-37.8\" font-family=\"Helvetica,sans-Serif\" font-size=\"14.00\">samples = 10</text>\r\n",
       "<text text-anchor=\"middle\" x=\"356.5\" y=\"-22.8\" font-family=\"Helvetica,sans-Serif\" font-size=\"14.00\">value = [1, 9]</text>\r\n",
       "<text text-anchor=\"middle\" x=\"356.5\" y=\"-7.8\" font-family=\"Helvetica,sans-Serif\" font-size=\"14.00\">class = 양성</text>\r\n",
       "</g>\r\n",
       "<!-- 8&#45;&gt;9 -->\r\n",
       "<g id=\"edge9\" class=\"edge\"><title>8&#45;&gt;9</title>\r\n",
       "<path fill=\"none\" stroke=\"black\" d=\"M429.978,-88.9485C418.711,-79.526 406.451,-69.2731 395.232,-59.8906\"/>\r\n",
       "<polygon fill=\"black\" stroke=\"black\" points=\"397.192,-56.967 387.275,-53.2367 392.701,-62.3368 397.192,-56.967\"/>\r\n",
       "</g>\r\n",
       "<!-- 10 -->\r\n",
       "<g id=\"node11\" class=\"node\"><title>10</title>\r\n",
       "<polygon fill=\"#e58139\" stroke=\"black\" points=\"523,-53 426,-53 426,-0 523,-0 523,-53\"/>\r\n",
       "<text text-anchor=\"middle\" x=\"474.5\" y=\"-37.8\" font-family=\"Helvetica,sans-Serif\" font-size=\"14.00\">samples = 2</text>\r\n",
       "<text text-anchor=\"middle\" x=\"474.5\" y=\"-22.8\" font-family=\"Helvetica,sans-Serif\" font-size=\"14.00\">value = [2, 0]</text>\r\n",
       "<text text-anchor=\"middle\" x=\"474.5\" y=\"-7.8\" font-family=\"Helvetica,sans-Serif\" font-size=\"14.00\">class = 악성</text>\r\n",
       "</g>\r\n",
       "<!-- 8&#45;&gt;10 -->\r\n",
       "<g id=\"edge10\" class=\"edge\"><title>8&#45;&gt;10</title>\r\n",
       "<path fill=\"none\" stroke=\"black\" d=\"M471.249,-88.9485C471.684,-80.7153 472.154,-71.848 472.596,-63.4814\"/>\r\n",
       "<polygon fill=\"black\" stroke=\"black\" points=\"476.105,-63.4077 473.138,-53.2367 469.115,-63.0378 476.105,-63.4077\"/>\r\n",
       "</g>\r\n",
       "<!-- 12 -->\r\n",
       "<g id=\"node13\" class=\"node\"><title>12</title>\r\n",
       "<polygon fill=\"#9ccef2\" stroke=\"black\" points=\"657,-53 560,-53 560,-0 657,-0 657,-53\"/>\r\n",
       "<text text-anchor=\"middle\" x=\"608.5\" y=\"-37.8\" font-family=\"Helvetica,sans-Serif\" font-size=\"14.00\">samples = 3</text>\r\n",
       "<text text-anchor=\"middle\" x=\"608.5\" y=\"-22.8\" font-family=\"Helvetica,sans-Serif\" font-size=\"14.00\">value = [1, 2]</text>\r\n",
       "<text text-anchor=\"middle\" x=\"608.5\" y=\"-7.8\" font-family=\"Helvetica,sans-Serif\" font-size=\"14.00\">class = 양성</text>\r\n",
       "</g>\r\n",
       "<!-- 11&#45;&gt;12 -->\r\n",
       "<g id=\"edge12\" class=\"edge\"><title>11&#45;&gt;12</title>\r\n",
       "<path fill=\"none\" stroke=\"black\" d=\"M650.116,-88.9485C644.106,-80.0749 637.598,-70.4648 631.553,-61.5388\"/>\r\n",
       "<polygon fill=\"black\" stroke=\"black\" points=\"634.436,-59.5539 625.93,-53.2367 628.64,-63.4792 634.436,-59.5539\"/>\r\n",
       "</g>\r\n",
       "<!-- 13 -->\r\n",
       "<g id=\"node14\" class=\"node\"><title>13</title>\r\n",
       "<polygon fill=\"#e58139\" stroke=\"black\" points=\"780,-53 675,-53 675,-0 780,-0 780,-53\"/>\r\n",
       "<text text-anchor=\"middle\" x=\"727.5\" y=\"-37.8\" font-family=\"Helvetica,sans-Serif\" font-size=\"14.00\">samples = 17</text>\r\n",
       "<text text-anchor=\"middle\" x=\"727.5\" y=\"-22.8\" font-family=\"Helvetica,sans-Serif\" font-size=\"14.00\">value = [17, 0]</text>\r\n",
       "<text text-anchor=\"middle\" x=\"727.5\" y=\"-7.8\" font-family=\"Helvetica,sans-Serif\" font-size=\"14.00\">class = 악성</text>\r\n",
       "</g>\r\n",
       "<!-- 11&#45;&gt;13 -->\r\n",
       "<g id=\"edge13\" class=\"edge\"><title>11&#45;&gt;13</title>\r\n",
       "<path fill=\"none\" stroke=\"black\" d=\"M691.736,-88.9485C696.794,-80.2579 702.264,-70.8608 707.367,-62.0917\"/>\r\n",
       "<polygon fill=\"black\" stroke=\"black\" points=\"710.516,-63.6401 712.521,-53.2367 704.466,-60.1189 710.516,-63.6401\"/>\r\n",
       "</g>\r\n",
       "<!-- 15 -->\r\n",
       "<g id=\"node16\" class=\"node\"><title>15</title>\r\n",
       "<polygon fill=\"#399de5\" stroke=\"black\" points=\"742,-253.5 645,-253.5 645,-200.5 742,-200.5 742,-253.5\"/>\r\n",
       "<text text-anchor=\"middle\" x=\"693.5\" y=\"-238.3\" font-family=\"Helvetica,sans-Serif\" font-size=\"14.00\">samples = 5</text>\r\n",
       "<text text-anchor=\"middle\" x=\"693.5\" y=\"-223.3\" font-family=\"Helvetica,sans-Serif\" font-size=\"14.00\">value = [0, 5]</text>\r\n",
       "<text text-anchor=\"middle\" x=\"693.5\" y=\"-208.3\" font-family=\"Helvetica,sans-Serif\" font-size=\"14.00\">class = 양성</text>\r\n",
       "</g>\r\n",
       "<!-- 14&#45;&gt;15 -->\r\n",
       "<g id=\"edge15\" class=\"edge\"><title>14&#45;&gt;15</title>\r\n",
       "<path fill=\"none\" stroke=\"black\" d=\"M693.5,-296.884C693.5,-286.326 693.5,-274.597 693.5,-263.854\"/>\r\n",
       "<polygon fill=\"black\" stroke=\"black\" points=\"697,-263.52 693.5,-253.52 690,-263.52 697,-263.52\"/>\r\n",
       "</g>\r\n",
       "<!-- 16 -->\r\n",
       "<g id=\"node17\" class=\"node\"><title>16</title>\r\n",
       "<polygon fill=\"#e6843d\" stroke=\"black\" points=\"948,-261 775,-261 775,-193 948,-193 948,-261\"/>\r\n",
       "<text text-anchor=\"middle\" x=\"861.5\" y=\"-245.8\" font-family=\"Helvetica,sans-Serif\" font-size=\"14.00\">worst concavity &lt;= 0.191</text>\r\n",
       "<text text-anchor=\"middle\" x=\"861.5\" y=\"-230.8\" font-family=\"Helvetica,sans-Serif\" font-size=\"14.00\">samples = 137</text>\r\n",
       "<text text-anchor=\"middle\" x=\"861.5\" y=\"-215.8\" font-family=\"Helvetica,sans-Serif\" font-size=\"14.00\">value = [134, 3]</text>\r\n",
       "<text text-anchor=\"middle\" x=\"861.5\" y=\"-200.8\" font-family=\"Helvetica,sans-Serif\" font-size=\"14.00\">class = 악성</text>\r\n",
       "</g>\r\n",
       "<!-- 14&#45;&gt;16 -->\r\n",
       "<g id=\"edge16\" class=\"edge\"><title>14&#45;&gt;16</title>\r\n",
       "<path fill=\"none\" stroke=\"black\" d=\"M748.045,-296.884C763.97,-287.214 781.513,-276.563 797.945,-266.587\"/>\r\n",
       "<polygon fill=\"black\" stroke=\"black\" points=\"800.21,-269.306 806.942,-261.125 796.577,-263.323 800.21,-269.306\"/>\r\n",
       "</g>\r\n",
       "<!-- 17 -->\r\n",
       "<g id=\"node18\" class=\"node\"><title>17</title>\r\n",
       "<polygon fill=\"#bddef6\" stroke=\"black\" points=\"944.5,-157 778.5,-157 778.5,-89 944.5,-89 944.5,-157\"/>\r\n",
       "<text text-anchor=\"middle\" x=\"861.5\" y=\"-141.8\" font-family=\"Helvetica,sans-Serif\" font-size=\"14.00\">worst texture &lt;= 30.975</text>\r\n",
       "<text text-anchor=\"middle\" x=\"861.5\" y=\"-126.8\" font-family=\"Helvetica,sans-Serif\" font-size=\"14.00\">samples = 5</text>\r\n",
       "<text text-anchor=\"middle\" x=\"861.5\" y=\"-111.8\" font-family=\"Helvetica,sans-Serif\" font-size=\"14.00\">value = [2, 3]</text>\r\n",
       "<text text-anchor=\"middle\" x=\"861.5\" y=\"-96.8\" font-family=\"Helvetica,sans-Serif\" font-size=\"14.00\">class = 양성</text>\r\n",
       "</g>\r\n",
       "<!-- 16&#45;&gt;17 -->\r\n",
       "<g id=\"edge17\" class=\"edge\"><title>16&#45;&gt;17</title>\r\n",
       "<path fill=\"none\" stroke=\"black\" d=\"M861.5,-192.884C861.5,-184.778 861.5,-175.982 861.5,-167.472\"/>\r\n",
       "<polygon fill=\"black\" stroke=\"black\" points=\"865,-167.299 861.5,-157.299 858,-167.299 865,-167.299\"/>\r\n",
       "</g>\r\n",
       "<!-- 20 -->\r\n",
       "<g id=\"node21\" class=\"node\"><title>20</title>\r\n",
       "<polygon fill=\"#e58139\" stroke=\"black\" points=\"1076,-149.5 963,-149.5 963,-96.5 1076,-96.5 1076,-149.5\"/>\r\n",
       "<text text-anchor=\"middle\" x=\"1019.5\" y=\"-134.3\" font-family=\"Helvetica,sans-Serif\" font-size=\"14.00\">samples = 132</text>\r\n",
       "<text text-anchor=\"middle\" x=\"1019.5\" y=\"-119.3\" font-family=\"Helvetica,sans-Serif\" font-size=\"14.00\">value = [132, 0]</text>\r\n",
       "<text text-anchor=\"middle\" x=\"1019.5\" y=\"-104.3\" font-family=\"Helvetica,sans-Serif\" font-size=\"14.00\">class = 악성</text>\r\n",
       "</g>\r\n",
       "<!-- 16&#45;&gt;20 -->\r\n",
       "<g id=\"edge20\" class=\"edge\"><title>16&#45;&gt;20</title>\r\n",
       "<path fill=\"none\" stroke=\"black\" d=\"M912.798,-192.884C931.623,-180.731 952.85,-167.027 971.386,-155.061\"/>\r\n",
       "<polygon fill=\"black\" stroke=\"black\" points=\"973.466,-157.884 979.969,-149.52 969.669,-152.003 973.466,-157.884\"/>\r\n",
       "</g>\r\n",
       "<!-- 18 -->\r\n",
       "<g id=\"node19\" class=\"node\"><title>18</title>\r\n",
       "<polygon fill=\"#399de5\" stroke=\"black\" points=\"905,-53 808,-53 808,-0 905,-0 905,-53\"/>\r\n",
       "<text text-anchor=\"middle\" x=\"856.5\" y=\"-37.8\" font-family=\"Helvetica,sans-Serif\" font-size=\"14.00\">samples = 3</text>\r\n",
       "<text text-anchor=\"middle\" x=\"856.5\" y=\"-22.8\" font-family=\"Helvetica,sans-Serif\" font-size=\"14.00\">value = [0, 3]</text>\r\n",
       "<text text-anchor=\"middle\" x=\"856.5\" y=\"-7.8\" font-family=\"Helvetica,sans-Serif\" font-size=\"14.00\">class = 양성</text>\r\n",
       "</g>\r\n",
       "<!-- 17&#45;&gt;18 -->\r\n",
       "<g id=\"edge18\" class=\"edge\"><title>17&#45;&gt;18</title>\r\n",
       "<path fill=\"none\" stroke=\"black\" d=\"M859.751,-88.9485C859.316,-80.7153 858.846,-71.848 858.404,-63.4814\"/>\r\n",
       "<polygon fill=\"black\" stroke=\"black\" points=\"861.885,-63.0378 857.862,-53.2367 854.895,-63.4077 861.885,-63.0378\"/>\r\n",
       "</g>\r\n",
       "<!-- 19 -->\r\n",
       "<g id=\"node20\" class=\"node\"><title>19</title>\r\n",
       "<polygon fill=\"#e58139\" stroke=\"black\" points=\"1020,-53 923,-53 923,-0 1020,-0 1020,-53\"/>\r\n",
       "<text text-anchor=\"middle\" x=\"971.5\" y=\"-37.8\" font-family=\"Helvetica,sans-Serif\" font-size=\"14.00\">samples = 2</text>\r\n",
       "<text text-anchor=\"middle\" x=\"971.5\" y=\"-22.8\" font-family=\"Helvetica,sans-Serif\" font-size=\"14.00\">value = [2, 0]</text>\r\n",
       "<text text-anchor=\"middle\" x=\"971.5\" y=\"-7.8\" font-family=\"Helvetica,sans-Serif\" font-size=\"14.00\">class = 악성</text>\r\n",
       "</g>\r\n",
       "<!-- 17&#45;&gt;19 -->\r\n",
       "<g id=\"edge19\" class=\"edge\"><title>17&#45;&gt;19</title>\r\n",
       "<path fill=\"none\" stroke=\"black\" d=\"M899.973,-88.9485C910.941,-79.526 922.875,-69.2731 933.797,-59.8906\"/>\r\n",
       "<polygon fill=\"black\" stroke=\"black\" points=\"936.237,-62.408 941.542,-53.2367 931.676,-57.0983 936.237,-62.408\"/>\r\n",
       "</g>\r\n",
       "</g>\r\n",
       "</svg>\r\n"
      ],
      "text/plain": [
       "<graphviz.files.Source at 0x264c30c5cc8>"
      ]
     },
     "metadata": {},
     "output_type": "display_data"
    }
   ],
   "source": [
    "from sklearn.tree import export_graphviz\n",
    "export_graphviz(tree, out_file='tree.dot',class_names=['악성','양성'],feature_names=cancer.feature_names, impurity=False, filled=True)\n",
    "\n",
    "import graphviz\n",
    "\n",
    "with open('tree.dot', encoding='utf-8') as f:\n",
    "    dot_graph= f.read()\n",
    "\n",
    "display(graphviz.Source(dot_graph))"
   ]
  },
  {
   "cell_type": "markdown",
   "metadata": {},
   "source": [
    "**samples**: 노드 안에 들어 있는 데이터의 개수<br>\n",
    "**value**: 분류값 별 데이터의 개수<br>\n",
    "**class**: 분류값<br>\n",
    "트리를 시각화하면 알고리즘의 예측이 어떻게 이뤄지는지 이해하기 좋다. 하지만 트리의 depth가 깊어지면 보기가 힘들어 진다."
   ]
  },
  {
   "cell_type": "markdown",
   "metadata": {},
   "source": [
    "### 트리의 특성 중요도(feature importance)\n",
    "\n",
    "    :0과1 사이의 숫자로, 트리를 만드는 결정에 각 특성이 얼마나 중요한지 평가\n",
    "     1에 가까울 수록 타깃 클래스 예측률 높음\n",
    " \n",
    " * 특성 중요도의 합은 1"
   ]
  },
  {
   "cell_type": "code",
   "execution_count": 35,
   "metadata": {},
   "outputs": [
    {
     "name": "stdout",
     "output_type": "stream",
     "text": [
      "특성 중요도: \n",
      " [0.         0.         0.         0.         0.         0.\n",
      " 0.         0.         0.         0.         0.01019737 0.04839825\n",
      " 0.         0.         0.0024156  0.         0.         0.\n",
      " 0.         0.         0.72682851 0.0458159  0.         0.\n",
      " 0.0141577  0.         0.018188   0.1221132  0.01188548 0.        ]\n"
     ]
    }
   ],
   "source": [
    "print('특성 중요도: \\n', tree.feature_importances_)"
   ]
  },
  {
   "cell_type": "markdown",
   "metadata": {},
   "source": [
    "#### 특성 중요도 시각화"
   ]
  },
  {
   "cell_type": "code",
   "execution_count": 40,
   "metadata": {},
   "outputs": [
    {
     "data": {
      "image/png": "[encoded data removed]",
      "text/plain": [
       "<Figure size 432x288 with 1 Axes>"
      ]
     },
     "metadata": {
      "needs_background": "light"
     },
     "output_type": "display_data"
    }
   ],
   "source": [
    "def plot_feature_importances_cancer(model):\n",
    "    n_features = cancer.data.shape[1]\n",
    "    plt.barh(np.arange(n_features),model.feature_importances_,align='center')\n",
    "    plt.yticks(np.arange(n_features), cancer.feature_names)\n",
    "    plt.xlabel('특성 중요도')\n",
    "    plt.ylabel('특성')\n",
    "    plt.ylim(-1, n_features)\n",
    "    \n",
    "plot_feature_importances_cancer(tree)"
   ]
  },
  {
   "cell_type": "code",
   "execution_count": 43,
   "metadata": {
    "scrolled": true
   },
   "outputs": [
    {
     "name": "stdout",
     "output_type": "stream",
     "text": [
      "mean radius:0.000\n",
      "mean texture:0.000\n",
      "mean perimeter:0.000\n",
      "mean area:0.000\n",
      "mean smoothness:0.000\n",
      "mean compactness:0.000\n",
      "mean concavity:0.000\n",
      "mean concave points:0.000\n",
      "mean symmetry:0.000\n",
      "mean fractal dimension:0.000\n",
      "radius error:0.010\n",
      "texture error:0.048\n",
      "perimeter error:0.000\n",
      "area error:0.000\n",
      "smoothness error:0.002\n",
      "compactness error:0.000\n",
      "concavity error:0.000\n",
      "concave points error:0.000\n",
      "symmetry error:0.000\n",
      "fractal dimension error:0.000\n",
      "worst radius:0.727\n",
      "worst texture:0.046\n",
      "worst perimeter:0.000\n",
      "worst area:0.000\n",
      "worst smoothness:0.014\n",
      "worst compactness:0.000\n",
      "worst concavity:0.018\n",
      "worst concave points:0.122\n",
      "worst symmetry:0.012\n",
      "worst fractal dimension:0.000\n"
     ]
    },
    {
     "data": {
      "text/plain": [
       "<matplotlib.axes._subplots.AxesSubplot at 0x264c365a408>"
      ]
     },
     "execution_count": 43,
     "metadata": {},
     "output_type": "execute_result"
    },
    {
     "data": {
      "image/png": "[encoded data removed]",
      "text/plain": [
       "<Figure size 432x288 with 1 Axes>"
      ]
     },
     "metadata": {
      "needs_background": "light"
     },
     "output_type": "display_data"
    }
   ],
   "source": [
    "import seaborn as sns\n",
    "\n",
    "for name, value in zip(cancer.feature_names, tree.feature_importances_):\n",
    "    print('{0}:{1:.3f}'.format(name,value))\n",
    "    \n",
    "sns.barplot(x=tree.feature_importances_, y=cancer.feature_names)"
   ]
  },
  {
   "cell_type": "markdown",
   "metadata": {},
   "source": [
    "* 결정 트리 그래프에서 최상위 노드가 worst_radius 였던 것을 확인하면 잘 나누고 있었다는 것을 알수 있다.\n",
    "* 그러나 어떤 특성의 feature_importances_ 값이 낮다고 해서 유용하지 않다는 뜻은 아니다.\n",
    "* 단지 트리가 그 특성을 선택하지 않았을 뿐 다른 특성이 동일한 정보를 가지고 있어서 일 수도 있다."
   ]
  },
  {
   "cell_type": "markdown",
   "metadata": {},
   "source": [
    "### 특성과 클래스와의 관계 파악\n",
    "\n",
    "#### 특정 특성 1가지 값에 대한 클래스 값인지 그래프 그려서 확인"
   ]
  },
  {
   "cell_type": "code",
   "execution_count": 48,
   "metadata": {},
   "outputs": [
    {
     "name": "stdout",
     "output_type": "stream",
     "text": [
      "Feature importances: [0. 1.]\n"
     ]
    },
    {
     "data": {
      "image/svg+xml": [
       "<?xml version=\"1.0\" encoding=\"UTF-8\" standalone=\"no\"?>\r\n",
       "<!DOCTYPE svg PUBLIC \"-//W3C//DTD SVG 1.1//EN\"\r\n",
       " \"http://www.w3.org/Graphics/SVG/1.1/DTD/svg11.dtd\">\r\n",
       "<!-- Generated by graphviz version 2.38.0 (20140413.2041)\r\n",
       " -->\r\n",
       "<!-- Title: Tree Pages: 1 -->\r\n",
       "<svg width=\"301pt\" height=\"224pt\"\r\n",
       " viewBox=\"0.00 0.00 301.00 224.00\" xmlns=\"http://www.w3.org/2000/svg\" xmlns:xlink=\"http://www.w3.org/1999/xlink\">\r\n",
       "<g id=\"graph0\" class=\"graph\" transform=\"scale(1 1) rotate(0) translate(4 220)\">\r\n",
       "<title>Tree</title>\r\n",
       "<polygon fill=\"white\" stroke=\"none\" points=\"-4,4 -4,-220 297,-220 297,4 -4,4\"/>\r\n",
       "<!-- 0 -->\r\n",
       "<g id=\"node1\" class=\"node\"><title>0</title>\r\n",
       "<polygon fill=\"#ffffff\" stroke=\"black\" points=\"172,-216 59,-216 59,-163 172,-163 172,-216\"/>\r\n",
       "<text text-anchor=\"middle\" x=\"115.5\" y=\"-200.8\" font-family=\"Helvetica,sans-Serif\" font-size=\"14.00\">X[1] &lt;= &#45;5.814</text>\r\n",
       "<text text-anchor=\"middle\" x=\"115.5\" y=\"-185.8\" font-family=\"Helvetica,sans-Serif\" font-size=\"14.00\">samples = 100</text>\r\n",
       "<text text-anchor=\"middle\" x=\"115.5\" y=\"-170.8\" font-family=\"Helvetica,sans-Serif\" font-size=\"14.00\">value = [50, 50]</text>\r\n",
       "</g>\r\n",
       "<!-- 1 -->\r\n",
       "<g id=\"node2\" class=\"node\"><title>1</title>\r\n",
       "<polygon fill=\"#e58139\" stroke=\"black\" points=\"105,-119.5 0,-119.5 0,-81.5 105,-81.5 105,-119.5\"/>\r\n",
       "<text text-anchor=\"middle\" x=\"52.5\" y=\"-104.3\" font-family=\"Helvetica,sans-Serif\" font-size=\"14.00\">samples = 25</text>\r\n",
       "<text text-anchor=\"middle\" x=\"52.5\" y=\"-89.3\" font-family=\"Helvetica,sans-Serif\" font-size=\"14.00\">value = [25, 0]</text>\r\n",
       "</g>\r\n",
       "<!-- 0&#45;&gt;1 -->\r\n",
       "<g id=\"edge1\" class=\"edge\"><title>0&#45;&gt;1</title>\r\n",
       "<path fill=\"none\" stroke=\"black\" d=\"M96.9387,-162.868C88.898,-151.764 79.496,-138.78 71.416,-127.622\"/>\r\n",
       "<polygon fill=\"black\" stroke=\"black\" points=\"74.2392,-125.553 65.5393,-119.507 68.5696,-129.659 74.2392,-125.553\"/>\r\n",
       "<text text-anchor=\"middle\" x=\"61.5895\" y=\"-140.493\" font-family=\"Helvetica,sans-Serif\" font-size=\"14.00\">True</text>\r\n",
       "</g>\r\n",
       "<!-- 2 -->\r\n",
       "<g id=\"node3\" class=\"node\"><title>2</title>\r\n",
       "<polygon fill=\"#9ccef2\" stroke=\"black\" points=\"236,-127 123,-127 123,-74 236,-74 236,-127\"/>\r\n",
       "<text text-anchor=\"middle\" x=\"179.5\" y=\"-111.8\" font-family=\"Helvetica,sans-Serif\" font-size=\"14.00\">X[1] &lt;= 5.348</text>\r\n",
       "<text text-anchor=\"middle\" x=\"179.5\" y=\"-96.8\" font-family=\"Helvetica,sans-Serif\" font-size=\"14.00\">samples = 75</text>\r\n",
       "<text text-anchor=\"middle\" x=\"179.5\" y=\"-81.8\" font-family=\"Helvetica,sans-Serif\" font-size=\"14.00\">value = [25, 50]</text>\r\n",
       "</g>\r\n",
       "<!-- 0&#45;&gt;2 -->\r\n",
       "<g id=\"edge2\" class=\"edge\"><title>0&#45;&gt;2</title>\r\n",
       "<path fill=\"none\" stroke=\"black\" d=\"M134.356,-162.868C140.679,-154.272 147.832,-144.549 154.548,-135.419\"/>\r\n",
       "<polygon fill=\"black\" stroke=\"black\" points=\"157.451,-137.379 160.558,-127.25 151.813,-133.231 157.451,-137.379\"/>\r\n",
       "<text text-anchor=\"middle\" x=\"164.322\" y=\"-148.265\" font-family=\"Helvetica,sans-Serif\" font-size=\"14.00\">False</text>\r\n",
       "</g>\r\n",
       "<!-- 3 -->\r\n",
       "<g id=\"node4\" class=\"node\"><title>3</title>\r\n",
       "<polygon fill=\"#399de5\" stroke=\"black\" points=\"170,-38 65,-38 65,-0 170,-0 170,-38\"/>\r\n",
       "<text text-anchor=\"middle\" x=\"117.5\" y=\"-22.8\" font-family=\"Helvetica,sans-Serif\" font-size=\"14.00\">samples = 50</text>\r\n",
       "<text text-anchor=\"middle\" x=\"117.5\" y=\"-7.8\" font-family=\"Helvetica,sans-Serif\" font-size=\"14.00\">value = [0, 50]</text>\r\n",
       "</g>\r\n",
       "<!-- 2&#45;&gt;3 -->\r\n",
       "<g id=\"edge3\" class=\"edge\"><title>2&#45;&gt;3</title>\r\n",
       "<path fill=\"none\" stroke=\"black\" d=\"M159.542,-73.9081C152.674,-65.1022 144.975,-55.2299 138.06,-46.3636\"/>\r\n",
       "<polygon fill=\"black\" stroke=\"black\" points=\"140.634,-43.972 131.724,-38.2389 135.114,-48.2768 140.634,-43.972\"/>\r\n",
       "</g>\r\n",
       "<!-- 4 -->\r\n",
       "<g id=\"node5\" class=\"node\"><title>4</title>\r\n",
       "<polygon fill=\"#e58139\" stroke=\"black\" points=\"293,-38 188,-38 188,-0 293,-0 293,-38\"/>\r\n",
       "<text text-anchor=\"middle\" x=\"240.5\" y=\"-22.8\" font-family=\"Helvetica,sans-Serif\" font-size=\"14.00\">samples = 25</text>\r\n",
       "<text text-anchor=\"middle\" x=\"240.5\" y=\"-7.8\" font-family=\"Helvetica,sans-Serif\" font-size=\"14.00\">value = [25, 0]</text>\r\n",
       "</g>\r\n",
       "<!-- 2&#45;&gt;4 -->\r\n",
       "<g id=\"edge4\" class=\"edge\"><title>2&#45;&gt;4</title>\r\n",
       "<path fill=\"none\" stroke=\"black\" d=\"M199.137,-73.9081C205.893,-65.1022 213.468,-55.2299 220.271,-46.3636\"/>\r\n",
       "<polygon fill=\"black\" stroke=\"black\" points=\"223.195,-48.3032 226.505,-38.2389 217.641,-44.042 223.195,-48.3032\"/>\r\n",
       "</g>\r\n",
       "</g>\r\n",
       "</svg>\r\n"
      ],
      "text/plain": [
       "<graphviz.files.Source at 0x264c32adec8>"
      ]
     },
     "metadata": {},
     "output_type": "display_data"
    },
    {
     "data": {
      "image/png": "[encoded data removed]",
      "text/plain": [
       "<Figure size 432x288 with 1 Axes>"
      ]
     },
     "metadata": {},
     "output_type": "display_data"
    }
   ],
   "source": [
    "tree = mglearn.plots.plot_tree_not_monotone()\n",
    "display(tree)"
   ]
  },
  {
   "cell_type": "markdown",
   "metadata": {},
   "source": [
    "* y축의 특성이 클래스 레이블과 복합적인 관계의 결정 경계\n",
    "* 위 그래프를 보면 클래스 값과 특성에 따른 관계를 볼 수 있다.\n",
    "* X[1]특성만으로는 양성인지 음성인지 알 수 없다."
   ]
  },
  {
   "cell_type": "markdown",
   "metadata": {},
   "source": [
    "## 회귀나무 DecisionTreeRegressor\n",
    "\n",
    "    : 의사결정나무의 피처가 연속형 변수 일때 회귀나무 모형을 사용\n",
    "    \n",
    " * 외삽(extrapolation): 훈련 데이터의 범위 밖의 포인트에 대한 예측 불가"
   ]
  },
  {
   "cell_type": "markdown",
   "metadata": {},
   "source": [
    "#### 컴퓨터 메모리 가격 동향 데이터셋 분석"
   ]
  },
  {
   "cell_type": "code",
   "execution_count": 53,
   "metadata": {},
   "outputs": [
    {
     "data": {
      "image/png": "[encoded data removed]",
      "text/plain": [
       "<Figure size 432x288 with 1 Axes>"
      ]
     },
     "metadata": {
      "needs_background": "light"
     },
     "output_type": "display_data"
    }
   ],
   "source": [
    "import warnings\n",
    "warnings.filterwarnings('ignore')\n",
    "ram_prices = pd.read_csv('../data/ram_price.csv')\n",
    "\n",
    "plt.yticks(fontname='Arial')\n",
    "plt.semilogy(ram_prices.date, ram_prices.price)\n",
    "plt.xlabel('년')\n",
    "plt.ylabel('가격 ($/Mbyte)')\n",
    "plt.show()"
   ]
  },
  {
   "cell_type": "markdown",
   "metadata": {},
   "source": [
    "#### 두가지 모델로 예측한 2000년 이후 ram 가격 그래프\n",
    "* 날짜 특성 하나만으로 2000년 이후의 가격을 예측해보자\n",
    "* 선형 회귀모델과 회귀 결정 트리 모델로 예측한 2000년도 이후의 가격 그래프를 그려서 비교"
   ]
  },
  {
   "cell_type": "code",
   "execution_count": 62,
   "metadata": {},
   "outputs": [],
   "source": [
    "from sklearn.tree import DecisionTreeRegressor\n",
    "from sklearn.linear_model import LinearRegression\n",
    "import numpy as np\n",
    "\n",
    "data_train = ram_prices[ram_prices.date < 2000]\n",
    "data_test = ram_prices[ram_prices.date>=2000]\n",
    "\n",
    "X_train = data_train.date.to_numpy()[:,np.newaxis]\n",
    "y_train = np.log(data_train.price)\n",
    "\n",
    "tree = DecisionTreeRegressor()\n",
    "linear_reg = LinearRegression()\n",
    "tree.fit(X_train,y_train)\n",
    "linear_reg.fit(X_train,y_train)\n",
    "\n",
    "X_all = ram_prices.date.to_numpy()[:,np.newaxis]\n",
    "\n",
    "#예측은 전체 기간에 대해서 수행\n",
    "pred_tree = tree.predict(X_all)\n",
    "pred_lr = linear_reg.predict(X_all)\n",
    "\n",
    "price_tree = np.exp(pred_tree)\n",
    "price_lr = np.exp(pred_lr)"
   ]
  },
  {
   "cell_type": "markdown",
   "metadata": {},
   "source": [
    "#### semilogy() : y축에 로그 스케일이 있는 세미 로그 플롯 함수"
   ]
  },
  {
   "cell_type": "code",
   "execution_count": 63,
   "metadata": {},
   "outputs": [
    {
     "data": {
      "text/plain": [
       "<matplotlib.legend.Legend at 0x264c33969c8>"
      ]
     },
     "execution_count": 63,
     "metadata": {},
     "output_type": "execute_result"
    },
    {
     "name": "stderr",
     "output_type": "stream",
     "text": [
      "Font 'default' does not have a glyph for '-' [U+2212], substituting with a dummy symbol.\n",
      "Font 'default' does not have a glyph for '-' [U+2212], substituting with a dummy symbol.\n",
      "Font 'default' does not have a glyph for '-' [U+2212], substituting with a dummy symbol.\n",
      "Font 'default' does not have a glyph for '-' [U+2212], substituting with a dummy symbol.\n"
     ]
    },
    {
     "data": {
      "image/png": "[encoded data removed]",
      "text/plain": [
       "<Figure size 432x288 with 1 Axes>"
      ]
     },
     "metadata": {
      "needs_background": "light"
     },
     "output_type": "display_data"
    }
   ],
   "source": [
    "plt.semilogy(data_train.date, data_train.price, label='훈련 데이터')\n",
    "plt.semilogy(data_test.date, data_test.price, label='테스트 데이터')\n",
    "plt.semilogy(ram_prices.date, price_tree, label='트리 예측')\n",
    "plt.semilogy(ram_prices.date, price_lr, label='선형회귀 예측')\n",
    "plt.legend()"
   ]
  },
  {
   "cell_type": "markdown",
   "metadata": {},
   "source": [
    "* 트리모델은 훈련데이터를 완벽하게 예측하지만 훈련데이터 밖의 새로운 데이터는 예측불가\n",
    "* 선형회귀모델은 훈련데이터와 테스트데이터의 미세한 굴곡을 직선으로 근사."
   ]
  },
  {
   "cell_type": "markdown",
   "metadata": {},
   "source": [
    "### 결정트리와 매개변수\n",
    "\n",
    "* 모델 복잡도를 조정하는 사전가지치기 매개변수 *max_depth, max_leaf_node, min_sample_leaf* 중 하나만 지정해도 과대적합을 막는데 충분함\n",
    "\n",
    "* 장점 \n",
    "     1. 결정트리는 만들어진 모델을 쉽게 시각화 할 수 있음\n",
    "     2.데이터의 스케일에 구애받지 않아 특성의 정규화, 표준화 같은 전처리 과정이 필요없음.\n",
    "     3.특성 스케일이 다르거나 이진특성과 연속적인 특성이 혼합되어도 잘 작동함\n",
    "\n",
    "* 단점\n",
    "    1. 사전가지치기를 사용한다고 해도 과대적합이 될수 있음 -> 일반화하기 어려움\n",
    "    2. 과대적합 문제의 대안으로 앙상블 방법 사용"
   ]
  },
  {
   "cell_type": "markdown",
   "metadata": {},
   "source": [
    "# 앙상블\n",
    "\n",
    "   앙상블 학습을 통한 분류는 여러개의 분류기를 생성하고 그 예측을 결합함으로써 \n",
    "   보다 <br> 정확한 최종 예측을 도출하는 기법"
   ]
  },
  {
   "cell_type": "markdown",
   "metadata": {},
   "source": [
    "### 앙상블 유형\n",
    "\n",
    "  일반적으로 Voting, Bagging, Boosting, Stacking 이 있음\n",
    "  \n",
    "  * 대표적인 Bagging은 랜덤 포레스트 알고리즘이 있고, 부스팅은 에이다부스팅, 그레디언트 부스팅 회귀 트리 계열의 앙상블이 전반적으로 높은 예측 성능을 나타냄\n",
    "\n",
    "### 앙상블의 특징\n",
    "\n",
    "    1. 단일 모델의 약점을 다수의 모델들을 결합하여 보완\n",
    "    \n",
    "    2. 뛰어난 성능을 가진 모델들로만 구성하는 것보다 성능이 떨어지더라도 \n",
    "        서로 다른 유형의 모델을 섞는 것이 오히려 전체 성능에 도움이 됨\n",
    "        \n",
    "    3. 랜덤포레스트 및 뛰어난 부스팅 알고리즘들은 모두 결정 트리 알고리즘 기반\n",
    "    \n",
    "    4. 결정 트리의 단점인 과적합을 많은 분류기를 결합해 보완하고 장점인\n",
    "       분류 기준은 강화\n",
    "\n",
    "### Bagging과 Boosting\n",
    "    \n",
    "    1. 보팅과 배깅은 여러개의 분류기가 투표를 통해 최종 예측 결과 결정하는 방식\n",
    "    2. Bagging : 중복을 허용하여 랜덤하게 훈련 데이터셋을 뽑는 Bagging을 사용해 과대적합 감소하기\n",
    "    3. Boosting : 앞선 모델의 오차를 학습하는 약한 학습기로 구성된 Boosting으로 강력한 모델 구축하기"
   ]
  },
  {
   "cell_type": "markdown",
   "metadata": {},
   "source": [
    "## 결정트리 앙상블 기법"
   ]
  },
  {
   "cell_type": "markdown",
   "metadata": {},
   "source": [
    "* 앙상블은 여러 머신러닝 모델을 연결하여 더 강력한 모델을 만드는 기법\n",
    "* 다양한 앙상블 기법 중 랜덤 포레스트와 그래디언트 부스팅 결정트리는 둘 다 모델을 구성하는\n",
    "기본요소로 결정트리를 사용\n",
    "* 두 모델은 분류와 회귀 문제의 다양한 데이터셋에서 효과적이라고 입증됨"
   ]
  },
  {
   "cell_type": "markdown",
   "metadata": {},
   "source": [
    "## 1. 랜덤 포레스트\n",
    "* 훈련 데이터에 과대적합되는 결정트리의 단점을 회피할 수 있는 방법\n",
    "* 랜덤 포레스트는 기본적으로 여러 결정 트리의 묶음\n",
    "\n",
    "* 서로 다른 방향으로 과대 적합된 트리를 많이 만들면 그 결과를 평균냄으로써 과대적합된 양을 줄일 수 있음\n",
    "* 이러한 전략은 구현하기 위해서는 결정 트리를 많이 만들어야 함\n",
    "* 각각의 트리는 타깃 예측을 잘 해야 하고 다른 트리와는 구별되어야 함\n"
   ]
  },
  {
   "cell_type": "markdown",
   "metadata": {},
   "source": [
    "** 랜덤 포레스트에서 트리를 랜덤하게 만드는 방법 두가지 **\n",
    "1. 데이터를 무작위로 선택하기\n",
    "2. 분할 테스트에서 특성을 무작위로 선택\n",
    "\n",
    "### 랜덤포레스트 구축\n",
    "\n",
    "1. n개의 랜덤한 부트스트랩 샘플을 뽑기(훈련 데이터셋에서 중복을 허용하면서 랜덤하게 n개의 샘플 선택)\n",
    "2. 각 노드 마다 부트스트랩 샘플에서 결정트리를 학습 \n",
    "3. 중복을 허용하지 않고 랜덤하게 d개의 특성 선택\n",
    "4. 정보 이득과 같은 목적함수를 기준으로 최선의 분할을 만드는 특성을 사용해 노드 분할\n",
    "\n",
    "* 1-2번 단계를 k번 반복\n",
    "* 각 트리의 예측을 모아 Majority Voting으로 틀래스 레이블 할당 \n",
    "\n"
   ]
  },
  {
   "cell_type": "markdown",
   "metadata": {},
   "source": [
    "## 투표 \n"
   ]
  },
  {
   "cell_type": "code",
   "execution_count": 67,
   "metadata": {},
   "outputs": [
    {
     "data": {
      "text/plain": [
       "RandomForestClassifier(n_estimators=5, random_state=2)"
      ]
     },
     "execution_count": 67,
     "metadata": {},
     "output_type": "execute_result"
    }
   ],
   "source": [
    "from sklearn.ensemble import RandomForestClassifier\n",
    "from sklearn.datasets import make_moons\n",
    "\n",
    "X, y = make_moons(n_samples=100, noise=0.25, random_state=3)\n",
    "X_train, X_test, y_train, y_test = train_test_split(X, y, stratify=y, random_state=42)\n",
    "\n",
    "forest = RandomForestClassifier(n_estimators=5, random_state=2)\n",
    "forest.fit(X_train, y_train)"
   ]
  },
  {
   "cell_type": "code",
   "execution_count": null,
   "metadata": {},
   "outputs": [],
   "source": [
    "fig, axes = plt.subplots(2, 3, figsize=(20, 10))\n",
    "for i, (ax, tree) in enumerate(zip(axes.ravel(), forest.estimators_)):\n",
    "    ax.set_title(\"트리 {}\".format(i))\n",
    "    mglearn.plots.plot_tree_partition(X, y, tree, ax=ax)\n",
    "    \n",
    "mglearn.plots.plot_2d_separator(forest, X, fill=True, ax=axes[-1, -1], alpha=.4)\n",
    "axes[-1, -1].set_title(\"랜덤 포레스트\")\n",
    "mglearn.discrete_scatter(X[:, 0], X[:, 1], y)\n",
    "plt.show()"
   ]
  },
  {
   "cell_type": "markdown",
   "metadata": {},
   "source": [
    "* 결정트리처럼 특성 중요도 제공\n",
    "* 각 트리의 특성 중요도를 취합하여 계산한 것\n",
    "* 일반적으로 랜덤 포레스트에서 제공하는 특성 중요도가 하나의 트리에서 제공하는 것 보다 더 신뢰도가 높음"
   ]
  },
  {
   "cell_type": "markdown",
   "metadata": {},
   "source": [
    "#### 랜덤포레스트 Cancer 데이터셋 - 100개의 트리"
   ]
  },
  {
   "cell_type": "code",
   "execution_count": 70,
   "metadata": {},
   "outputs": [
    {
     "name": "stdout",
     "output_type": "stream",
     "text": [
      "훈련 세트 정확도: 1.000\n",
      "테스트 세트 정확도: 0.972\n"
     ]
    }
   ],
   "source": [
    "from sklearn.datasets import load_breast_cancer\n",
    "from sklearn.ensemble import RandomForestClassifier\n",
    "\n",
    "cancer = load_breast_cancer()\n",
    "\n",
    "X_train, X_test , y_train, y_test =train_test_split(cancer.data, cancer.target,random_state=0)\n",
    "forest = RandomForestClassifier(n_estimators=100, random_state=0)\n",
    "forest.fit(X_train, y_train)\n",
    "\n",
    "print(\"훈련 세트 정확도: {:.3f}\".format(forest.score(X_train, y_train)))\n",
    "print(\"테스트 세트 정확도: {:.3f}\".format(forest.score(X_test, y_test)))"
   ]
  },
  {
   "cell_type": "code",
   "execution_count": 71,
   "metadata": {
    "scrolled": true
   },
   "outputs": [
    {
     "data": {
      "image/png": "[encoded data removed]",
      "text/plain": [
       "<Figure size 432x288 with 1 Axes>"
      ]
     },
     "metadata": {
      "needs_background": "light"
     },
     "output_type": "display_data"
    }
   ],
   "source": [
    "plot_feature_importances_cancer(forest)"
   ]
  },
  {
   "cell_type": "markdown",
   "metadata": {},
   "source": [
    "#### 장단점과 매개변수\n",
    "\n",
    "* 하이퍼파라미터 튜닝에 많은 노력을 기울이지 않아도 됨, 가지치기 필요 없음, 데이터 스케일링 필요없음\n",
    "* n_jobs 매개변수를 이용해 사용할 코어 수 지정가능\n",
    "* random_state를 다르게 지정하면 전혀 다른 모델이 생성됨\n",
    "* 랜덤 포레스트는 텍스트 데이터와 같이 매우 차원이 높고 희소한 데이터에는 잘 작동하지 않음 ->선형모델이 더 적합\n",
    "* 랜덤포레스트가 만들 트리 개수(**n_estimators**)가 중요함 - 트리개수가 많을수록 과대적합을 줄여 분류기의 성능 좋아짐\n",
    "* 부트스트랩 샘플크기(**max_features**)는 트리가 얼마나 무작위가 될지를 결정하고, 랜덤포레스트의 편향-분산 트레이드오프 조절가능\n",
    "* 부트스트랩 샘플 크기가 작아지면 개별 트리의 다양성 증가, 과대적합의 영향 감소"
   ]
  },
  {
   "cell_type": "markdown",
   "metadata": {},
   "source": [
    "## 2. 그레디언트 부스팅 회귀 트리"
   ]
  },
  {
   "cell_type": "markdown",
   "metadata": {},
   "source": [
    "* 그래디언트 부스팅회귀트리는 여러개의 결정트리를 묶어 강력한 모델을 만드는 앙상블 기법\n",
    "* 회귀문제, 분류문제에서 모두 사용가능\n",
    "* 랜덤포레스트와 달리 그래디언트 부스팅은 이전 트리의 오차를 보완하는 방식으로 순차적으로 트리를 생성\n",
    "* 강력한 사전 가지치기가 사용됨 \n",
    "* 그래디언트 부스팅 트리는 머신러닝 경연 대회에서 우승을 많이 차지하였고, 업계에서도 널리 사용된다.\n",
    "* 랜덤 포레스트보다는 매개변수 설정에 조금 더 민감하지만 잘 조정하면 높은 정확도를 제공 해준다.\n",
    "* 매개변수 **learning_rate** 로 오차 보완 가능, **max_depth**로 가지치기 가능"
   ]
  },
  {
   "cell_type": "markdown",
   "metadata": {},
   "source": [
    "#### 유방암 데이터셋을 이용한 그래디언트 부스팅 회귀 트리를 이용한 분류 성능측정"
   ]
  },
  {
   "cell_type": "code",
   "execution_count": 74,
   "metadata": {},
   "outputs": [
    {
     "name": "stdout",
     "output_type": "stream",
     "text": [
      "훈련 세트 정확도: 1.000\n",
      "테스트 세트 정확도: 0.965\n"
     ]
    }
   ],
   "source": [
    "from sklearn.ensemble import GradientBoostingClassifier\n",
    "\n",
    "X_train, X_test, y_train,  y_test = train_test_split(\n",
    "    cancer.data, cancer.target, random_state=0)\n",
    "\n",
    "gbrt = GradientBoostingClassifier(random_state=0)\n",
    "gbrt.fit(X_train, y_train)\n",
    "\n",
    "print(\"훈련 세트 정확도: {:.3f}\".format(gbrt.score(X_train, y_train)))\n",
    "print(\"테스트 세트 정확도: {:.3f}\".format(gbrt.score(X_test, y_test)))"
   ]
  },
  {
   "cell_type": "code",
   "execution_count": 75,
   "metadata": {},
   "outputs": [
    {
     "name": "stdout",
     "output_type": "stream",
     "text": [
      "훈련 세트 정확도: 0.991\n",
      "테스트 세트 정확도: 0.972\n"
     ]
    }
   ],
   "source": [
    "#max_depth로 사전가지치기 \n",
    "gbrt = GradientBoostingClassifier(random_state=0, max_depth=1)\n",
    "gbrt.fit(X_train, y_train)\n",
    "\n",
    "print(\"훈련 세트 정확도: {:.3f}\".format(gbrt.score(X_train, y_train)))\n",
    "print(\"테스트 세트 정확도: {:.3f}\".format(gbrt.score(X_test, y_test)))"
   ]
  },
  {
   "cell_type": "code",
   "execution_count": 76,
   "metadata": {},
   "outputs": [
    {
     "name": "stdout",
     "output_type": "stream",
     "text": [
      "훈련 세트 정확도: 0.988\n",
      "테스트 세트 정확도: 0.965\n"
     ]
    }
   ],
   "source": [
    "gbrt = GradientBoostingClassifier(random_state=0, learning_rate=0.01)\n",
    "gbrt.fit(X_train, y_train)\n",
    "\n",
    "print(\"훈련 세트 정확도: {:.3f}\".format(gbrt.score(X_train, y_train)))\n",
    "print(\"테스트 세트 정확도: {:.3f}\".format(gbrt.score(X_test, y_test)))"
   ]
  },
  {
   "cell_type": "code",
   "execution_count": 77,
   "metadata": {},
   "outputs": [
    {
     "data": {
      "image/png": "[encoded data removed]",
      "text/plain": [
       "<Figure size 432x288 with 1 Axes>"
      ]
     },
     "metadata": {
      "needs_background": "light"
     },
     "output_type": "display_data"
    }
   ],
   "source": [
    "gbrt = GradientBoostingClassifier(random_state=0, max_depth=1)\n",
    "gbrt.fit(X_train, y_train)\n",
    "\n",
    "plot_feature_importances_cancer(gbrt)"
   ]
  },
  {
   "cell_type": "markdown",
   "metadata": {},
   "source": [
    "# 커널 서포트 벡터 머신\n",
    "\n",
    "## 선형 모델과 비선형 특성"
   ]
  },
  {
   "cell_type": "markdown",
   "metadata": {},
   "source": [
    "### SVM \n",
    "  서포트 벡터 머신은 주어진 데이터를 바탕으로 하여<br>\n",
    "  두 카페고리 사이의 간경을 최대화 하는 데이터 포인트를 찾아내고<br>\n",
    "  그 서포트벡터에 수직인 경계를 통해 데이터 분류<br>"
   ]
  },
  {
   "cell_type": "markdown",
   "metadata": {},
   "source": [
    "!['image'](https://miro.medium.com/max/1200/1*06GSco3ItM3gwW2scY6Tmg.png)"
   ]
  },
  {
   "cell_type": "code",
   "execution_count": 79,
   "metadata": {
    "scrolled": true
   },
   "outputs": [
    {
     "data": {
      "image/png": "[encoded data removed]",
      "text/plain": [
       "<Figure size 432x288 with 1 Axes>"
      ]
     },
     "metadata": {},
     "output_type": "display_data"
    }
   ],
   "source": [
    "from sklearn.svm import SVC\n",
    "\n",
    "X, y = mglearn.tools.make_handcrafted_dataset()                                                                  \n",
    "svm = SVC(kernel='rbf', C=10, gamma=0.1).fit(X, y)                                                \n",
    "mglearn.plots.plot_2d_separator(svm, X, eps=.5)\n",
    "# 데이터 포인트 그리기\n",
    "mglearn.discrete_scatter(X[:, 0], X[:, 1], y)\n",
    "# 서포트 벡터\n",
    "sv = svm.support_vectors_\n",
    "# dual_coef_ 의 부호에 의해 서포트 벡터의 클래스 레이블이 결정됩니다\n",
    "sv_labels = svm.dual_coef_.ravel() > 0\n",
    "mglearn.discrete_scatter(sv[:, 0], sv[:, 1], sv_labels, s=15, markeredgewidth=3)\n",
    "plt.xlabel(\"특성 0\")\n",
    "plt.ylabel(\"특성 1\")\n",
    "plt.show() # 책에는 없음"
   ]
  },
  {
   "cell_type": "markdown",
   "metadata": {},
   "source": [
    "#### SVC 매개변수 튜닝\n",
    "\n",
    "   * **gamma** 매개변수는 가우시안 커널 폭의 역수로 하나의 훈련 샘플이 미치는 영향의 범위 결정\n",
    "   * gamma값이 작으면 넓은 영역을 의미하고, 크면 영향 범위가 제한적임\n",
    "   * **C 매개변수**는 선형모델에서 사용한 것 처럼 규제 매개변수, 각 포인트의 중요도를 제한 (dual_coef_값)"
   ]
  },
  {
   "cell_type": "code",
   "execution_count": 80,
   "metadata": {},
   "outputs": [
    {
     "data": {
      "image/png": "[encoded data removed]",
      "text/plain": [
       "<Figure size 1080x720 with 9 Axes>"
      ]
     },
     "metadata": {},
     "output_type": "display_data"
    }
   ],
   "source": [
    "fig, axes = plt.subplots(3, 3, figsize=(15, 10))\n",
    "\n",
    "for ax, C in zip(axes, [-1, 0, 3]):\n",
    "    for a, gamma in zip(ax, range(-1, 2)):\n",
    "        mglearn.plots.plot_svm(log_C=C, log_gamma=gamma, ax=a)\n",
    "        \n",
    "axes[0, 0].legend([\"클래스 0\", \"클래스 1\", \"클래스 0 서포트 벡터\", \"클래스 1 서포트 벡터\"],\n",
    "                  ncol=4, loc=(.9, 1.2))\n",
    "plt.show() # 책에는 없음"
   ]
  },
  {
   "cell_type": "code",
   "execution_count": 81,
   "metadata": {},
   "outputs": [
    {
     "name": "stdout",
     "output_type": "stream",
     "text": [
      "훈련 세트 정확도: 0.90\n",
      "테스트 세트 정확도: 0.94\n"
     ]
    }
   ],
   "source": [
    "X_train, X_test, y_train, y_test = train_test_split(\n",
    "    cancer.data, cancer.target, random_state=0)\n",
    "\n",
    "svc = SVC()\n",
    "svc.fit(X_train, y_train)\n",
    "\n",
    "print(\"훈련 세트 정확도: {:.2f}\".format(svc.score(X_train, y_train)))\n",
    "print(\"테스트 세트 정확도: {:.2f}\".format(svc.score(X_test, y_test)))"
   ]
  },
  {
   "cell_type": "code",
   "execution_count": 82,
   "metadata": {},
   "outputs": [
    {
     "data": {
      "image/png": "[encoded data removed]",
      "text/plain": [
       "<Figure size 432x288 with 1 Axes>"
      ]
     },
     "metadata": {
      "needs_background": "light"
     },
     "output_type": "display_data"
    }
   ],
   "source": [
    "plt.boxplot(X_train, manage_ticks=False)\n",
    "plt.yscale(\"symlog\")\n",
    "plt.xlabel(\"특성 목록\")\n",
    "plt.ylabel(\"특성 크기\")\n",
    "plt.show()"
   ]
  },
  {
   "cell_type": "markdown",
   "metadata": {},
   "source": [
    "#### SVM을 위한 전처리\n",
    "    : 특성값의 범위가 비슷해지도록 조정하는 것 \n",
    "    \n",
    " * 커널 SVM에서는 모든 특성값을 평균이 0이고 단위분산이 되도록하거나 0,1사이로 맞추는 경우가 많음\n",
    " * StandardScaler와 MinMaxSclaer 전처리 메서드 주로 사용"
   ]
  },
  {
   "cell_type": "code",
   "execution_count": 87,
   "metadata": {},
   "outputs": [
    {
     "name": "stdout",
     "output_type": "stream",
     "text": [
      "훈련 세트 정확도: 0.99\n",
      "테스트 세트 정확도: 0.97\n"
     ]
    }
   ],
   "source": [
    "from sklearn.preprocessing import StandardScaler\n",
    "\n",
    "scaler = StandardScaler()\n",
    "scaler.fit(X_train)\n",
    "X_tn_std = scaler.transform(X_train)\n",
    "X_te_std = scaler.transform(X_test)\n",
    "\n",
    "svc.fit(X_tn_std, y_train)\n",
    "print(\"훈련 세트 정확도: {:.2f}\".format(svc.score(X_tn_std, y_train)))\n",
    "print(\"테스트 세트 정확도: {:.2f}\".format(svc.score(X_te_std, y_test)))"
   ]
  },
  {
   "cell_type": "code",
   "execution_count": 93,
   "metadata": {},
   "outputs": [
    {
     "name": "stdout",
     "output_type": "stream",
     "text": [
      "훈련 세트 정확도: 0.37\n",
      "테스트 세트 정확도: 0.37\n"
     ]
    }
   ],
   "source": [
    "from sklearn.preprocessing import MinMaxScaler\n",
    "scaler= MinMaxScaler()\n",
    "scaler.fit(X_train)\n",
    "X_tn_m = scaler.transform(X_train)\n",
    "X_te_m = scaler.transform(X_test)\n",
    "\n",
    "svc.fit(X_tn_std, y_train)\n",
    "print(\"훈련 세트 정확도: {:.2f}\".format(svc.score(X_tn_m, y_train)))\n",
    "print(\"테스트 세트 정확도: {:.2f}\".format(svc.score(X_te_m, y_test)))"
   ]
  },
  {
   "cell_type": "code",
   "execution_count": 92,
   "metadata": {},
   "outputs": [
    {
     "data": {
      "text/html": [
       "<div>\n",
       "<style scoped>\n",
       "    .dataframe tbody tr th:only-of-type {\n",
       "        vertical-align: middle;\n",
       "    }\n",
       "\n",
       "    .dataframe tbody tr th {\n",
       "        vertical-align: top;\n",
       "    }\n",
       "\n",
       "    .dataframe thead th {\n",
       "        text-align: right;\n",
       "    }\n",
       "</style>\n",
       "<table border=\"1\" class=\"dataframe\">\n",
       "  <thead>\n",
       "    <tr style=\"text-align: right;\">\n",
       "      <th></th>\n",
       "      <th>mean radius</th>\n",
       "      <th>mean texture</th>\n",
       "      <th>mean perimeter</th>\n",
       "      <th>mean area</th>\n",
       "      <th>mean smoothness</th>\n",
       "      <th>mean compactness</th>\n",
       "      <th>mean concavity</th>\n",
       "      <th>mean concave points</th>\n",
       "      <th>mean symmetry</th>\n",
       "      <th>mean fractal dimension</th>\n",
       "      <th>...</th>\n",
       "      <th>worst radius</th>\n",
       "      <th>worst texture</th>\n",
       "      <th>worst perimeter</th>\n",
       "      <th>worst area</th>\n",
       "      <th>worst smoothness</th>\n",
       "      <th>worst compactness</th>\n",
       "      <th>worst concavity</th>\n",
       "      <th>worst concave points</th>\n",
       "      <th>worst symmetry</th>\n",
       "      <th>worst fractal dimension</th>\n",
       "    </tr>\n",
       "  </thead>\n",
       "  <tbody>\n",
       "    <tr>\n",
       "      <th>0</th>\n",
       "      <td>-0.650799</td>\n",
       "      <td>-0.430573</td>\n",
       "      <td>-0.680248</td>\n",
       "      <td>-0.626983</td>\n",
       "      <td>-0.913819</td>\n",
       "      <td>-0.933352</td>\n",
       "      <td>-0.787631</td>\n",
       "      <td>-0.679444</td>\n",
       "      <td>0.254041</td>\n",
       "      <td>-0.798772</td>\n",
       "      <td>...</td>\n",
       "      <td>-0.666144</td>\n",
       "      <td>0.018492</td>\n",
       "      <td>-0.681179</td>\n",
       "      <td>-0.631501</td>\n",
       "      <td>0.191962</td>\n",
       "      <td>-0.507751</td>\n",
       "      <td>-0.695929</td>\n",
       "      <td>-0.364339</td>\n",
       "      <td>0.323499</td>\n",
       "      <td>-0.757849</td>\n",
       "    </tr>\n",
       "    <tr>\n",
       "      <th>1</th>\n",
       "      <td>-0.828353</td>\n",
       "      <td>0.152265</td>\n",
       "      <td>-0.827738</td>\n",
       "      <td>-0.753094</td>\n",
       "      <td>0.652812</td>\n",
       "      <td>-0.708753</td>\n",
       "      <td>-1.066546</td>\n",
       "      <td>-1.071909</td>\n",
       "      <td>0.489037</td>\n",
       "      <td>-0.341454</td>\n",
       "      <td>...</td>\n",
       "      <td>-0.887045</td>\n",
       "      <td>0.023445</td>\n",
       "      <td>-0.900486</td>\n",
       "      <td>-0.771001</td>\n",
       "      <td>0.432101</td>\n",
       "      <td>-1.029169</td>\n",
       "      <td>-1.292774</td>\n",
       "      <td>-1.450367</td>\n",
       "      <td>0.625631</td>\n",
       "      <td>-1.030714</td>\n",
       "    </tr>\n",
       "    <tr>\n",
       "      <th>2</th>\n",
       "      <td>1.682772</td>\n",
       "      <td>2.189772</td>\n",
       "      <td>1.600098</td>\n",
       "      <td>1.673839</td>\n",
       "      <td>0.103624</td>\n",
       "      <td>-0.005326</td>\n",
       "      <td>0.705766</td>\n",
       "      <td>1.257731</td>\n",
       "      <td>-0.190645</td>\n",
       "      <td>-1.064688</td>\n",
       "      <td>...</td>\n",
       "      <td>1.508098</td>\n",
       "      <td>2.082033</td>\n",
       "      <td>1.401345</td>\n",
       "      <td>1.439992</td>\n",
       "      <td>-0.694368</td>\n",
       "      <td>-0.399657</td>\n",
       "      <td>0.262556</td>\n",
       "      <td>0.725046</td>\n",
       "      <td>-0.513298</td>\n",
       "      <td>-0.966014</td>\n",
       "    </tr>\n",
       "    <tr>\n",
       "      <th>3</th>\n",
       "      <td>-0.160411</td>\n",
       "      <td>-0.338290</td>\n",
       "      <td>-0.241878</td>\n",
       "      <td>-0.239207</td>\n",
       "      <td>-1.220208</td>\n",
       "      <td>-1.247434</td>\n",
       "      <td>-0.875740</td>\n",
       "      <td>-0.948189</td>\n",
       "      <td>-0.837790</td>\n",
       "      <td>-1.083682</td>\n",
       "      <td>...</td>\n",
       "      <td>-0.167070</td>\n",
       "      <td>0.076272</td>\n",
       "      <td>-0.252000</td>\n",
       "      <td>-0.253640</td>\n",
       "      <td>-1.200842</td>\n",
       "      <td>-1.164088</td>\n",
       "      <td>-0.825141</td>\n",
       "      <td>-0.967772</td>\n",
       "      <td>-0.888195</td>\n",
       "      <td>-1.176430</td>\n",
       "    </tr>\n",
       "    <tr>\n",
       "      <th>4</th>\n",
       "      <td>0.713269</td>\n",
       "      <td>0.234834</td>\n",
       "      <td>0.612740</td>\n",
       "      <td>0.553289</td>\n",
       "      <td>-1.546108</td>\n",
       "      <td>-0.642973</td>\n",
       "      <td>-0.665094</td>\n",
       "      <td>-0.672481</td>\n",
       "      <td>0.149196</td>\n",
       "      <td>-1.368593</td>\n",
       "      <td>...</td>\n",
       "      <td>0.585631</td>\n",
       "      <td>0.152210</td>\n",
       "      <td>0.584842</td>\n",
       "      <td>0.335264</td>\n",
       "      <td>-1.379854</td>\n",
       "      <td>0.258130</td>\n",
       "      <td>-0.109936</td>\n",
       "      <td>-0.425826</td>\n",
       "      <td>2.816487</td>\n",
       "      <td>-0.411282</td>\n",
       "    </tr>\n",
       "    <tr>\n",
       "      <th>...</th>\n",
       "      <td>...</td>\n",
       "      <td>...</td>\n",
       "      <td>...</td>\n",
       "      <td>...</td>\n",
       "      <td>...</td>\n",
       "      <td>...</td>\n",
       "      <td>...</td>\n",
       "      <td>...</td>\n",
       "      <td>...</td>\n",
       "      <td>...</td>\n",
       "      <td>...</td>\n",
       "      <td>...</td>\n",
       "      <td>...</td>\n",
       "      <td>...</td>\n",
       "      <td>...</td>\n",
       "      <td>...</td>\n",
       "      <td>...</td>\n",
       "      <td>...</td>\n",
       "      <td>...</td>\n",
       "      <td>...</td>\n",
       "      <td>...</td>\n",
       "    </tr>\n",
       "    <tr>\n",
       "      <th>421</th>\n",
       "      <td>1.310754</td>\n",
       "      <td>0.181407</td>\n",
       "      <td>1.178115</td>\n",
       "      <td>1.232174</td>\n",
       "      <td>-0.515658</td>\n",
       "      <td>-0.885548</td>\n",
       "      <td>-0.107748</td>\n",
       "      <td>0.239495</td>\n",
       "      <td>-0.920942</td>\n",
       "      <td>-1.849288</td>\n",
       "      <td>...</td>\n",
       "      <td>0.745170</td>\n",
       "      <td>-0.220878</td>\n",
       "      <td>0.634952</td>\n",
       "      <td>0.594798</td>\n",
       "      <td>-0.358173</td>\n",
       "      <td>-0.901896</td>\n",
       "      <td>-0.244699</td>\n",
       "      <td>0.215446</td>\n",
       "      <td>-0.521207</td>\n",
       "      <td>-1.472362</td>\n",
       "    </tr>\n",
       "    <tr>\n",
       "      <th>422</th>\n",
       "      <td>-0.478881</td>\n",
       "      <td>1.167376</td>\n",
       "      <td>-0.334878</td>\n",
       "      <td>-0.506984</td>\n",
       "      <td>1.606665</td>\n",
       "      <td>2.685120</td>\n",
       "      <td>1.767924</td>\n",
       "      <td>0.935857</td>\n",
       "      <td>0.814417</td>\n",
       "      <td>2.894839</td>\n",
       "      <td>...</td>\n",
       "      <td>-0.250931</td>\n",
       "      <td>2.483186</td>\n",
       "      <td>-0.289140</td>\n",
       "      <td>-0.300937</td>\n",
       "      <td>2.305182</td>\n",
       "      <td>5.306877</td>\n",
       "      <td>4.217126</td>\n",
       "      <td>1.613032</td>\n",
       "      <td>2.324533</td>\n",
       "      <td>6.974084</td>\n",
       "    </tr>\n",
       "    <tr>\n",
       "      <th>423</th>\n",
       "      <td>-1.331142</td>\n",
       "      <td>-0.221723</td>\n",
       "      <td>-1.324284</td>\n",
       "      <td>-1.055037</td>\n",
       "      <td>0.327635</td>\n",
       "      <td>-0.871325</td>\n",
       "      <td>-0.784826</td>\n",
       "      <td>-0.904859</td>\n",
       "      <td>-1.080017</td>\n",
       "      <td>1.018812</td>\n",
       "      <td>...</td>\n",
       "      <td>-0.878864</td>\n",
       "      <td>-0.102018</td>\n",
       "      <td>-0.933499</td>\n",
       "      <td>-0.765025</td>\n",
       "      <td>0.034781</td>\n",
       "      <td>-0.975056</td>\n",
       "      <td>-0.782743</td>\n",
       "      <td>-0.988065</td>\n",
       "      <td>-0.699955</td>\n",
       "      <td>-0.122663</td>\n",
       "    </tr>\n",
       "    <tr>\n",
       "      <th>424</th>\n",
       "      <td>-1.251102</td>\n",
       "      <td>-0.246008</td>\n",
       "      <td>-1.287002</td>\n",
       "      <td>-1.028648</td>\n",
       "      <td>-1.941379</td>\n",
       "      <td>-1.584827</td>\n",
       "      <td>-1.130378</td>\n",
       "      <td>-1.267483</td>\n",
       "      <td>-0.548563</td>\n",
       "      <td>0.270739</td>\n",
       "      <td>...</td>\n",
       "      <td>-1.298576</td>\n",
       "      <td>-0.793717</td>\n",
       "      <td>-1.332613</td>\n",
       "      <td>-0.996898</td>\n",
       "      <td>-2.677913</td>\n",
       "      <td>-1.486588</td>\n",
       "      <td>-1.360156</td>\n",
       "      <td>-1.758873</td>\n",
       "      <td>-1.562061</td>\n",
       "      <td>-1.009897</td>\n",
       "    </tr>\n",
       "    <tr>\n",
       "      <th>425</th>\n",
       "      <td>-0.746622</td>\n",
       "      <td>1.140663</td>\n",
       "      <td>-0.722037</td>\n",
       "      <td>-0.708094</td>\n",
       "      <td>-0.271413</td>\n",
       "      <td>-0.031005</td>\n",
       "      <td>0.287533</td>\n",
       "      <td>-0.208755</td>\n",
       "      <td>-1.506626</td>\n",
       "      <td>0.450452</td>\n",
       "      <td>...</td>\n",
       "      <td>-0.784776</td>\n",
       "      <td>1.902093</td>\n",
       "      <td>-0.742196</td>\n",
       "      <td>-0.705947</td>\n",
       "      <td>-0.118035</td>\n",
       "      <td>-0.007490</td>\n",
       "      <td>0.472019</td>\n",
       "      <td>-0.286068</td>\n",
       "      <td>-1.240947</td>\n",
       "      <td>0.212652</td>\n",
       "    </tr>\n",
       "  </tbody>\n",
       "</table>\n",
       "<p>426 rows × 30 columns</p>\n",
       "</div>"
      ],
      "text/plain": [
       "     mean radius  mean texture  mean perimeter  mean area  mean smoothness  \\\n",
       "0      -0.650799     -0.430573       -0.680248  -0.626983        -0.913819   \n",
       "1      -0.828353      0.152265       -0.827738  -0.753094         0.652812   \n",
       "2       1.682772      2.189772        1.600098   1.673839         0.103624   \n",
       "3      -0.160411     -0.338290       -0.241878  -0.239207        -1.220208   \n",
       "4       0.713269      0.234834        0.612740   0.553289        -1.546108   \n",
       "..           ...           ...             ...        ...              ...   \n",
       "421     1.310754      0.181407        1.178115   1.232174        -0.515658   \n",
       "422    -0.478881      1.167376       -0.334878  -0.506984         1.606665   \n",
       "423    -1.331142     -0.221723       -1.324284  -1.055037         0.327635   \n",
       "424    -1.251102     -0.246008       -1.287002  -1.028648        -1.941379   \n",
       "425    -0.746622      1.140663       -0.722037  -0.708094        -0.271413   \n",
       "\n",
       "     mean compactness  mean concavity  mean concave points  mean symmetry  \\\n",
       "0           -0.933352       -0.787631            -0.679444       0.254041   \n",
       "1           -0.708753       -1.066546            -1.071909       0.489037   \n",
       "2           -0.005326        0.705766             1.257731      -0.190645   \n",
       "3           -1.247434       -0.875740            -0.948189      -0.837790   \n",
       "4           -0.642973       -0.665094            -0.672481       0.149196   \n",
       "..                ...             ...                  ...            ...   \n",
       "421         -0.885548       -0.107748             0.239495      -0.920942   \n",
       "422          2.685120        1.767924             0.935857       0.814417   \n",
       "423         -0.871325       -0.784826            -0.904859      -1.080017   \n",
       "424         -1.584827       -1.130378            -1.267483      -0.548563   \n",
       "425         -0.031005        0.287533            -0.208755      -1.506626   \n",
       "\n",
       "     mean fractal dimension  ...  worst radius  worst texture  \\\n",
       "0                 -0.798772  ...     -0.666144       0.018492   \n",
       "1                 -0.341454  ...     -0.887045       0.023445   \n",
       "2                 -1.064688  ...      1.508098       2.082033   \n",
       "3                 -1.083682  ...     -0.167070       0.076272   \n",
       "4                 -1.368593  ...      0.585631       0.152210   \n",
       "..                      ...  ...           ...            ...   \n",
       "421               -1.849288  ...      0.745170      -0.220878   \n",
       "422                2.894839  ...     -0.250931       2.483186   \n",
       "423                1.018812  ...     -0.878864      -0.102018   \n",
       "424                0.270739  ...     -1.298576      -0.793717   \n",
       "425                0.450452  ...     -0.784776       1.902093   \n",
       "\n",
       "     worst perimeter  worst area  worst smoothness  worst compactness  \\\n",
       "0          -0.681179   -0.631501          0.191962          -0.507751   \n",
       "1          -0.900486   -0.771001          0.432101          -1.029169   \n",
       "2           1.401345    1.439992         -0.694368          -0.399657   \n",
       "3          -0.252000   -0.253640         -1.200842          -1.164088   \n",
       "4           0.584842    0.335264         -1.379854           0.258130   \n",
       "..               ...         ...               ...                ...   \n",
       "421         0.634952    0.594798         -0.358173          -0.901896   \n",
       "422        -0.289140   -0.300937          2.305182           5.306877   \n",
       "423        -0.933499   -0.765025          0.034781          -0.975056   \n",
       "424        -1.332613   -0.996898         -2.677913          -1.486588   \n",
       "425        -0.742196   -0.705947         -0.118035          -0.007490   \n",
       "\n",
       "     worst concavity  worst concave points  worst symmetry  \\\n",
       "0          -0.695929             -0.364339        0.323499   \n",
       "1          -1.292774             -1.450367        0.625631   \n",
       "2           0.262556              0.725046       -0.513298   \n",
       "3          -0.825141             -0.967772       -0.888195   \n",
       "4          -0.109936             -0.425826        2.816487   \n",
       "..               ...                   ...             ...   \n",
       "421        -0.244699              0.215446       -0.521207   \n",
       "422         4.217126              1.613032        2.324533   \n",
       "423        -0.782743             -0.988065       -0.699955   \n",
       "424        -1.360156             -1.758873       -1.562061   \n",
       "425         0.472019             -0.286068       -1.240947   \n",
       "\n",
       "     worst fractal dimension  \n",
       "0                  -0.757849  \n",
       "1                  -1.030714  \n",
       "2                  -0.966014  \n",
       "3                  -1.176430  \n",
       "4                  -0.411282  \n",
       "..                       ...  \n",
       "421                -1.472362  \n",
       "422                 6.974084  \n",
       "423                -0.122663  \n",
       "424                -1.009897  \n",
       "425                 0.212652  \n",
       "\n",
       "[426 rows x 30 columns]"
      ]
     },
     "execution_count": 92,
     "metadata": {},
     "output_type": "execute_result"
    }
   ],
   "source": [
    "cancer_data = X_tn_std\n",
    "cancer_df = pd.DataFrame(data=X_tn_std, columns=cancer.feature_names)\n",
    "cancer_df"
   ]
  }
 ],
 "metadata": {
  "kernelspec": {
   "display_name": "Python 3",
   "language": "python",
   "name": "python3"
  },
  "language_info": {
   "codemirror_mode": {
    "name": "ipython",
    "version": 3
   },
   "file_extension": ".py",
   "mimetype": "text/x-python",
   "name": "python",
   "nbconvert_exporter": "python",
   "pygments_lexer": "ipython3",
   "version": "3.7.4"
  }
 },
 "nbformat": 4,
 "nbformat_minor": 2
}
