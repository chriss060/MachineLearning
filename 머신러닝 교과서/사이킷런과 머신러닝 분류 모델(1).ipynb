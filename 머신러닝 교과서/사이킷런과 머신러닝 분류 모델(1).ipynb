{
 "cells": [
  {
   "cell_type": "markdown",
   "id": "e861739b",
   "metadata": {},
   "source": [
    "## 1. 사이킷런, 퍼셉트론 훈련"
   ]
  },
  {
   "cell_type": "markdown",
   "id": "cde40c90",
   "metadata": {},
   "source": [
    "\n",
    "- 150개의 꽃 샘플에서 꽃잎 길이와 꽃잎 너비를 특성 행렬 X에 할당하고 꽃 품종에 해당하는 클래스 레이블을 벡터 y에 할당\n",
    "- 정수 레이블 : Iris-setosa(0), Iris-versicolor(1), Iris-virginica(2)"
   ]
  },
  {
   "cell_type": "code",
   "execution_count": 3,
   "id": "e768438e",
   "metadata": {
    "scrolled": true
   },
   "outputs": [
    {
     "name": "stdout",
     "output_type": "stream",
     "text": [
      "클래스 레이블: [0 1 2]\n"
     ]
    }
   ],
   "source": [
    "from sklearn import datasets\n",
    "import numpy as np\n",
    "\n",
    "iris = datasets.load_iris()\n",
    "X = iris.data[:, [2,3]]\n",
    "y = iris.target\n",
    "\n",
    "print('클래스 레이블:', np.unique(y))"
   ]
  },
  {
   "cell_type": "markdown",
   "id": "7ffdb77b",
   "metadata": {},
   "source": [
    "#### 훈련 데이터셋, 테스트 데이터셋 분할\n",
    "- train_test_split 함수가 데이터 분할 전 데이터 셋 미리 섞기 (random_state 설정)\n",
    "- stratify = y : 계층화 기능 사용(훈련 데이터셋과 테스트 데이터셋의 클래스 레이블 비율을 입력 데이터셋과 동일하게 함)"
   ]
  },
  {
   "cell_type": "code",
   "execution_count": 4,
   "id": "2792aa83",
   "metadata": {},
   "outputs": [],
   "source": [
    "from sklearn.model_selection import train_test_split\n",
    "\n",
    "X_train, X_test, y_train, y_test = train_test_split(X,y, test_size=0.3, random_state=1, stratify = y)"
   ]
  },
  {
   "cell_type": "code",
   "execution_count": 5,
   "id": "53f75207",
   "metadata": {
    "scrolled": true
   },
   "outputs": [
    {
     "name": "stdout",
     "output_type": "stream",
     "text": [
      "y의 레이블 카운트: [50 50 50]\n",
      "y_train의 레이블 카운트: [35 35 35]\n",
      "y_test의 레이블 카운트: [15 15 15]\n"
     ]
    }
   ],
   "source": [
    "#계층화 테스트\n",
    "print(f'y의 레이블 카운트: {np.bincount(y)}')\n",
    "print(f'y_train의 레이블 카운트: {np.bincount(y_train)}')\n",
    "print(f'y_test의 레이블 카운트: {np.bincount(y_test)}')"
   ]
  },
  {
   "cell_type": "markdown",
   "id": "5830cca3",
   "metadata": {},
   "source": [
    "#### StandardScaler\n",
    "- StandardScaler의 fit( ) : 훈련 데이터셋의 각 특성 차원마다 샘플평균, 표준편차 계산\n",
    "- StandardScaler의 transform( ) : 계산된 평균, 표준편차로 훈련 데이터셋 표준화"
   ]
  },
  {
   "cell_type": "code",
   "execution_count": 6,
   "id": "ac1a3125",
   "metadata": {},
   "outputs": [],
   "source": [
    "from sklearn.preprocessing import StandardScaler\n",
    "sc = StandardScaler()\n",
    "\n",
    "sc.fit(X_train)\n",
    "\n",
    "#trainSet, testSet 표준편차(std)\n",
    "X_train_std = sc.transform(X_train)\n",
    "X_test_std = sc.transform(X_test)"
   ]
  },
  {
   "cell_type": "markdown",
   "id": "ec54aca9",
   "metadata": {},
   "source": [
    "- 사이킷런의 OvR(One-versus-Rest) 다중 분류"
   ]
  },
  {
   "cell_type": "code",
   "execution_count": 7,
   "id": "c26f5e80",
   "metadata": {},
   "outputs": [
    {
     "data": {
      "text/plain": [
       "Perceptron(eta0=0.1, random_state=1)"
      ]
     },
     "execution_count": 7,
     "metadata": {},
     "output_type": "execute_result"
    }
   ],
   "source": [
    "from sklearn.linear_model import Perceptron\n",
    "\n",
    "ppn = Perceptron(eta0=0.1, random_state=1)\n",
    "#퍼셉트론 모델 훈련\n",
    "ppn.fit(X_train_std, y_train)"
   ]
  },
  {
   "cell_type": "markdown",
   "id": "04b769bd",
   "metadata": {},
   "source": [
    "#### 학습률 조정 \n",
    "\n",
    "    학습률 너무 클 때 : 알고리즘이 전역 최솟값 지나침\n",
    "    \n",
    "    학습률 너무 작을 때 : 학습속도가 느려 대규모 데이터셋에서 수렴하기 까지 많은 에포크 필요"
   ]
  },
  {
   "cell_type": "code",
   "execution_count": 8,
   "id": "0ede4e15",
   "metadata": {
    "scrolled": true
   },
   "outputs": [
    {
     "name": "stdout",
     "output_type": "stream",
     "text": [
      "잘못 분류된 샘플 개수: 1\n"
     ]
    }
   ],
   "source": [
    "# 45개의 샘플에서 1개 잘못 분류 (분류오차 : 0.022)\n",
    "y_pred = ppn.predict(X_test_std)\n",
    "print(f'잘못 분류된 샘플 개수: {(y_test != y_pred).sum()}')"
   ]
  },
  {
   "cell_type": "code",
   "execution_count": 9,
   "id": "e48c2c9f",
   "metadata": {},
   "outputs": [
    {
     "name": "stdout",
     "output_type": "stream",
     "text": [
      "정확도: 0.9777777777777777\n",
      "정확도: 0.9777777777777777\n"
     ]
    }
   ],
   "source": [
    "from sklearn.metrics import accuracy_score\n",
    "#pred 예측 정확도\n",
    "print(f'정확도: {accuracy_score(y_test, y_pred)}')\n",
    "#test셋 정확도\n",
    "print(f'정확도: {ppn.score(X_test_std, y_test)}')"
   ]
  },
  {
   "cell_type": "code",
   "execution_count": 10,
   "id": "7345d9f6",
   "metadata": {},
   "outputs": [],
   "source": [
    "from matplotlib.colors import ListedColormap\n",
    "import matplotlib.pyplot as plt\n",
    "\n",
    "def plot_decision_regions(X,y, classifier, test_idx=None, resolution=0.02):\n",
    "    \n",
    "    #마커, 컬러맵 설정\n",
    "    markers = ('s', 'x', 'o', '^', 'v')\n",
    "    colors = ('red','blue','lightgreen','gray','cyan')\n",
    "    cmap = ListedColormap(colors[:len(np.unique(y))])\n",
    "    \n",
    "    #결정 경계 그리기\n",
    "    x1_min, x1_max = X[:,0].min() - 1, X[:,0].max() + 1\n",
    "    x2_min, x2_max = X[:,1].min() - 1, X[:,1].max() + 1\n",
    "    xx1, xx2 = np.meshgrid(np.arange(x1_min, x1_max, resolution),\n",
    "                           np.arange(x2_min, x2_max, resolution))\n",
    "    \n",
    "    Z = classifier.predict(np.array([xx1.ravel(), xx2.ravel()]).T)\n",
    "    Z = Z.reshape(xx1.shape)\n",
    "    \n",
    "    plt.contourf(xx1, xx2, Z, alpha=0.3, cmap=cmap)\n",
    "    plt.xlim(xx1.min(), xx1.max())\n",
    "    plt.ylim(xx2.min(), xx2.max())\n",
    "    \n",
    "    for idx, cl in enumerate(np.unique(y)):\n",
    "        plt.scatter(x=X[y ==cl, 0], y=X[y ==cl, 1],alpha =0.8, c=colors[idx], marker=markers[idx], label=cl, edgecolor='black')\n",
    "    \n",
    "    if test_idx:\n",
    "        X_test, y_test = X[test_idx,:], y[test_idx]\n",
    "        \n",
    "        plt.scatter(X_test[:,0], X_test[:,1], facecolors='none', edgecolor='black', alpha=1.0, linewidth=1, marker='o', s=100, label='test set')\n",
    "                           \n"
   ]
  },
  {
   "cell_type": "code",
   "execution_count": 11,
   "id": "f1d54446",
   "metadata": {
    "scrolled": true
   },
   "outputs": [
    {
     "name": "stderr",
     "output_type": "stream",
     "text": [
      "/var/folders/6q/cy3y3kyx3218xz2ymsd6n8jc0000gn/T/ipykernel_1196/4065348622.py:25: UserWarning: You passed a edgecolor/edgecolors ('black') for an unfilled marker ('x').  Matplotlib is ignoring the edgecolor in favor of the facecolor.  This behavior may change in the future.\n",
      "  plt.scatter(x=X[y ==cl, 0], y=X[y ==cl, 1],alpha =0.8, c=colors[idx], marker=markers[idx], label=cl, edgecolor='black')\n"
     ]
    },
    {
     "data": {
      "image/png": "[encoded data removed]",
      "text/plain": [
       "<Figure size 432x288 with 1 Axes>"
      ]
     },
     "metadata": {
      "needs_background": "light"
     },
     "output_type": "display_data"
    }
   ],
   "source": [
    "X_combined_std = np.vstack((X_train_std, X_test_std))\n",
    "y_combined = np.hstack((y_train, y_test))\n",
    "plot_decision_regions(X=X_combined_std, y=y_combined, classifier=ppn, test_idx=range(105,150))\n",
    "\n",
    "plt.xlabel('petal length [standardized]')\n",
    "plt.ylabel('petal width [standardized]')\n",
    "plt.legend(loc = 'upper left')\n",
    "plt.tight_layout()\n",
    "plt.show()\n",
    "\n",
    "# 결과 : 세 개의 붓꽃 클래스는 선형 결정 경계로 완벽 분류 불가 "
   ]
  },
  {
   "cell_type": "markdown",
   "id": "d64bad28",
   "metadata": {},
   "source": [
    "## 2. 로지스틱 회귀를 사용한 클래스 확률 모델링"
   ]
  },
  {
   "cell_type": "markdown",
   "id": "93257908",
   "metadata": {},
   "source": [
    "### 아달린 구현을 로지스틱 회귀 알고리즘으로 변경"
   ]
  },
  {
   "cell_type": "code",
   "execution_count": 12,
   "id": "3735b533",
   "metadata": {},
   "outputs": [],
   "source": [
    "class LogisticRegressionGD(object):\n",
    "    \"\"\" 경사 하강법을 사용한 로지스틱 회귀 분류기\n",
    "    \n",
    "    매개 변수\n",
    "    -------\n",
    "    eta : float, 학습률(0.0 ~ 1.0)\n",
    "    n_iter : int, 훈련 데이터셋 반복 횟수(epoch)\n",
    "    random_state : int\n",
    "    \n",
    "    속성 \n",
    "    _______\n",
    "    w_ : 학습된 가중치\n",
    "    cost_ : 에포크 마다 누적된 로지스틱 비용함수 값\n",
    "    \n",
    "    \n",
    "    \"\"\"\n",
    "    \n",
    "    def __init__(self, eta=0.5, n_iter=100, random_state=1):\n",
    "        self.eta = eta\n",
    "        self.n_iter = n_iter\n",
    "        self.random_state = random_state\n",
    "        \n",
    "    def fit(self, X,y):\n",
    "        rgen = np.random.RandomState(self.random_state)\n",
    "        self.w_ = rgen.normal(loc=0.0, scale=0.01, size=1+X.shape[1])\n",
    "        self.cost_ = []\n",
    "        \n",
    "        for i in range(self.n_iter):\n",
    "            net_input = self.net_input(X)\n",
    "            output = self.activation(net_input)\n",
    "            errors = (y- output)\n",
    "            self.w_[1:] += self.eta * X.T.dot(errors)\n",
    "            self.w_[0] += self.eta * errors.sum()\n",
    "            \n",
    "            #제곱 오차합 대신 로지스틱 비용 계산\n",
    "            cost = (-y.dot(np.log(output))- ((1-y).dot(np.log(1-output))))\n",
    "            self.cost_.append(cost)\n",
    "            \n",
    "        return self\n",
    "    \n",
    "    def net_input(self,X):\n",
    "        \"\"\"최종 입력 계산\"\"\"\n",
    "        return np.dot(X, self.w_[1:]) + self.w_[0]\n",
    "    \n",
    "    def activation(self, z):\n",
    "        \"\"\"로지스틱 시그모이드 활성화 계산\"\"\"\n",
    "        return 1./(1.+ np.exp(-np.clip(z,-250, 250)))\n",
    "    \n",
    "    def predict(self, X):\n",
    "        \"\"\"단위 계단 함수를 사용해 클래스 레이블 반환\"\"\"\n",
    "        return np.where(self.net_input(X)>=0.0, 1,0)\n",
    "        "
   ]
  },
  {
   "cell_type": "code",
   "execution_count": 14,
   "id": "7b82002a",
   "metadata": {},
   "outputs": [
    {
     "name": "stderr",
     "output_type": "stream",
     "text": [
      "/var/folders/6q/cy3y3kyx3218xz2ymsd6n8jc0000gn/T/ipykernel_1196/4065348622.py:25: UserWarning: You passed a edgecolor/edgecolors ('black') for an unfilled marker ('x').  Matplotlib is ignoring the edgecolor in favor of the facecolor.  This behavior may change in the future.\n",
      "  plt.scatter(x=X[y ==cl, 0], y=X[y ==cl, 1],alpha =0.8, c=colors[idx], marker=markers[idx], label=cl, edgecolor='black')\n"
     ]
    },
    {
     "data": {
      "image/png": "[encoded data removed]",
      "text/plain": [
       "<Figure size 432x288 with 1 Axes>"
      ]
     },
     "metadata": {
      "needs_background": "light"
     },
     "output_type": "display_data"
    }
   ],
   "source": [
    "X_train_01_subset = X_train[(y_train == 0) | (y_train == 1)]\n",
    "y_train_01_subset = y_train[(y_train == 0) | (y_train == 1)]\n",
    "\n",
    "lrgd = LogisticRegressionGD(eta=0.05, n_iter=1000, random_state = 1)\n",
    "lrgd.fit(X_train_01_subset, y_train_01_subset)\n",
    "plot_decision_regions(X=X_train_01_subset, y=y_train_01_subset, classifier=lrgd)\n",
    "\n",
    "plt.xlabel('petal length [standardized]')\n",
    "plt.ylabel('petal width [standardized]')\n",
    "plt.legend(loc = 'upper left')\n",
    "plt.tight_layout()\n",
    "plt.show()"
   ]
  },
  {
   "cell_type": "markdown",
   "id": "7f51c279",
   "metadata": {},
   "source": [
    "###  사이킷런을 사용하여 로지스틱 회귀 모델 훈련"
   ]
  },
  {
   "cell_type": "markdown",
   "id": "59daa425",
   "metadata": {},
   "source": [
    "#### - sklearn.linear_model.LogisticRegression의 fit 메서드로 붓꽃데이터셋 클래스 세 개 모델 훈련"
   ]
  },
  {
   "cell_type": "code",
   "execution_count": 16,
   "id": "b0ea1515",
   "metadata": {},
   "outputs": [
    {
     "name": "stderr",
     "output_type": "stream",
     "text": [
      "/var/folders/6q/cy3y3kyx3218xz2ymsd6n8jc0000gn/T/ipykernel_1196/4065348622.py:25: UserWarning: You passed a edgecolor/edgecolors ('black') for an unfilled marker ('x').  Matplotlib is ignoring the edgecolor in favor of the facecolor.  This behavior may change in the future.\n",
      "  plt.scatter(x=X[y ==cl, 0], y=X[y ==cl, 1],alpha =0.8, c=colors[idx], marker=markers[idx], label=cl, edgecolor='black')\n"
     ]
    },
    {
     "data": {
      "image/png": "[encoded data removed]",
      "text/plain": [
       "<Figure size 432x288 with 1 Axes>"
      ]
     },
     "metadata": {
      "needs_background": "light"
     },
     "output_type": "display_data"
    }
   ],
   "source": [
    "from sklearn.linear_model import LogisticRegression\n",
    "lr = LogisticRegression(C=100.0, random_state=1)\n",
    "\n",
    "lr.fit(X_train_std, y_train)\n",
    "plot_decision_regions(X_combined_std, y_combined, classifier=lr, test_idx=range(105,150))\n",
    "\n",
    "\n",
    "plt.xlabel('petal length [standardized]')\n",
    "plt.ylabel('petal width [standardized]')\n",
    "plt.legend(loc = 'upper left')\n",
    "plt.tight_layout()\n",
    "plt.show()"
   ]
  },
  {
   "cell_type": "markdown",
   "id": "a8985ee9",
   "metadata": {},
   "source": [
    "#### - predict_proba( ) : 훈련 샘플이 어떤 클래스에 속할 확률 구하는 메서드\n",
    "#### - 행에서 가장 큰 값의 열이 예측 클래스 레이블이 됨"
   ]
  },
  {
   "cell_type": "code",
   "execution_count": 17,
   "id": "ffba26d4",
   "metadata": {},
   "outputs": [
    {
     "data": {
      "text/plain": [
       "array([2, 0, 0])"
      ]
     },
     "execution_count": 17,
     "metadata": {},
     "output_type": "execute_result"
    }
   ],
   "source": [
    "#조건부 확률을 계산하고 넘파이 argmax 함수로 직접 클래스 레이블로 바꿈\n",
    "lr.predict_proba(X_test_std[:3, :]).argmax(axis=1)"
   ]
  },
  {
   "cell_type": "markdown",
   "id": "86c20dbc",
   "metadata": {},
   "source": [
    "#### - 사이킷런에서는 입력데이터로 2차원 배열을 입력해야하기 때문에 2차원 포멧으로 변경 필수"
   ]
  },
  {
   "cell_type": "code",
   "execution_count": 19,
   "id": "e015be6b",
   "metadata": {},
   "outputs": [
    {
     "data": {
      "text/plain": [
       "array([2])"
      ]
     },
     "execution_count": 19,
     "metadata": {},
     "output_type": "execute_result"
    }
   ],
   "source": [
    "lr.predict(X_test_std[0,:].reshape(1,-1))"
   ]
  },
  {
   "cell_type": "markdown",
   "id": "571b61be",
   "metadata": {},
   "source": [
    "### 규제를 사용하여 과대적합 피하기 "
   ]
  },
  {
   "cell_type": "markdown",
   "id": "cd39b97e",
   "metadata": {},
   "source": [
    "#### 사이킷런의 LogisticRegression 클래스의 매개변수 C :  규제 하이퍼파라미터 람다의 역수\n",
    "    - C의 값을 감소시키면 규제 강도 증가"
   ]
  },
  {
   "cell_type": "code",
   "execution_count": 50,
   "id": "59d28ac9",
   "metadata": {},
   "outputs": [
    {
     "name": "stderr",
     "output_type": "stream",
     "text": [
      "/var/folders/6q/cy3y3kyx3218xz2ymsd6n8jc0000gn/T/ipykernel_1196/3269997622.py:9: VisibleDeprecationWarning: Creating an ndarray from ragged nested sequences (which is a list-or-tuple of lists-or-tuples-or ndarrays with different lengths or shapes) is deprecated. If you meant to do this, you must specify 'dtype=object' when creating the ndarray.\n",
      "  plt.plot(params, np.array(weights).T[0], label='petal length')\n"
     ]
    },
    {
     "ename": "ValueError",
     "evalue": "x and y must have same first dimension, but have shapes (0,) and (2,)",
     "output_type": "error",
     "traceback": [
      "\u001b[0;31m---------------------------------------------------------------------------\u001b[0m",
      "\u001b[0;31mValueError\u001b[0m                                Traceback (most recent call last)",
      "\u001b[0;32m/var/folders/6q/cy3y3kyx3218xz2ymsd6n8jc0000gn/T/ipykernel_1196/3269997622.py\u001b[0m in \u001b[0;36m<module>\u001b[0;34m\u001b[0m\n\u001b[1;32m      7\u001b[0m \u001b[0;34m\u001b[0m\u001b[0m\n\u001b[1;32m      8\u001b[0m \u001b[0;34m\u001b[0m\u001b[0m\n\u001b[0;32m----> 9\u001b[0;31m \u001b[0mplt\u001b[0m\u001b[0;34m.\u001b[0m\u001b[0mplot\u001b[0m\u001b[0;34m(\u001b[0m\u001b[0mparams\u001b[0m\u001b[0;34m,\u001b[0m \u001b[0mnp\u001b[0m\u001b[0;34m.\u001b[0m\u001b[0marray\u001b[0m\u001b[0;34m(\u001b[0m\u001b[0mweights\u001b[0m\u001b[0;34m)\u001b[0m\u001b[0;34m.\u001b[0m\u001b[0mT\u001b[0m\u001b[0;34m[\u001b[0m\u001b[0;36m0\u001b[0m\u001b[0;34m]\u001b[0m\u001b[0;34m,\u001b[0m \u001b[0mlabel\u001b[0m\u001b[0;34m=\u001b[0m\u001b[0;34m'petal length'\u001b[0m\u001b[0;34m)\u001b[0m\u001b[0;34m\u001b[0m\u001b[0;34m\u001b[0m\u001b[0m\n\u001b[0m\u001b[1;32m     10\u001b[0m \u001b[0mplt\u001b[0m\u001b[0;34m.\u001b[0m\u001b[0mplot\u001b[0m\u001b[0;34m(\u001b[0m\u001b[0mparams\u001b[0m\u001b[0;34m,\u001b[0m \u001b[0mnp\u001b[0m\u001b[0;34m.\u001b[0m\u001b[0marray\u001b[0m\u001b[0;34m(\u001b[0m\u001b[0mweights\u001b[0m\u001b[0;34m)\u001b[0m\u001b[0;34m.\u001b[0m\u001b[0mT\u001b[0m\u001b[0;34m[\u001b[0m\u001b[0;36m1\u001b[0m\u001b[0;34m]\u001b[0m\u001b[0;34m,\u001b[0m \u001b[0mlinestyle\u001b[0m\u001b[0;34m=\u001b[0m\u001b[0;34m'--'\u001b[0m\u001b[0;34m,\u001b[0m \u001b[0mlabel\u001b[0m\u001b[0;34m=\u001b[0m\u001b[0;34m'petal width'\u001b[0m\u001b[0;34m)\u001b[0m\u001b[0;34m\u001b[0m\u001b[0;34m\u001b[0m\u001b[0m\n\u001b[1;32m     11\u001b[0m \u001b[0;34m\u001b[0m\u001b[0m\n",
      "\u001b[0;32m/opt/anaconda3/lib/python3.9/site-packages/matplotlib/pyplot.py\u001b[0m in \u001b[0;36mplot\u001b[0;34m(scalex, scaley, data, *args, **kwargs)\u001b[0m\n\u001b[1;32m   3017\u001b[0m \u001b[0;34m@\u001b[0m\u001b[0m_copy_docstring_and_deprecators\u001b[0m\u001b[0;34m(\u001b[0m\u001b[0mAxes\u001b[0m\u001b[0;34m.\u001b[0m\u001b[0mplot\u001b[0m\u001b[0;34m)\u001b[0m\u001b[0;34m\u001b[0m\u001b[0;34m\u001b[0m\u001b[0m\n\u001b[1;32m   3018\u001b[0m \u001b[0;32mdef\u001b[0m \u001b[0mplot\u001b[0m\u001b[0;34m(\u001b[0m\u001b[0;34m*\u001b[0m\u001b[0margs\u001b[0m\u001b[0;34m,\u001b[0m \u001b[0mscalex\u001b[0m\u001b[0;34m=\u001b[0m\u001b[0;32mTrue\u001b[0m\u001b[0;34m,\u001b[0m \u001b[0mscaley\u001b[0m\u001b[0;34m=\u001b[0m\u001b[0;32mTrue\u001b[0m\u001b[0;34m,\u001b[0m \u001b[0mdata\u001b[0m\u001b[0;34m=\u001b[0m\u001b[0;32mNone\u001b[0m\u001b[0;34m,\u001b[0m \u001b[0;34m**\u001b[0m\u001b[0mkwargs\u001b[0m\u001b[0;34m)\u001b[0m\u001b[0;34m:\u001b[0m\u001b[0;34m\u001b[0m\u001b[0;34m\u001b[0m\u001b[0m\n\u001b[0;32m-> 3019\u001b[0;31m     return gca().plot(\n\u001b[0m\u001b[1;32m   3020\u001b[0m         \u001b[0;34m*\u001b[0m\u001b[0margs\u001b[0m\u001b[0;34m,\u001b[0m \u001b[0mscalex\u001b[0m\u001b[0;34m=\u001b[0m\u001b[0mscalex\u001b[0m\u001b[0;34m,\u001b[0m \u001b[0mscaley\u001b[0m\u001b[0;34m=\u001b[0m\u001b[0mscaley\u001b[0m\u001b[0;34m,\u001b[0m\u001b[0;34m\u001b[0m\u001b[0;34m\u001b[0m\u001b[0m\n\u001b[1;32m   3021\u001b[0m         **({\"data\": data} if data is not None else {}), **kwargs)\n",
      "\u001b[0;32m/opt/anaconda3/lib/python3.9/site-packages/matplotlib/axes/_axes.py\u001b[0m in \u001b[0;36mplot\u001b[0;34m(self, scalex, scaley, data, *args, **kwargs)\u001b[0m\n\u001b[1;32m   1603\u001b[0m         \"\"\"\n\u001b[1;32m   1604\u001b[0m         \u001b[0mkwargs\u001b[0m \u001b[0;34m=\u001b[0m \u001b[0mcbook\u001b[0m\u001b[0;34m.\u001b[0m\u001b[0mnormalize_kwargs\u001b[0m\u001b[0;34m(\u001b[0m\u001b[0mkwargs\u001b[0m\u001b[0;34m,\u001b[0m \u001b[0mmlines\u001b[0m\u001b[0;34m.\u001b[0m\u001b[0mLine2D\u001b[0m\u001b[0;34m)\u001b[0m\u001b[0;34m\u001b[0m\u001b[0;34m\u001b[0m\u001b[0m\n\u001b[0;32m-> 1605\u001b[0;31m         \u001b[0mlines\u001b[0m \u001b[0;34m=\u001b[0m \u001b[0;34m[\u001b[0m\u001b[0;34m*\u001b[0m\u001b[0mself\u001b[0m\u001b[0;34m.\u001b[0m\u001b[0m_get_lines\u001b[0m\u001b[0;34m(\u001b[0m\u001b[0;34m*\u001b[0m\u001b[0margs\u001b[0m\u001b[0;34m,\u001b[0m \u001b[0mdata\u001b[0m\u001b[0;34m=\u001b[0m\u001b[0mdata\u001b[0m\u001b[0;34m,\u001b[0m \u001b[0;34m**\u001b[0m\u001b[0mkwargs\u001b[0m\u001b[0;34m)\u001b[0m\u001b[0;34m]\u001b[0m\u001b[0;34m\u001b[0m\u001b[0;34m\u001b[0m\u001b[0m\n\u001b[0m\u001b[1;32m   1606\u001b[0m         \u001b[0;32mfor\u001b[0m \u001b[0mline\u001b[0m \u001b[0;32min\u001b[0m \u001b[0mlines\u001b[0m\u001b[0;34m:\u001b[0m\u001b[0;34m\u001b[0m\u001b[0;34m\u001b[0m\u001b[0m\n\u001b[1;32m   1607\u001b[0m             \u001b[0mself\u001b[0m\u001b[0;34m.\u001b[0m\u001b[0madd_line\u001b[0m\u001b[0;34m(\u001b[0m\u001b[0mline\u001b[0m\u001b[0;34m)\u001b[0m\u001b[0;34m\u001b[0m\u001b[0;34m\u001b[0m\u001b[0m\n",
      "\u001b[0;32m/opt/anaconda3/lib/python3.9/site-packages/matplotlib/axes/_base.py\u001b[0m in \u001b[0;36m__call__\u001b[0;34m(self, data, *args, **kwargs)\u001b[0m\n\u001b[1;32m    313\u001b[0m                 \u001b[0mthis\u001b[0m \u001b[0;34m+=\u001b[0m \u001b[0margs\u001b[0m\u001b[0;34m[\u001b[0m\u001b[0;36m0\u001b[0m\u001b[0;34m]\u001b[0m\u001b[0;34m,\u001b[0m\u001b[0;34m\u001b[0m\u001b[0;34m\u001b[0m\u001b[0m\n\u001b[1;32m    314\u001b[0m                 \u001b[0margs\u001b[0m \u001b[0;34m=\u001b[0m \u001b[0margs\u001b[0m\u001b[0;34m[\u001b[0m\u001b[0;36m1\u001b[0m\u001b[0;34m:\u001b[0m\u001b[0;34m]\u001b[0m\u001b[0;34m\u001b[0m\u001b[0;34m\u001b[0m\u001b[0m\n\u001b[0;32m--> 315\u001b[0;31m             \u001b[0;32myield\u001b[0m \u001b[0;32mfrom\u001b[0m \u001b[0mself\u001b[0m\u001b[0;34m.\u001b[0m\u001b[0m_plot_args\u001b[0m\u001b[0;34m(\u001b[0m\u001b[0mthis\u001b[0m\u001b[0;34m,\u001b[0m \u001b[0mkwargs\u001b[0m\u001b[0;34m)\u001b[0m\u001b[0;34m\u001b[0m\u001b[0;34m\u001b[0m\u001b[0m\n\u001b[0m\u001b[1;32m    316\u001b[0m \u001b[0;34m\u001b[0m\u001b[0m\n\u001b[1;32m    317\u001b[0m     \u001b[0;32mdef\u001b[0m \u001b[0mget_next_color\u001b[0m\u001b[0;34m(\u001b[0m\u001b[0mself\u001b[0m\u001b[0;34m)\u001b[0m\u001b[0;34m:\u001b[0m\u001b[0;34m\u001b[0m\u001b[0;34m\u001b[0m\u001b[0m\n",
      "\u001b[0;32m/opt/anaconda3/lib/python3.9/site-packages/matplotlib/axes/_base.py\u001b[0m in \u001b[0;36m_plot_args\u001b[0;34m(self, tup, kwargs, return_kwargs)\u001b[0m\n\u001b[1;32m    499\u001b[0m \u001b[0;34m\u001b[0m\u001b[0m\n\u001b[1;32m    500\u001b[0m         \u001b[0;32mif\u001b[0m \u001b[0mx\u001b[0m\u001b[0;34m.\u001b[0m\u001b[0mshape\u001b[0m\u001b[0;34m[\u001b[0m\u001b[0;36m0\u001b[0m\u001b[0;34m]\u001b[0m \u001b[0;34m!=\u001b[0m \u001b[0my\u001b[0m\u001b[0;34m.\u001b[0m\u001b[0mshape\u001b[0m\u001b[0;34m[\u001b[0m\u001b[0;36m0\u001b[0m\u001b[0;34m]\u001b[0m\u001b[0;34m:\u001b[0m\u001b[0;34m\u001b[0m\u001b[0;34m\u001b[0m\u001b[0m\n\u001b[0;32m--> 501\u001b[0;31m             raise ValueError(f\"x and y must have same first dimension, but \"\n\u001b[0m\u001b[1;32m    502\u001b[0m                              f\"have shapes {x.shape} and {y.shape}\")\n\u001b[1;32m    503\u001b[0m         \u001b[0;32mif\u001b[0m \u001b[0mx\u001b[0m\u001b[0;34m.\u001b[0m\u001b[0mndim\u001b[0m \u001b[0;34m>\u001b[0m \u001b[0;36m2\u001b[0m \u001b[0;32mor\u001b[0m \u001b[0my\u001b[0m\u001b[0;34m.\u001b[0m\u001b[0mndim\u001b[0m \u001b[0;34m>\u001b[0m \u001b[0;36m2\u001b[0m\u001b[0;34m:\u001b[0m\u001b[0;34m\u001b[0m\u001b[0;34m\u001b[0m\u001b[0m\n",
      "\u001b[0;31mValueError\u001b[0m: x and y must have same first dimension, but have shapes (0,) and (2,)"
     ]
    },
    {
     "data": {
      "image/png": "[encoded data removed]",
      "text/plain": [
       "<Figure size 432x288 with 1 Axes>"
      ]
     },
     "metadata": {
      "needs_background": "light"
     },
     "output_type": "display_data"
    }
   ],
   "source": [
    "weights, params = [], []\n",
    "for c in np.arange(-5, 5):\n",
    "    lr = LogisticRegression(C=10.**c, random_state=1, multi_class='ovr')\n",
    "    lr.fit(X_train_std, y_train)\n",
    "    weights.append(lr.coef_[1])\n",
    "    weights.append(10.**c)\n",
    "\n",
    "\n",
    "plt.plot(params, np.array(weights).T[0], label='petal length')\n",
    "plt.plot(params, np.array(weights).T[1], linestyle='--', label='petal width')\n",
    "\n",
    "plt.ylabel('weight coefficient')\n",
    "plt.xlabel('C')\n",
    "plt.legend(loc = 'upper left')\n",
    "plt.xscale('log')\n",
    "plt.show()\n",
    "    "
   ]
  },
  {
   "cell_type": "code",
   "execution_count": null,
   "id": "18195977",
   "metadata": {},
   "outputs": [],
   "source": []
  },
  {
   "cell_type": "code",
   "execution_count": null,
   "id": "8b06c443",
   "metadata": {},
   "outputs": [],
   "source": []
  }
 ],
 "metadata": {
  "kernelspec": {
   "display_name": "Python 3 (ipykernel)",
   "language": "python",
   "name": "python3"
  },
  "language_info": {
   "codemirror_mode": {
    "name": "ipython",
    "version": 3
   },
   "file_extension": ".py",
   "mimetype": "text/x-python",
   "name": "python",
   "nbconvert_exporter": "python",
   "pygments_lexer": "ipython3",
   "version": "3.9.7"
  }
 },
 "nbformat": 4,
 "nbformat_minor": 5
}
