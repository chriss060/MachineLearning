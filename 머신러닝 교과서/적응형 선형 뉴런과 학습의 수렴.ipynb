{
 "cells": [
  {
   "cell_type": "markdown",
   "id": "15c0be5a",
   "metadata": {},
   "source": [
    "# 1. 파이썬으로 아달린 구현"
   ]
  },
  {
   "cell_type": "markdown",
   "id": "4ef10f3d",
   "metadata": {},
   "source": [
    "## 아달린(ADAptive LInear Neuron)\n",
    "\n",
    "### : 단일 신경망 중 하나로 연속함수로 cost함수 정의,  최소화 개념 사용"
   ]
  },
  {
   "cell_type": "markdown",
   "id": "b73305a1",
   "metadata": {},
   "source": [
    "### (1) 아달린 규칙\n",
    "\n",
    "     1. 선형활성화 함수 사용: 단순 항등함수, 실수 레이블\n",
    "     2. 아달린 알고리즘은 진짜 class lable과 선형 활성화함수 실수출력값을 비교하여 모델 오차를 계산\n",
    "        (퍼셉트론은 진짜 class lable과 예측 class lable 비교)\n",
    "\n",
    "### (2) 경사하강법\n",
    "\n",
    "    : cost 함수의 gradient가 반대방향으로 조금씩 가중치를 업데이트하는 방식\n",
    "    *배치경사하강법 : 훈련세트의 모든 샘플을 기반으로 가중치 업데이트 계산하는 방식"
   ]
  },
  {
   "cell_type": "markdown",
   "id": "5da32a02",
   "metadata": {},
   "source": [
    "### 1. 데이터셋 준비하기 "
   ]
  },
  {
   "cell_type": "code",
   "execution_count": 1,
   "id": "40f9af4e",
   "metadata": {},
   "outputs": [],
   "source": [
    "import os\n",
    "import pandas as pd\n",
    "\n",
    "s = os.path.join('https://archive.ics.uci.edu', 'ml', 'machine-learning-databases', 'iris', 'iris.data')\n",
    "\n",
    "df = pd.read_csv(s, header=None, encoding='utf-8')\n",
    "\n",
    "import matplotlib.pyplot as plt\n",
    "import numpy as np\n",
    "\n",
    "#setosa와 versicolor 선택\n",
    "y = df.iloc[0:100, 4].values\n",
    "y = np.where( y == 'Iris-setosa', -1, 1)\n",
    "\n",
    "#꽃받침 길이와 꽃잎 길이 추출\n",
    "X = df.iloc[0:100, [0,2]].values"
   ]
  },
  {
   "cell_type": "markdown",
   "id": "131a3eb8",
   "metadata": {},
   "source": [
    "### 2. 아달린 구현"
   ]
  },
  {
   "cell_type": "code",
   "execution_count": 2,
   "id": "af0e742d",
   "metadata": {},
   "outputs": [],
   "source": [
    "#아달린 구현\n",
    "class AdalineGD(object):\n",
    "    \n",
    "    #학습률 : 0.01, epoch: 50번\n",
    "    def __init__(self, eta=0.01, n_iter=50, random_state=1): \n",
    "        self.eta=eta\n",
    "        self.n_iter = n_iter\n",
    "        self.random_state = random_state\n",
    "    \n",
    "    #훈련 데이터 학습\n",
    "    def fit(self, X, y):\n",
    "        rgen = np.random.RandomState(self.random_state)\n",
    "        self.w_ = rgen.normal(loc=0.0, scale=0.01, size=1+X.shape[1])\n",
    "        self.cost_ = [] #cost값을 리스트로 모음\n",
    "        \n",
    "        for i in range(self.n_iter):\n",
    "            net_input = self.net_input(X)\n",
    "            output = self.activation(net_input)\n",
    "            errors = (y-output)\n",
    "            \n",
    "            #가중치 업데이트\n",
    "            self.w_[1:]+= self.eta*X.T.dot(errors)\n",
    "            self.w_[0] += self.eta*errors.sum()\n",
    "            #비용함수 구현\n",
    "            cost=(errors**2).sum()/2.0\n",
    "            self.cost_.append(cost)\n",
    "        \n",
    "        return self\n",
    "    \n",
    "    def net_input(self, X): #최종입력함수 \n",
    "        return np.dot(X, self.w_[1:])+self.w_[0]\n",
    "    \n",
    "    def activation(self, X): #선형활성화함수 f(x)=x\n",
    "        return X\n",
    "    \n",
    "    def predict(self, X): #단위계단함수로 임계함수 구현\n",
    "        return np.where(self.activation(self.net_input(X))>=0.0,1,-1)\n",
    "        "
   ]
  },
  {
   "cell_type": "markdown",
   "id": "ae598629",
   "metadata": {},
   "source": [
    "## (2) 최적으로 수렴하는 학습률(learning rate) 찾기\n",
    "\n",
    "### eta가 0.1, eta가 0.0001 일 때의 에포크 대비 cost함수를 그래프화 하기\n",
    "\n"
   ]
  },
  {
   "cell_type": "code",
   "execution_count": 3,
   "id": "c0d6a177",
   "metadata": {},
   "outputs": [
    {
     "data": {
      "image/png": "[encoded data removed]",
      "text/plain": [
       "<Figure size 720x288 with 2 Axes>"
      ]
     },
     "metadata": {
      "needs_background": "light"
     },
     "output_type": "display_data"
    }
   ],
   "source": [
    "fig, ax =plt.subplots(nrows=1, ncols=2, figsize=(10,4))\n",
    "\n",
    "#eta=0.1인 아달린 모델 그래프\n",
    "ada1 = AdalineGD(n_iter=10, eta=0.01).fit(X,y)\n",
    "ax[0].plot(range(1, len(ada1.cost_)+1),np.log10(ada1.cost_), marker='o')\n",
    "\n",
    "ax[0].set_xlabel('Epoch') #x축 :epoch\n",
    "ax[0].set_ylabel('log(Sum-squared-error)') #y축: log(cost함수)\n",
    "ax[0].set_title('Adaline - Learning rate 0.01')\n",
    "\n",
    "#eta=0.0001인 아달린 모델 그래프\n",
    "ada2 = AdalineGD(n_iter=10, eta=0.0001).fit(X,y)\n",
    "ax[1].plot(range(1, len(ada2.cost_)+1),np.log10(ada2.cost_), marker='o')\n",
    "\n",
    "ax[1].set_xlabel('Epoch') #x축 :epoch\n",
    "ax[1].set_ylabel('log(Sum-squared-error)') #y축: log(cost함수)\n",
    "ax[1].set_title('Adaline - Learning rate 0.0001')\n",
    "\n",
    "plt.show()"
   ]
  },
  {
   "cell_type": "markdown",
   "id": "14777414",
   "metadata": {},
   "source": [
    "#### (1) eta가 0.1 일 때(학습률이 너무 클 때)\n",
    "\n",
    "        :비용함수(y값)가 최소화되지 못하고 epoch마다 오차가 증가함.\n",
    "        -> 전역 최솟값을 지남\n",
    "\n",
    "#### (2) eta가 0.0001 일 때(학습률이 너무 작을 때)\n",
    "\n",
    "        :비용이 감소하지만 전역 최솟값에 수렴하려면 epoch값이 많이 커야하는 단점이 존재함."
   ]
  },
  {
   "cell_type": "markdown",
   "id": "9e95d086",
   "metadata": {},
   "source": [
    "## (3) 특성스케일  조정으로 경사하강법 결과 향상"
   ]
  },
  {
   "cell_type": "markdown",
   "id": "a46ba7bd",
   "metadata": {},
   "source": [
    "### 1) 표준화 특성 스케일 방법\n",
    "####    : 데이터에 평균이 0, 단위 분산을 갖는 표준 정규분포 성질 부여 -> 경사하강법 학습의 수렴 촉진\n",
    "\n",
    "#### [표준화 코드]"
   ]
  },
  {
   "cell_type": "code",
   "execution_count": 4,
   "id": "f836cf4e",
   "metadata": {},
   "outputs": [],
   "source": [
    "X_std = np.copy(X)\n",
    "X_std[:, 0] = (X[:,0]-X[:,0].mean())/X[:,0].std()\n",
    "X_std[:, 1] = (X[:,1]-X[:,1].mean())/X[:,1].std()"
   ]
  },
  {
   "cell_type": "markdown",
   "id": "66647f9b",
   "metadata": {},
   "source": [
    "### 2) 표준화 후 아달린 모델 훈련, 학습률이 0.01일때 수렴 epoch 확인"
   ]
  },
  {
   "cell_type": "code",
   "execution_count": 6,
   "id": "71e5fe7b",
   "metadata": {},
   "outputs": [],
   "source": [
    "#결정경계 시각화 함수 : plot_decision_regions \n",
    "from matplotlib.colors import ListedColormap\n",
    "\n",
    "def plot_decision_regions(X, y, classifier, resolution=0.02):\n",
    "    \n",
    "    markers = ('s','x','o','^','v')\n",
    "    colors = ('red','blue','lightgreen','gray','cyan')\n",
    "    cmap = ListedColormap(colors[:len(np.unique(y))])\n",
    "    \n",
    "    x1_min, x1_max = X[:, 0].min()-1, X[:,0].max()+1\n",
    "    x2_min, x2_max = X[:,1].min()-1, X[:,1].max()+1\n",
    "    \n",
    "    xx1, xx2 = np.meshgrid(np.arange(x1_min, x1_max, resolution),np.arange(x2_min, x2_max, resolution))\n",
    "    \n",
    "    Z =classifier.predict(np.array([xx1.ravel(),xx2.ravel()]).T)\n",
    "    Z = Z.reshape(xx1.shape)\n",
    "    \n",
    "    plt.contourf(xx1, xx2, Z, alpha=0.3, cmap=cmap)\n",
    "    plt.xlim(xx1.min(), xx1.max())\n",
    "    plt.ylim(xx2.min(), xx2.max())\n",
    "    \n",
    "    for idx, c1 in enumerate(np.unique(y)):\n",
    "        plt.scatter(x=X[y==c1, 0], y=X[y==c1,1], alpha=0.8, \n",
    "                    c=colors[idx], marker=markers[idx], label=c1, edgecolor='black')"
   ]
  },
  {
   "cell_type": "code",
   "execution_count": 7,
   "id": "2313bec6",
   "metadata": {},
   "outputs": [
    {
     "name": "stderr",
     "output_type": "stream",
     "text": [
      "/var/folders/6q/cy3y3kyx3218xz2ymsd6n8jc0000gn/T/ipykernel_981/1095293938.py:23: UserWarning: You passed a edgecolor/edgecolors ('black') for an unfilled marker ('x').  Matplotlib is ignoring the edgecolor in favor of the facecolor.  This behavior may change in the future.\n",
      "  plt.scatter(x=X[y==c1, 0], y=X[y==c1,1], alpha=0.8,\n"
     ]
    },
    {
     "data": {
      "image/png": "[encoded data removed]",
      "text/plain": [
       "<Figure size 432x288 with 1 Axes>"
      ]
     },
     "metadata": {
      "needs_background": "light"
     },
     "output_type": "display_data"
    },
    {
     "data": {
      "image/png": "[encoded data removed]",
      "text/plain": [
       "<Figure size 432x288 with 1 Axes>"
      ]
     },
     "metadata": {
      "needs_background": "light"
     },
     "output_type": "display_data"
    }
   ],
   "source": [
    "#표준화된 아달린으로 훈련\n",
    "ada = AdalineGD(n_iter=15, eta=0.01)\n",
    "ada.fit(X_std, y)\n",
    "\n",
    "#결정경계 시각화 \n",
    "plot_decision_regions(X_std, y, classifier=ada)\n",
    "plt.title('Adaline - Gradient Descent')\n",
    "plt.xlabel('sepal length [standardized]')\n",
    "plt.ylabel('petal length [standardized]')\n",
    "plt.legend(loc='upper left')\n",
    "plt.tight_layout()\n",
    "plt.show()\n",
    "\n",
    "#Epoch대비 SSE 시각화\n",
    "plt.plot(range(1, len(ada.cost_)+1),ada.cost_, marker='o')\n",
    "plt.xlabel('Epoch')\n",
    "plt.ylabel('Sum-Squared-Error')\n",
    "plt.tight_layout()\n",
    "plt.show()\n"
   ]
  },
  {
   "cell_type": "markdown",
   "id": "9d134890",
   "metadata": {},
   "source": [
    "#### [결과] : 모든 sample 완벽하게 분류되지만 SSE(sum-squared-error)는 0이 되지 않음"
   ]
  },
  {
   "cell_type": "markdown",
   "id": "1cc7abda",
   "metadata": {},
   "source": [
    "# 2. 대규모 머신러닝과 확률적 경사 하강법"
   ]
  },
  {
   "cell_type": "markdown",
   "id": "284128b7",
   "metadata": {},
   "source": [
    "### (1) 확률적 경사하강법(Stochastic gradient descent)\n",
    "\n",
    "####  : 모든 샘플에 대하여 누적된 오차 합을 기반으로 가중치를 업데이트하는 대신\n",
    "####     각 훈련 샘플에 대해 조금씩 가중치 업데이트 -> 수렴속도가 더 빠름\n",
    "\n",
    "#### * 새로운 훈련 데이터가 도착하는 대로 훈련하는 온라인 학습(online learning)에도 사용가능"
   ]
  },
  {
   "cell_type": "markdown",
   "id": "923fa21c",
   "metadata": {},
   "source": [
    "### (2) 아달린 모델에서 확률적 경사 하강법으로 가중치 업데이트\n",
    "\n",
    "#### 1) fit 메서드에서 각 훈련 샘플에 대해 가중치 업데이트\n",
    "#### 2) partial_fit( ) : 가중치를 다시 초기화하지 않는 메서드, 온라인 학습에서 사용가능\n",
    "#### 3) 훈련 후 알고리즘 수렴 확인을 위해 epoch 마다 훈련 sample 평균 비용 계산\n",
    "#### 4) 순환 방지를 위해 epoch가 일어나기 전에 훈련 샘플을 섞는 옵션 추가\n",
    "\n",
    "\n",
    "#### [1] 매개변수 \n",
    "\n",
    "      1. eta : 학습률(learning rate), 보통 0.0 ~ 1.0 사이 값으로 지정\n",
    "      2. n_iter : 훈련 데이터 반복 횟수(epoch)\n",
    "      3. random_state : 가중치 무작위 초기화를 위한 난수 생성 시드\n",
    "      4. shuffle (default:True) : True로 설정하면 같은 반복이 되지 않도록 에포크마다 훈련데이터 섞음\n",
    "\n",
    "#### [2]  속성\n",
    "\n",
    "      1. W_ : 학습된 가중치 (1d-array로 구현)\n",
    "      2. cost_ : 모든 훈련 샘플에 대해 에포크마다 누적된 평균비용함수의 제곱합"
   ]
  },
  {
   "cell_type": "code",
   "execution_count": 11,
   "id": "46506a99",
   "metadata": {},
   "outputs": [],
   "source": [
    "class AdalineSGD(object):\n",
    "    \n",
    "    def __init__(self, eta=0.01, n_iter=10, shuffle=True, random_state=None):\n",
    "        self.eta = eta\n",
    "        self.n_iter = n_iter\n",
    "        self.w_initialized = False\n",
    "        self.shuffle = shuffle\n",
    "        self.random_state = random_state\n",
    "    \n",
    "    def fit(self, X, y):\n",
    "        self._initialize_weights(X.shape[1])\n",
    "        self.cost_ = []\n",
    "        \n",
    "        for i in range(self.n_iter):\n",
    "            if self.shuffle:\n",
    "                X,y = self._shuffle(X,y)\n",
    "            \n",
    "            cost = []\n",
    "            for xi, target in zip(X,y):\n",
    "                cost.append(self._update_weights(xi, target))\n",
    "            \n",
    "            avg_cost = sum(cost)/len(y)\n",
    "            self.cost_.append(avg_cost)\n",
    "        \n",
    "        return self\n",
    "\n",
    "    def partial_fit(self, X, y):\n",
    "        \"\"\"가중치를 다시 초기화하지 않고 훈련 데이터 학습\"\"\"\n",
    "        if not self.w_initialized:\n",
    "            self._initialize_weights(X.shape[1])\n",
    "        if y.ravel().shape[0]>1:\n",
    "            for xi, target in zip(X,y):\n",
    "                self.update_weights(xi, target)\n",
    "        else:\n",
    "            self._update_weights(X,y)\n",
    "        \n",
    "        return self\n",
    "\n",
    "    def _shuffle(self, X, y):\n",
    "        \n",
    "        r = self.rgen.permutation(len(y))\n",
    "        return X[r], y[r]\n",
    "    \n",
    "    def _initialize_weights(self, m):\n",
    "        \n",
    "        self.rgen = np.random.RandomState(self.random_state)\n",
    "        self.w_ = self.rgen.normal(loc=0.0, scale=0.01, size=1+m)\n",
    "        self.w_initialized = True\n",
    "    \n",
    "    def _update_weights(self, xi, target):\n",
    "        \n",
    "        output = self.activation(self.net_input(xi))\n",
    "        error = (target - output)\n",
    "        self.w_[1:] += self.eta * xi.dot(error)\n",
    "        self.w_[0] += self.eta*error\n",
    "        cost = 0.5*error**2\n",
    "        \n",
    "        return cost\n",
    "    \n",
    "    def net_input(self, X):\n",
    "        return np.dot(X, self.w_[1:])+self.w_[0]\n",
    "    \n",
    "    def activation(self, X):\n",
    "        return X\n",
    "    \n",
    "    def predict(self, X):\n",
    "        #단위계단함수로 클래스 레이블 반환\n",
    "        return np.where(self.activation(self.net_input(X))>=0.0, 1, -1)\n",
    "    \n",
    "    "
   ]
  },
  {
   "cell_type": "code",
   "execution_count": 12,
   "id": "296b3d25",
   "metadata": {},
   "outputs": [
    {
     "name": "stderr",
     "output_type": "stream",
     "text": [
      "/var/folders/6q/cy3y3kyx3218xz2ymsd6n8jc0000gn/T/ipykernel_981/1095293938.py:23: UserWarning: You passed a edgecolor/edgecolors ('black') for an unfilled marker ('x').  Matplotlib is ignoring the edgecolor in favor of the facecolor.  This behavior may change in the future.\n",
      "  plt.scatter(x=X[y==c1, 0], y=X[y==c1,1], alpha=0.8,\n"
     ]
    },
    {
     "data": {
      "image/png": "[encoded data removed]",
      "text/plain": [
       "<Figure size 432x288 with 1 Axes>"
      ]
     },
     "metadata": {
      "needs_background": "light"
     },
     "output_type": "display_data"
    },
    {
     "data": {
      "image/png": "[encoded data removed]",
      "text/plain": [
       "<Figure size 432x288 with 1 Axes>"
      ]
     },
     "metadata": {
      "needs_background": "light"
     },
     "output_type": "display_data"
    }
   ],
   "source": [
    "ada = AdalineSGD(n_iter=15, eta=0.01, random_state=1)\n",
    "ada.fit(X_std, y)\n",
    "\n",
    "#결정경계 시각화 \n",
    "plot_decision_regions(X_std, y, classifier=ada)\n",
    "plt.title('Adaline - Stochastic Gradient Descent')\n",
    "plt.xlabel('sepal length [standardized]')\n",
    "plt.ylabel('petal length [standardized]')\n",
    "plt.legend(loc='upper left')\n",
    "plt.tight_layout()\n",
    "plt.show()\n",
    "\n",
    "#Epoch대비 SSE 시각화\n",
    "plt.plot(range(1, len(ada.cost_)+1),ada.cost_, marker='o')\n",
    "plt.xlabel('Epoch')\n",
    "plt.ylabel('Average Cost')\n",
    "plt.tight_layout()\n",
    "plt.show()\n"
   ]
  },
  {
   "cell_type": "code",
   "execution_count": null,
   "id": "25caffa6",
   "metadata": {},
   "outputs": [],
   "source": []
  }
 ],
 "metadata": {
  "kernelspec": {
   "display_name": "Python 3 (ipykernel)",
   "language": "python",
   "name": "python3"
  },
  "language_info": {
   "codemirror_mode": {
    "name": "ipython",
    "version": 3
   },
   "file_extension": ".py",
   "mimetype": "text/x-python",
   "name": "python",
   "nbconvert_exporter": "python",
   "pygments_lexer": "ipython3",
   "version": "3.9.7"
  }
 },
 "nbformat": 4,
 "nbformat_minor": 5
}
